{
 "cells": [
  {
   "cell_type": "markdown",
   "metadata": {},
   "source": [
    "# Avance 3. Baseline\n",
    "# Clasificación de Texto para Requerimientos Aeroespaciales\n",
    "\n",
    "<table>\n",
    "    <tr>\n",
    "        <th>\n",
    "            Nombre\n",
    "        </th>\n",
    "        <th>\n",
    "            Matrícula\n",
    "        </th>\n",
    "    </tr>\n",
    "    <tr>\n",
    "        <td>\n",
    "            Julio César Lynn Jiménez\n",
    "        </td>\n",
    "        <td>\n",
    "            A01793660\n",
    "        </td>\n",
    "    </tr>\n",
    "</table>\t\n",
    "\n",
    "\t\n"
   ]
  },
  {
   "cell_type": "markdown",
   "id": "682cc4d4-ebb1-4e48-b84e-1e62006da233",
   "metadata": {},
   "source": [
    "# Prerequisites"
   ]
  },
  {
   "cell_type": "code",
   "execution_count": 1,
   "id": "f61331a7-f1dd-442e-b58a-a5adb337fec1",
   "metadata": {},
   "outputs": [],
   "source": [
    "import os\n",
    "os.environ['CUDA_LAUNCH_BLOCKING'] = \"1\"\n",
    "os.environ[\"CUDA_VISIBLE_DEVICES\"] = \"0\""
   ]
  },
  {
   "cell_type": "code",
   "execution_count": 2,
   "id": "873ec5c8-c16a-4697-86b5-e22292d3266a",
   "metadata": {},
   "outputs": [],
   "source": [
    "import torch\n",
    "import torch.nn as nn\n",
    "from torch.utils.data import DataLoader\n",
    "\n",
    "import numpy as np"
   ]
  },
  {
   "cell_type": "code",
   "execution_count": 3,
   "id": "edd5b450-0317-4c55-847e-7723042940f1",
   "metadata": {},
   "outputs": [
    {
     "name": "stdout",
     "output_type": "stream",
     "text": [
      "cuda\n"
     ]
    }
   ],
   "source": [
    "if torch.cuda.is_available():\n",
    "    device = torch.device('cuda')\n",
    "else:\n",
    "    device = torch.device('cpu')\n",
    "print(device)"
   ]
  },
  {
   "cell_type": "markdown",
   "id": "97c439d2-2280-4823-90dd-0867012b907c",
   "metadata": {},
   "source": [
    "# Load Excel File"
   ]
  },
  {
   "cell_type": "code",
   "execution_count": 4,
   "id": "a715f751-ab65-45a3-ae17-c795b8c78d1c",
   "metadata": {},
   "outputs": [
    {
     "data": {
      "text/html": [
       "<div>\n",
       "<style scoped>\n",
       "    .dataframe tbody tr th:only-of-type {\n",
       "        vertical-align: middle;\n",
       "    }\n",
       "\n",
       "    .dataframe tbody tr th {\n",
       "        vertical-align: top;\n",
       "    }\n",
       "\n",
       "    .dataframe thead th {\n",
       "        text-align: right;\n",
       "    }\n",
       "</style>\n",
       "<table border=\"1\" class=\"dataframe\">\n",
       "  <thead>\n",
       "    <tr style=\"text-align: right;\">\n",
       "      <th></th>\n",
       "      <th>Type</th>\n",
       "      <th>Identity</th>\n",
       "      <th>Text</th>\n",
       "      <th>A2-Unambiguous</th>\n",
       "      <th>A4-Tolerances</th>\n",
       "      <th>A5-Sources specified</th>\n",
       "      <th>E1</th>\n",
       "    </tr>\n",
       "  </thead>\n",
       "  <tbody>\n",
       "    <tr>\n",
       "      <th>0</th>\n",
       "      <td>ast_adc</td>\n",
       "      <td>HLRS_1747</td>\n",
       "      <td>Massive Data Broadcast shall immediately send ...</td>\n",
       "      <td>1</td>\n",
       "      <td>na</td>\n",
       "      <td>1</td>\n",
       "      <td>1</td>\n",
       "    </tr>\n",
       "    <tr>\n",
       "      <th>1</th>\n",
       "      <td>ast_adc</td>\n",
       "      <td>HLRS_6673</td>\n",
       "      <td>Massive Data Broadcast shall place a copied Re...</td>\n",
       "      <td>1</td>\n",
       "      <td>na</td>\n",
       "      <td>1</td>\n",
       "      <td>1</td>\n",
       "    </tr>\n",
       "    <tr>\n",
       "      <th>2</th>\n",
       "      <td>ast_adc</td>\n",
       "      <td>HLRS_2470</td>\n",
       "      <td>Massive Data Broadcast shall place a copied Ma...</td>\n",
       "      <td>1</td>\n",
       "      <td>na</td>\n",
       "      <td>1</td>\n",
       "      <td>1</td>\n",
       "    </tr>\n",
       "    <tr>\n",
       "      <th>3</th>\n",
       "      <td>ast_adc</td>\n",
       "      <td>HLRS_2467</td>\n",
       "      <td>Massive Data Broadcast shall send the current ...</td>\n",
       "      <td>1</td>\n",
       "      <td>na</td>\n",
       "      <td>na</td>\n",
       "      <td>1</td>\n",
       "    </tr>\n",
       "    <tr>\n",
       "      <th>4</th>\n",
       "      <td>ast_adc</td>\n",
       "      <td>HLRS_2468</td>\n",
       "      <td>Massive Data Broadcast shall send the current ...</td>\n",
       "      <td>1</td>\n",
       "      <td>na</td>\n",
       "      <td>na</td>\n",
       "      <td>1</td>\n",
       "    </tr>\n",
       "  </tbody>\n",
       "</table>\n",
       "</div>"
      ],
      "text/plain": [
       "      Type   Identity                                               Text  \\\n",
       "0  ast_adc  HLRS_1747  Massive Data Broadcast shall immediately send ...   \n",
       "1  ast_adc  HLRS_6673  Massive Data Broadcast shall place a copied Re...   \n",
       "2  ast_adc  HLRS_2470  Massive Data Broadcast shall place a copied Ma...   \n",
       "3  ast_adc  HLRS_2467  Massive Data Broadcast shall send the current ...   \n",
       "4  ast_adc  HLRS_2468  Massive Data Broadcast shall send the current ...   \n",
       "\n",
       "  A2-Unambiguous A4-Tolerances A5-Sources specified  E1  \n",
       "0              1            na                    1   1  \n",
       "1              1            na                    1   1  \n",
       "2              1            na                    1   1  \n",
       "3              1            na                   na   1  \n",
       "4              1            na                   na   1  "
      ]
     },
     "execution_count": 4,
     "metadata": {},
     "output_type": "execute_result"
    }
   ],
   "source": [
    "import pandas as pd\n",
    "master_df = pd.read_excel('1_master_synth.xlsx')\n",
    "master_df.head()"
   ]
  },
  {
   "cell_type": "code",
   "execution_count": 5,
   "id": "70bdf637-9e84-4cee-a95c-e5c7bd8075d6",
   "metadata": {},
   "outputs": [
    {
     "data": {
      "text/html": [
       "<div>\n",
       "<style scoped>\n",
       "    .dataframe tbody tr th:only-of-type {\n",
       "        vertical-align: middle;\n",
       "    }\n",
       "\n",
       "    .dataframe tbody tr th {\n",
       "        vertical-align: top;\n",
       "    }\n",
       "\n",
       "    .dataframe thead th {\n",
       "        text-align: right;\n",
       "    }\n",
       "</style>\n",
       "<table border=\"1\" class=\"dataframe\">\n",
       "  <thead>\n",
       "    <tr style=\"text-align: right;\">\n",
       "      <th></th>\n",
       "      <th>E1</th>\n",
       "      <th>Text</th>\n",
       "    </tr>\n",
       "  </thead>\n",
       "  <tbody>\n",
       "    <tr>\n",
       "      <th>0</th>\n",
       "      <td>1</td>\n",
       "      <td>Massive Data Broadcast shall immediately send ...</td>\n",
       "    </tr>\n",
       "    <tr>\n",
       "      <th>1</th>\n",
       "      <td>1</td>\n",
       "      <td>Massive Data Broadcast shall place a copied Re...</td>\n",
       "    </tr>\n",
       "    <tr>\n",
       "      <th>2</th>\n",
       "      <td>1</td>\n",
       "      <td>Massive Data Broadcast shall place a copied Ma...</td>\n",
       "    </tr>\n",
       "    <tr>\n",
       "      <th>3</th>\n",
       "      <td>1</td>\n",
       "      <td>Massive Data Broadcast shall send the current ...</td>\n",
       "    </tr>\n",
       "    <tr>\n",
       "      <th>4</th>\n",
       "      <td>1</td>\n",
       "      <td>Massive Data Broadcast shall send the current ...</td>\n",
       "    </tr>\n",
       "  </tbody>\n",
       "</table>\n",
       "</div>"
      ],
      "text/plain": [
       "   E1                                               Text\n",
       "0   1  Massive Data Broadcast shall immediately send ...\n",
       "1   1  Massive Data Broadcast shall place a copied Re...\n",
       "2   1  Massive Data Broadcast shall place a copied Ma...\n",
       "3   1  Massive Data Broadcast shall send the current ...\n",
       "4   1  Massive Data Broadcast shall send the current ..."
      ]
     },
     "execution_count": 5,
     "metadata": {},
     "output_type": "execute_result"
    }
   ],
   "source": [
    "model_df = master_df[['E1','Text']].copy()\n",
    "model_df.head()"
   ]
  },
  {
   "cell_type": "code",
   "execution_count": 6,
   "id": "9a11181b-6821-4856-94cb-05386156c8cb",
   "metadata": {},
   "outputs": [
    {
     "data": {
      "text/plain": [
       "2408"
      ]
     },
     "execution_count": 6,
     "metadata": {},
     "output_type": "execute_result"
    }
   ],
   "source": [
    "model_df_label1 = model_df.query('E1 == 1')\n",
    "len(model_df_label1)"
   ]
  },
  {
   "cell_type": "code",
   "execution_count": 7,
   "id": "c144df62-a832-4125-a034-8ae0540bf94a",
   "metadata": {},
   "outputs": [
    {
     "data": {
      "text/plain": [
       "1472"
      ]
     },
     "execution_count": 7,
     "metadata": {},
     "output_type": "execute_result"
    }
   ],
   "source": [
    "model_df_label0 = model_df.query('E1 == 0')\n",
    "len(model_df_label0)"
   ]
  },
  {
   "cell_type": "code",
   "execution_count": 8,
   "id": "69b138f5-5a9b-442c-b258-a042a0a4d527",
   "metadata": {},
   "outputs": [],
   "source": [
    "model_df = pd.concat([model_df_label1[:1500],model_df_label0])"
   ]
  },
  {
   "cell_type": "markdown",
   "id": "4ea7716b-cbb9-40df-8796-9e2718512f6b",
   "metadata": {},
   "source": [
    "# Data process and tokenizer"
   ]
  },
  {
   "cell_type": "code",
   "execution_count": 9,
   "id": "e4e0084e-559e-46cc-b1a4-892e5e0fcb21",
   "metadata": {},
   "outputs": [],
   "source": [
    "from sklearn.model_selection  import train_test_split\n",
    "train_df, test_df = train_test_split(model_df, test_size=0.1, shuffle=True)\n",
    "\n",
    "train_iter = iter(list(train_df.itertuples(index=False, name=None)))\n",
    "test_iter = iter(list(test_df.itertuples(index=False, name=None)))"
   ]
  },
  {
   "cell_type": "code",
   "execution_count": 10,
   "id": "2dae2f6d-c342-4458-b2af-2400f3ead818",
   "metadata": {},
   "outputs": [],
   "source": [
    "from torchtext.data.utils import get_tokenizer\n",
    "from torchtext.vocab import build_vocab_from_iterator\n",
    "\n",
    "tokenizer = get_tokenizer(\"basic_english\")\n",
    "\n",
    "def yield_tokens(data_iter):\n",
    "    for _, text in data_iter:\n",
    "        yield tokenizer(text)\n",
    "\n",
    "vocab = build_vocab_from_iterator(yield_tokens(train_iter), specials=[\"<unk>\"])\n",
    "vocab.set_default_index(vocab[\"<unk>\"])"
   ]
  },
  {
   "cell_type": "markdown",
   "id": "d24d1986-12ed-45c3-8a18-bd1ada1e9440",
   "metadata": {},
   "source": [
    "# Dataset iterator"
   ]
  },
  {
   "cell_type": "code",
   "execution_count": 11,
   "id": "880ea8d4-bae1-48bc-996e-d352db324265",
   "metadata": {},
   "outputs": [],
   "source": [
    "train_iter = iter(list(train_df.itertuples(index=False, name=None)))\n",
    "test_iter = iter(list(test_df.itertuples(index=False, name=None)))"
   ]
  },
  {
   "cell_type": "code",
   "execution_count": 12,
   "id": "78c4e14f-9c36-4343-ba96-f05c6eb3196e",
   "metadata": {},
   "outputs": [
    {
     "data": {
      "text/plain": [
       "(0, 'No books survived the fire, did they?')"
      ]
     },
     "execution_count": 12,
     "metadata": {},
     "output_type": "execute_result"
    }
   ],
   "source": [
    "next(train_iter)"
   ]
  },
  {
   "cell_type": "code",
   "execution_count": 13,
   "id": "ab4db3a0-073b-4553-b627-ed94516c0b20",
   "metadata": {},
   "outputs": [],
   "source": [
    "text_pipeline = lambda x: vocab(tokenizer(x))\n",
    "label_pipeline = lambda x: int(x)"
   ]
  },
  {
   "cell_type": "code",
   "execution_count": 14,
   "id": "092203c5-49af-4337-abbd-38851caa6e78",
   "metadata": {},
   "outputs": [],
   "source": [
    "from torch.utils.data import DataLoader\n",
    "\n",
    "def collate_batch(batch):\n",
    "    label_list, text_list, offsets = [], [], [0]\n",
    "    for _label, _text in batch:\n",
    "        label_list.append(label_pipeline(_label))\n",
    "        processed_text = torch.tensor(text_pipeline(_text), dtype=torch.long)\n",
    "        text_list.append(processed_text)\n",
    "        offsets.append(processed_text.size(0))\n",
    "    label_list = torch.tensor(label_list, dtype=torch.int64)\n",
    "    offsets = torch.tensor(offsets[:-1]).cumsum(dim=0)\n",
    "    text_list = torch.cat(text_list)\n",
    "    return label_list.to(device), text_list.to(device), offsets.to(device)"
   ]
  },
  {
   "cell_type": "code",
   "execution_count": 15,
   "id": "5a81c8d9-de06-4aed-9ff3-0c5f31985d1c",
   "metadata": {},
   "outputs": [
    {
     "data": {
      "text/plain": [
       "(tensor([0], device='cuda:0'),\n",
       " tensor([ 120, 1169, 2602,    1, 2262,    7,   67,  341,  156], device='cuda:0'),\n",
       " tensor([0], device='cuda:0'))"
      ]
     },
     "execution_count": 15,
     "metadata": {},
     "output_type": "execute_result"
    }
   ],
   "source": [
    "train_iter = iter(list(train_df.itertuples(index=False, name=None)))\n",
    "single = next(train_iter)\n",
    "\n",
    "collate_batch([single])"
   ]
  },
  {
   "cell_type": "markdown",
   "id": "8bf18db8-7d58-43c0-ac22-d3e225cb2ed1",
   "metadata": {},
   "source": [
    "# Define the model"
   ]
  },
  {
   "cell_type": "code",
   "execution_count": 16,
   "id": "a1e42a92-cd83-4fb3-993d-cd52c03e25c9",
   "metadata": {},
   "outputs": [],
   "source": [
    "from torch import nn\n",
    "\n",
    "class TextClassificationModel(nn.Module):\n",
    "    def __init__(self, vocab_size, embed_dim, num_class):\n",
    "        super(TextClassificationModel, self).__init__()\n",
    "        self.embedding = nn.EmbeddingBag(vocab_size, embed_dim, sparse=False)\n",
    "        self.fc = nn.Linear(embed_dim, num_class)\n",
    "        self.init_weights()\n",
    "\n",
    "    def init_weights(self):\n",
    "        initrange = 0.5\n",
    "        self.embedding.weight.data.uniform_(-initrange, initrange)\n",
    "        self.fc.weight.data.uniform_(-initrange, initrange)\n",
    "        self.fc.bias.data.zero_()\n",
    "\n",
    "    def forward(self, text, offsets):\n",
    "        embedded = self.embedding(text, offsets)\n",
    "        return self.fc(embedded)"
   ]
  },
  {
   "cell_type": "code",
   "execution_count": 17,
   "id": "4e6724c0-3768-48ee-9176-2518cabbfe6b",
   "metadata": {},
   "outputs": [
    {
     "data": {
      "text/plain": [
       "2"
      ]
     },
     "execution_count": 17,
     "metadata": {},
     "output_type": "execute_result"
    }
   ],
   "source": [
    "num_class = len(set([label for (label, text) in train_iter]))\n",
    "num_class"
   ]
  },
  {
   "cell_type": "code",
   "execution_count": 18,
   "id": "a7e98c25-1d44-4a02-997c-8ec0c4e123c1",
   "metadata": {},
   "outputs": [],
   "source": [
    "train_iter = iter(list(train_df.itertuples(index=False, name=None)))\n",
    "num_class = len(set([label for (label, text) in train_iter]))\n",
    "vocab_size = len(vocab)\n",
    "emsize = 300\n",
    "model = TextClassificationModel(vocab_size, emsize, num_class)"
   ]
  },
  {
   "cell_type": "code",
   "execution_count": 19,
   "id": "d8afdced-aa5f-4dae-9ef0-7183668838d1",
   "metadata": {},
   "outputs": [
    {
     "data": {
      "text/plain": [
       "TextClassificationModel(\n",
       "  (embedding): EmbeddingBag(4494, 300, mode='mean')\n",
       "  (fc): Linear(in_features=300, out_features=2, bias=True)\n",
       ")"
      ]
     },
     "execution_count": 19,
     "metadata": {},
     "output_type": "execute_result"
    }
   ],
   "source": [
    "model"
   ]
  },
  {
   "cell_type": "code",
   "execution_count": 20,
   "id": "1707b70e-b751-4e37-875b-c2fdadbf002e",
   "metadata": {},
   "outputs": [
    {
     "data": {
      "text/plain": [
       "'2024-04-10T15:02:04.167664'"
      ]
     },
     "execution_count": 20,
     "metadata": {},
     "output_type": "execute_result"
    }
   ],
   "source": [
    "from datetime import datetime\n",
    "datetime.now().isoformat()"
   ]
  },
  {
   "cell_type": "markdown",
   "id": "2e1421e4-51bc-490c-b47d-01d83e0a28cf",
   "metadata": {},
   "source": [
    "# Train and eval functions"
   ]
  },
  {
   "cell_type": "code",
   "execution_count": 21,
   "id": "0a28ea92-68d0-44a7-9a5d-313ee209533f",
   "metadata": {},
   "outputs": [],
   "source": [
    "import time\n",
    "\n",
    "def train(model, dataloader, epoch):\n",
    "    \n",
    "    model.train()\n",
    "    total_acc, total_count = 0, 0\n",
    "    log_interval = 5\n",
    "    start_time = time.time()\n",
    "    total_loss = 0\n",
    "\n",
    "\n",
    "    for idx, (label, text, offsets) in enumerate(dataloader):           \n",
    "        optimizer.zero_grad()\n",
    "        \n",
    "        predicted_label = model(text, offsets)\n",
    "        loss = criterion(predicted_label, label)\n",
    "        \n",
    "        loss.backward()\n",
    "        torch.nn.utils.clip_grad_norm_(model.parameters(), 0.1)\n",
    "        optimizer.step()\n",
    "        total_acc += (predicted_label.argmax(1) == label).sum().item()\n",
    "        total_count += label.size(0)\n",
    "        total_loss += loss.item()\n",
    "        \n",
    "        if idx % log_interval == 0 and idx > 0:\n",
    "            elapsed = time.time() - start_time\n",
    "            print(\n",
    "                \"| epoch {:3d} | {:5d}/{:5d} batches \"\n",
    "                \"| accuracy {:8.3f} | {}\".format(\n",
    "                    epoch, idx, len(dataloader), total_acc / total_count, datetime.now().isoformat()\n",
    "                )\n",
    "            )\n",
    "            start_time = time.time()\n",
    "        \n",
    "     \n",
    "        \n",
    "    return total_acc / total_count, total_loss / total_count\n",
    "        \n",
    "\n",
    "def evaluate(model, dataloader):\n",
    "    model.eval()\n",
    "    total_acc, total_count = 0, 0\n",
    "\n",
    "    with torch.no_grad():\n",
    "        for idx, (label, text, offsets) in enumerate(dataloader):\n",
    "            predicted_label = model(text, offsets)\n",
    "            loss = criterion(predicted_label, label)\n",
    "            total_acc += (predicted_label.argmax(1) == label).sum().item()\n",
    "            total_count += label.size(0)\n",
    "\n",
    "    return total_acc / total_count, loss.item() / total_count"
   ]
  },
  {
   "cell_type": "markdown",
   "id": "aab0ddbc-f1e1-4662-a3d2-c09beafd25ed",
   "metadata": {},
   "source": [
    "# Split the dataset and run the model"
   ]
  },
  {
   "cell_type": "code",
   "execution_count": 22,
   "id": "ab8adb52-47f3-4740-952f-639d21a70d6c",
   "metadata": {
    "tags": []
   },
   "outputs": [],
   "source": [
    "from torch.utils.data.dataset import random_split\n",
    "from torchtext.data.functional import to_map_style_dataset\n",
    "\n",
    "BATCH_SIZE = 64  # batch size for training\n",
    "\n",
    "train_iter = iter(list(train_df.itertuples(index=False, name=None)))\n",
    "train_dataset = to_map_style_dataset(train_iter)\n",
    "test_dataset = to_map_style_dataset(test_iter)\n",
    "num_train = int(len(train_dataset) * 0.9)\n",
    "split_train_, split_valid_ = random_split(\n",
    "    train_dataset, [num_train, len(train_dataset) - num_train]\n",
    ")\n",
    "\n",
    "train_dataloader = DataLoader(\n",
    "    split_train_, batch_size=BATCH_SIZE, shuffle=True, collate_fn=collate_batch\n",
    ")\n",
    "valid_dataloader = DataLoader(\n",
    "    split_valid_, batch_size=BATCH_SIZE, shuffle=True, collate_fn=collate_batch\n",
    ")\n",
    "test_dataloader = DataLoader(\n",
    "    test_dataset, batch_size=BATCH_SIZE, shuffle=True, collate_fn=collate_batch\n",
    ")"
   ]
  },
  {
   "cell_type": "code",
   "execution_count": 23,
   "id": "8470f9fe-d692-4698-b991-065b68b526b4",
   "metadata": {},
   "outputs": [
    {
     "data": {
      "text/plain": [
       "'2024-04-10'"
      ]
     },
     "execution_count": 23,
     "metadata": {},
     "output_type": "execute_result"
    }
   ],
   "source": [
    "from datetime import date\n",
    "\n",
    "today = date.today().isoformat()\n",
    "today"
   ]
  },
  {
   "cell_type": "code",
   "execution_count": 58,
   "id": "b2abb8af-8fe2-4382-8adf-7d2af9cd8e09",
   "metadata": {
    "scrolled": true
   },
   "outputs": [],
   "source": [
    "# Hyperparameters\n",
    "EPOCHS = 10  # epoch\n",
    "LR = 5  # learning rate\n",
    "    \n",
    "criterion = torch.nn.CrossEntropyLoss()\n",
    "optimizer = torch.optim.Adam(model.parameters(), lr=LR)\n",
    "scheduler = torch.optim.lr_scheduler.StepLR(optimizer, 1.0, gamma=0.1)\n",
    "    \n",
    "def train_with_hist(model, checkpoint_path = './models/simple_embeddings_baseline'):\n",
    "    model = model.to(device)\n",
    "    \n",
    "    total_accu = None\n",
    "\n",
    "    loss_hist_train, loss_hist_valid, accuracy_hist_train, accuracy_hist_valid = [], [], [], []\n",
    "    for epoch in range(1, EPOCHS + 1):\n",
    "        epoch_start_time = time.time()\n",
    "        accu_train, loss_train = train(model, train_dataloader, epoch)\n",
    "        accu_val, loss_val = evaluate(model, valid_dataloader)\n",
    "        if total_accu is not None and total_accu > accu_val:\n",
    "            scheduler.step()\n",
    "            print(\"Learning rate took a step by the scheduler {:8.3f} > {:8.3f}\".format(total_accu, accu_val))\n",
    "        else:\n",
    "            total_accu = accu_val\n",
    "        print(\"-\" * 59)\n",
    "        print(\n",
    "            \"| end of epoch {:3d} | time: {:5.2f}s | \"\n",
    "            \"valid accuracy {:8.3f} \".format(\n",
    "                epoch, time.time() - epoch_start_time, accu_val\n",
    "            )\n",
    "        )\n",
    "        print(\"-\" * 59)\n",
    "\n",
    "        loss_hist_train.append(loss_train)\n",
    "        loss_hist_valid.append(loss_val)\n",
    "        accuracy_hist_train.append(accu_train)\n",
    "        accuracy_hist_valid.append(accu_val)\n",
    "        \n",
    "    torch.save(model, f'{checkpoint_path}/{today}_simple_embeddings_baseline.pt')\n",
    "    return loss_hist_train, loss_hist_valid, accuracy_hist_train, accuracy_hist_valid"
   ]
  },
  {
   "cell_type": "code",
   "execution_count": 59,
   "id": "97e7023b-7888-4afe-906a-76ac56aacab8",
   "metadata": {
    "tags": []
   },
   "outputs": [
    {
     "name": "stdout",
     "output_type": "stream",
     "text": [
      "| epoch   1 |     5/   38 batches | accuracy    0.521 | 2024-04-10T14:57:10.554375\n",
      "| epoch   1 |    10/   38 batches | accuracy    0.666 | 2024-04-10T14:57:10.562553\n",
      "| epoch   1 |    15/   38 batches | accuracy    0.667 | 2024-04-10T14:57:10.570418\n",
      "| epoch   1 |    20/   38 batches | accuracy    0.706 | 2024-04-10T14:57:10.578406\n",
      "| epoch   1 |    25/   38 batches | accuracy    0.739 | 2024-04-10T14:57:10.586354\n",
      "| epoch   1 |    30/   38 batches | accuracy    0.735 | 2024-04-10T14:57:10.594306\n",
      "| epoch   1 |    35/   38 batches | accuracy    0.731 | 2024-04-10T14:57:10.602358\n",
      "-----------------------------------------------------------\n",
      "| end of epoch   1 | time:  0.07s | valid accuracy    0.862 \n",
      "-----------------------------------------------------------\n",
      "| epoch   2 |     5/   38 batches | accuracy    0.906 | 2024-04-10T14:57:10.618587\n",
      "| epoch   2 |    10/   38 batches | accuracy    0.929 | 2024-04-10T14:57:10.626813\n",
      "| epoch   2 |    15/   38 batches | accuracy    0.918 | 2024-04-10T14:57:10.634917\n",
      "| epoch   2 |    20/   38 batches | accuracy    0.926 | 2024-04-10T14:57:10.642829\n",
      "| epoch   2 |    25/   38 batches | accuracy    0.928 | 2024-04-10T14:57:10.650795\n",
      "| epoch   2 |    30/   38 batches | accuracy    0.925 | 2024-04-10T14:57:10.658746\n",
      "| epoch   2 |    35/   38 batches | accuracy    0.921 | 2024-04-10T14:57:10.666603\n",
      "-----------------------------------------------------------\n",
      "| end of epoch   2 | time:  0.06s | valid accuracy    0.892 \n",
      "-----------------------------------------------------------\n",
      "| epoch   3 |     5/   38 batches | accuracy    0.958 | 2024-04-10T14:57:10.682518\n",
      "| epoch   3 |    10/   38 batches | accuracy    0.966 | 2024-04-10T14:57:10.690522\n",
      "| epoch   3 |    15/   38 batches | accuracy    0.967 | 2024-04-10T14:57:10.698479\n",
      "| epoch   3 |    20/   38 batches | accuracy    0.968 | 2024-04-10T14:57:10.706563\n",
      "| epoch   3 |    25/   38 batches | accuracy    0.968 | 2024-04-10T14:57:10.714788\n",
      "| epoch   3 |    30/   38 batches | accuracy    0.965 | 2024-04-10T14:57:10.722866\n",
      "| epoch   3 |    35/   38 batches | accuracy    0.960 | 2024-04-10T14:57:10.730814\n",
      "-----------------------------------------------------------\n",
      "| end of epoch   3 | time:  0.06s | valid accuracy    0.892 \n",
      "-----------------------------------------------------------\n",
      "| epoch   4 |     5/   38 batches | accuracy    0.958 | 2024-04-10T14:57:10.746770\n",
      "| epoch   4 |    10/   38 batches | accuracy    0.962 | 2024-04-10T14:57:10.754610\n",
      "| epoch   4 |    15/   38 batches | accuracy    0.964 | 2024-04-10T14:57:10.762610\n",
      "| epoch   4 |    20/   38 batches | accuracy    0.965 | 2024-04-10T14:57:10.771262\n",
      "| epoch   4 |    25/   38 batches | accuracy    0.964 | 2024-04-10T14:57:10.779384\n",
      "| epoch   4 |    30/   38 batches | accuracy    0.957 | 2024-04-10T14:57:10.787430\n",
      "| epoch   4 |    35/   38 batches | accuracy    0.959 | 2024-04-10T14:57:10.795418\n",
      "Learning rate took a step by the scheduler    0.892 >    0.888\n",
      "-----------------------------------------------------------\n",
      "| end of epoch   4 | time:  0.06s | valid accuracy    0.888 \n",
      "-----------------------------------------------------------\n",
      "| epoch   5 |     5/   38 batches | accuracy    0.969 | 2024-04-10T14:57:10.811691\n",
      "| epoch   5 |    10/   38 batches | accuracy    0.972 | 2024-04-10T14:57:10.819932\n",
      "| epoch   5 |    15/   38 batches | accuracy    0.974 | 2024-04-10T14:57:10.827859\n",
      "| epoch   5 |    20/   38 batches | accuracy    0.975 | 2024-04-10T14:57:10.835968\n",
      "| epoch   5 |    25/   38 batches | accuracy    0.979 | 2024-04-10T14:57:10.844035\n",
      "| epoch   5 |    30/   38 batches | accuracy    0.979 | 2024-04-10T14:57:10.851812\n",
      "| epoch   5 |    35/   38 batches | accuracy    0.980 | 2024-04-10T14:57:10.859764\n",
      "-----------------------------------------------------------\n",
      "| end of epoch   5 | time:  0.06s | valid accuracy    0.907 \n",
      "-----------------------------------------------------------\n",
      "| epoch   6 |     5/   38 batches | accuracy    0.995 | 2024-04-10T14:57:10.876202\n",
      "| epoch   6 |    10/   38 batches | accuracy    0.993 | 2024-04-10T14:57:10.884038\n",
      "| epoch   6 |    15/   38 batches | accuracy    0.991 | 2024-04-10T14:57:10.891990\n",
      "| epoch   6 |    20/   38 batches | accuracy    0.992 | 2024-04-10T14:57:10.899986\n",
      "| epoch   6 |    25/   38 batches | accuracy    0.992 | 2024-04-10T14:57:10.908072\n",
      "| epoch   6 |    30/   38 batches | accuracy    0.993 | 2024-04-10T14:57:10.915895\n",
      "| epoch   6 |    35/   38 batches | accuracy    0.993 | 2024-04-10T14:57:10.923841\n",
      "-----------------------------------------------------------\n",
      "| end of epoch   6 | time:  0.06s | valid accuracy    0.907 \n",
      "-----------------------------------------------------------\n",
      "| epoch   7 |     5/   38 batches | accuracy    1.000 | 2024-04-10T14:57:10.939904\n",
      "| epoch   7 |    10/   38 batches | accuracy    0.997 | 2024-04-10T14:57:10.947905\n",
      "| epoch   7 |    15/   38 batches | accuracy    0.997 | 2024-04-10T14:57:10.955949\n",
      "| epoch   7 |    20/   38 batches | accuracy    0.997 | 2024-04-10T14:57:10.963860\n",
      "| epoch   7 |    25/   38 batches | accuracy    0.997 | 2024-04-10T14:57:10.971823\n",
      "| epoch   7 |    30/   38 batches | accuracy    0.997 | 2024-04-10T14:57:10.979402\n",
      "| epoch   7 |    35/   38 batches | accuracy    0.997 | 2024-04-10T14:57:10.987223\n",
      "-----------------------------------------------------------\n",
      "| end of epoch   7 | time:  0.06s | valid accuracy    0.922 \n",
      "-----------------------------------------------------------\n",
      "| epoch   8 |     5/   38 batches | accuracy    0.997 | 2024-04-10T14:57:11.003023\n",
      "| epoch   8 |    10/   38 batches | accuracy    0.994 | 2024-04-10T14:57:11.011198\n",
      "| epoch   8 |    15/   38 batches | accuracy    0.993 | 2024-04-10T14:57:11.019248\n",
      "| epoch   8 |    20/   38 batches | accuracy    0.995 | 2024-04-10T14:57:11.027184\n",
      "| epoch   8 |    25/   38 batches | accuracy    0.995 | 2024-04-10T14:57:11.035243\n",
      "| epoch   8 |    30/   38 batches | accuracy    0.995 | 2024-04-10T14:57:11.043197\n",
      "| epoch   8 |    35/   38 batches | accuracy    0.996 | 2024-04-10T14:57:11.051039\n",
      "-----------------------------------------------------------\n",
      "| end of epoch   8 | time:  0.06s | valid accuracy    0.922 \n",
      "-----------------------------------------------------------\n",
      "| epoch   9 |     5/   38 batches | accuracy    0.992 | 2024-04-10T14:57:11.067166\n",
      "| epoch   9 |    10/   38 batches | accuracy    0.996 | 2024-04-10T14:57:11.074996\n",
      "| epoch   9 |    15/   38 batches | accuracy    0.996 | 2024-04-10T14:57:11.082916\n",
      "| epoch   9 |    20/   38 batches | accuracy    0.996 | 2024-04-10T14:57:11.090974\n",
      "| epoch   9 |    25/   38 batches | accuracy    0.996 | 2024-04-10T14:57:11.099212\n",
      "| epoch   9 |    30/   38 batches | accuracy    0.996 | 2024-04-10T14:57:11.107081\n",
      "| epoch   9 |    35/   38 batches | accuracy    0.997 | 2024-04-10T14:57:11.114860\n",
      "Learning rate took a step by the scheduler    0.922 >    0.918\n",
      "-----------------------------------------------------------\n",
      "| end of epoch   9 | time:  0.06s | valid accuracy    0.918 \n",
      "-----------------------------------------------------------\n",
      "| epoch  10 |     5/   38 batches | accuracy    0.995 | 2024-04-10T14:57:11.130882\n",
      "| epoch  10 |    10/   38 batches | accuracy    0.997 | 2024-04-10T14:57:11.139052\n",
      "| epoch  10 |    15/   38 batches | accuracy    0.998 | 2024-04-10T14:57:11.147034\n",
      "| epoch  10 |    20/   38 batches | accuracy    0.999 | 2024-04-10T14:57:11.154957\n",
      "| epoch  10 |    25/   38 batches | accuracy    0.999 | 2024-04-10T14:57:11.162980\n",
      "| epoch  10 |    30/   38 batches | accuracy    0.999 | 2024-04-10T14:57:11.171012\n",
      "| epoch  10 |    35/   38 batches | accuracy    0.999 | 2024-04-10T14:57:11.179244\n",
      "Learning rate took a step by the scheduler    0.922 >    0.918\n",
      "-----------------------------------------------------------\n",
      "| end of epoch  10 | time:  0.06s | valid accuracy    0.918 \n",
      "-----------------------------------------------------------\n"
     ]
    }
   ],
   "source": [
    "hist = train_with_hist(model, './models/simple_embeddings_baseline')"
   ]
  },
  {
   "cell_type": "code",
   "execution_count": 60,
   "id": "0d3a2a32-9601-4458-82d3-b169d7e74ad6",
   "metadata": {},
   "outputs": [],
   "source": [
    "import numpy as np\n",
    "import matplotlib.pyplot as plt\n",
    "def plot_learning_curves(hist):\n",
    "    x_arr = np.arange(len(hist[0])) + 1\n",
    "    fig = plt.figure(figsize=(12, 4))\n",
    "    ax = fig.add_subplot(1, 2, 1)\n",
    "    ax.plot(x_arr, hist[0], '-o', label='Train loss')\n",
    "    ax.plot(x_arr, hist[1], '--<', label='Validation loss')\n",
    "    ax.legend(fontsize=15)\n",
    "    ax = fig.add_subplot(1, 2, 2)\n",
    "    ax.plot(x_arr, hist[2], '-o', label='Train acc.')\n",
    "    ax.plot(x_arr, hist[3], '--<', label='Validation acc.')\n",
    "    ax.legend(fontsize=15)\n",
    "    ax.set_xlabel('Epoch', size=15)\n",
    "    ax.set_ylabel('Accuracy', size=15)\n",
    "    plt.show()"
   ]
  },
  {
   "cell_type": "code",
   "execution_count": 61,
   "id": "ad6a0c1b-3a25-4cff-96c6-3266913e208e",
   "metadata": {},
   "outputs": [
    {
     "data": {
      "image/png": "[encoded data removed]",
      "text/plain": [
       "<Figure size 864x288 with 2 Axes>"
      ]
     },
     "metadata": {
      "needs_background": "light"
     },
     "output_type": "display_data"
    }
   ],
   "source": [
    "plot_learning_curves(hist)"
   ]
  },
  {
   "cell_type": "markdown",
   "id": "ae3a230c-2886-4676-9a87-6bac8b503bb4",
   "metadata": {},
   "source": [
    "### Evaluate the model with test dataset"
   ]
  },
  {
   "cell_type": "markdown",
   "id": "f29c316c-7bce-4176-b1fa-00dd769a6a1a",
   "metadata": {},
   "source": [
    "Checking the results of the test dataset…\n",
    "\n"
   ]
  },
  {
   "cell_type": "code",
   "execution_count": 62,
   "id": "ebc0b680-b1de-4aee-bad4-baf7f50b9f0e",
   "metadata": {
    "jupyter": {
     "outputs_hidden": false
    }
   },
   "outputs": [
    {
     "name": "stdout",
     "output_type": "stream",
     "text": [
      "Checking the results of test dataset.\n",
      "test accuracy    0.956\n"
     ]
    }
   ],
   "source": [
    "print(\"Checking the results of test dataset.\")\n",
    "accu_test, _ = evaluate(model, test_dataloader)\n",
    "print(\"test accuracy {:8.3f}\".format(accu_test))"
   ]
  },
  {
   "cell_type": "code",
   "execution_count": 38,
   "id": "ef9b09f4-0640-4e59-aefc-9d2d136d9f3f",
   "metadata": {},
   "outputs": [],
   "source": [
    "# create confusion matrix\n",
    "from sklearn.metrics import classification_report, confusion_matrix\n",
    "import seaborn as sns\n",
    "\n",
    "def plot_confusion_matrix(model, dataloader):\n",
    "    device = torch.device(\"cuda\" if torch.cuda.is_available() else \"cpu\")\n",
    "    \n",
    "    model.eval()\n",
    "    y_test = np.asarray([])\n",
    "    y_predict = np.asarray([])\n",
    "\n",
    "    with torch.no_grad():\n",
    "        for idx, (label, text, offsets) in enumerate(dataloader):\n",
    "            (label, text, offsets) = label.to(device), text.to(device), offsets.to(device)\n",
    "            \n",
    "            predicted_label = model(text, offsets)\n",
    "                  \n",
    "            y_test = np.concatenate((y_test, np.asarray(label.to(device='cpu', dtype=int))), axis=None)\n",
    "            y_predict = np.concatenate((y_predict, np.asarray((predicted_label.argmax(1).to(device='cpu', dtype=int)))), axis=None)\n",
    "\n",
    "    cm = confusion_matrix(y_test, y_predict)\n",
    "    sns.heatmap(cm, annot=True, fmt = \"d\")\n",
    "    print(classification_report(y_test, y_predict))"
   ]
  },
  {
   "cell_type": "code",
   "execution_count": 64,
   "id": "2efeb419-1df7-4e6c-8814-ddf3294b9b90",
   "metadata": {
    "scrolled": true
   },
   "outputs": [
    {
     "name": "stdout",
     "output_type": "stream",
     "text": [
      "              precision    recall  f1-score   support\n",
      "\n",
      "         0.0       0.94      0.97      0.95       141\n",
      "         1.0       0.97      0.94      0.96       157\n",
      "\n",
      "    accuracy                           0.96       298\n",
      "   macro avg       0.96      0.96      0.96       298\n",
      "weighted avg       0.96      0.96      0.96       298\n",
      "\n"
     ]
    },
    {
     "data": {
      "image/png": "[encoded data removed]",
      "text/plain": [
       "<Figure size 432x288 with 2 Axes>"
      ]
     },
     "metadata": {
      "needs_background": "light"
     },
     "output_type": "display_data"
    }
   ],
   "source": [
    "plot_confusion_matrix(model, test_dataloader)"
   ]
  },
  {
   "cell_type": "code",
   "execution_count": 65,
   "id": "a457def5-9ac2-48c9-a2ef-69ead17b1834",
   "metadata": {},
   "outputs": [
    {
     "name": "stdout",
     "output_type": "stream",
     "text": [
      "This is a 0\n"
     ]
    }
   ],
   "source": [
    "def predict(text):\n",
    "    with torch.no_grad():\n",
    "        model_device = model.to(device)\n",
    "        text = torch.tensor(text_pipeline(text)).to(device)\n",
    "        output = model_device(text, torch.tensor([0]).to(device))\n",
    "        return output.argmax(1).item()\n",
    "\n",
    "\n",
    "ex_text_str = \"The software shall use the front serial port to transmit and receive the PDIFs to and from an external source.\"\n",
    "\n",
    "print(\"This is a %s\" % predict(ex_text_str))"
   ]
  },
  {
   "cell_type": "code",
   "execution_count": 66,
   "id": "be9fa7f7-1b9d-4089-adec-eef570adb2c2",
   "metadata": {},
   "outputs": [],
   "source": [
    "test_req2 = \"The software shall enforce the Principle of Least Privilege.\""
   ]
  },
  {
   "cell_type": "code",
   "execution_count": 67,
   "id": "6ae86ba7-7856-472b-9670-1c87b2b97c1d",
   "metadata": {},
   "outputs": [
    {
     "name": "stdout",
     "output_type": "stream",
     "text": [
      "This is a 1\n"
     ]
    }
   ],
   "source": [
    "print(\"This is a %s\" % predict(test_req2))"
   ]
  },
  {
   "cell_type": "code",
   "execution_count": 68,
   "id": "93348b69-e293-4299-9697-d982dcc103cd",
   "metadata": {},
   "outputs": [],
   "source": [
    "test_req3 = \"The software shall support the upload/download of configurable options as defined in document 702-074876.\""
   ]
  },
  {
   "cell_type": "code",
   "execution_count": 69,
   "id": "40c741cb-e91b-406f-a1f7-3c0ff292ab24",
   "metadata": {},
   "outputs": [
    {
     "name": "stdout",
     "output_type": "stream",
     "text": [
      "This is a 1\n"
     ]
    }
   ],
   "source": [
    "print(\"This is a %s\" % predict(test_req3))"
   ]
  },
  {
   "cell_type": "markdown",
   "id": "01a8aee1-9585-4ecd-9cfc-ba8344592245",
   "metadata": {},
   "source": [
    "# Hyperparameter tunning with Ray Tune"
   ]
  },
  {
   "cell_type": "code",
   "execution_count": 24,
   "id": "159ecc7a-2709-4cb4-91dd-ad57cb630e8c",
   "metadata": {},
   "outputs": [],
   "source": [
    "import time\n",
    "from datetime import datetime, date\n",
    "\n",
    "import ray\n",
    "import ray.train.torch\n",
    "\n",
    "from ray import train, tune\n",
    "from ray.train import RunConfig, ScalingConfig, Checkpoint\n",
    "from ray.train.torch import TorchTrainer\n",
    "\n",
    "from ray.tune.schedulers import ASHAScheduler"
   ]
  },
  {
   "cell_type": "code",
   "execution_count": 25,
   "id": "60a1c7b7-a6cd-4daf-8740-1204e8687bcf",
   "metadata": {},
   "outputs": [
    {
     "name": "stdout",
     "output_type": "stream",
     "text": [
      "Wed Apr 10 15:02:34 2024       \n",
      "+---------------------------------------------------------------------------------------+\n",
      "| NVIDIA-SMI 535.161.07             Driver Version: 535.161.07   CUDA Version: 12.2     |\n",
      "|-----------------------------------------+----------------------+----------------------+\n",
      "| GPU  Name                 Persistence-M | Bus-Id        Disp.A | Volatile Uncorr. ECC |\n",
      "| Fan  Temp   Perf          Pwr:Usage/Cap |         Memory-Usage | GPU-Util  Compute M. |\n",
      "|                                         |                      |               MIG M. |\n",
      "|=========================================+======================+======================|\n",
      "|   0  NVIDIA GeForce RTX 4090        Off | 00000000:01:00.0 Off |                  Off |\n",
      "|  0%   50C    P8              19W / 500W |    791MiB / 24564MiB |      0%      Default |\n",
      "|                                         |                      |                  N/A |\n",
      "+-----------------------------------------+----------------------+----------------------+\n",
      "                                                                                         \n",
      "+---------------------------------------------------------------------------------------+\n",
      "| Processes:                                                                            |\n",
      "|  GPU   GI   CI        PID   Type   Process name                            GPU Memory |\n",
      "|        ID   ID                                                             Usage      |\n",
      "|=======================================================================================|\n",
      "|    0   N/A  N/A      1136      G   /usr/lib/xorg/Xorg                            4MiB |\n",
      "|    0   N/A  N/A     10650      C   /home/it/anaconda3/bin/python               384MiB |\n",
      "|    0   N/A  N/A     15726      C   /home/it/anaconda3/bin/python               386MiB |\n",
      "+---------------------------------------------------------------------------------------+\n"
     ]
    }
   ],
   "source": [
    "!nvidia-smi"
   ]
  },
  {
   "cell_type": "code",
   "execution_count": null,
   "id": "7330e6b2-1483-4dc4-9916-c3c205618f62",
   "metadata": {},
   "outputs": [],
   "source": []
  },
  {
   "cell_type": "code",
   "execution_count": 26,
   "id": "ab98f8d7-7bd4-4950-b72e-fab265003433",
   "metadata": {},
   "outputs": [
    {
     "name": "stderr",
     "output_type": "stream",
     "text": [
      "2024-04-10 15:02:36,932\tINFO worker.py:1724 -- Started a local Ray instance.\n"
     ]
    },
    {
     "data": {
      "text/plain": [
       "[]"
      ]
     },
     "execution_count": 26,
     "metadata": {},
     "output_type": "execute_result"
    }
   ],
   "source": [
    "ray.get_gpu_ids()"
   ]
  },
  {
   "cell_type": "code",
   "execution_count": 73,
   "id": "3f78604b-94ed-4afb-8f84-a152765b2d44",
   "metadata": {},
   "outputs": [
    {
     "data": {
      "text/plain": [
       "True"
      ]
     },
     "execution_count": 73,
     "metadata": {},
     "output_type": "execute_result"
    }
   ],
   "source": [
    "torch.cuda.is_available()"
   ]
  },
  {
   "cell_type": "code",
   "execution_count": 74,
   "id": "9e604cf8-5843-4b58-9171-65dcef4c64cb",
   "metadata": {},
   "outputs": [
    {
     "data": {
      "text/plain": [
       "device(type='cuda', index=0)"
      ]
     },
     "execution_count": 74,
     "metadata": {},
     "output_type": "execute_result"
    }
   ],
   "source": [
    "ray.train.torch.get_device()"
   ]
  },
  {
   "cell_type": "code",
   "execution_count": 78,
   "id": "475603a3-295a-48a0-8fdb-d6a3caa758d2",
   "metadata": {},
   "outputs": [
    {
     "data": {
      "text/plain": [
       "'cuda:0'"
      ]
     },
     "execution_count": 78,
     "metadata": {},
     "output_type": "execute_result"
    }
   ],
   "source": [
    "device"
   ]
  },
  {
   "cell_type": "code",
   "execution_count": 79,
   "id": "b9b99c8a-8166-4093-84c9-72d0b8753d82",
   "metadata": {},
   "outputs": [],
   "source": [
    "if torch.cuda.is_available():\n",
    "        device = \"cuda:0\"\n",
    "        if torch.cuda.device_count() > 1:\n",
    "            model = nn.DataParallel(model)"
   ]
  },
  {
   "cell_type": "code",
   "execution_count": 80,
   "id": "306cec17-98ec-485a-94d9-71024ba73800",
   "metadata": {},
   "outputs": [
    {
     "data": {
      "text/plain": [
       "1"
      ]
     },
     "execution_count": 80,
     "metadata": {},
     "output_type": "execute_result"
    }
   ],
   "source": [
    "torch.cuda.device_count()"
   ]
  },
  {
   "cell_type": "code",
   "execution_count": 27,
   "id": "35f988d9-c48c-4b5a-a751-2ab32244e423",
   "metadata": {},
   "outputs": [],
   "source": [
    "from torch.utils.data import DataLoader\n",
    "\n",
    "def collate_batch(batch):\n",
    "    label_list, text_list, offsets = [], [], [0]\n",
    "    for _label, _text in batch:\n",
    "        label_list.append(label_pipeline(_label))\n",
    "        processed_text = torch.tensor(text_pipeline(_text), dtype=torch.long)\n",
    "        text_list.append(processed_text)\n",
    "        offsets.append(processed_text.size(0))\n",
    "    label_list = torch.tensor(label_list, dtype=torch.int64)\n",
    "    offsets = torch.tensor(offsets[:-1]).cumsum(dim=0)\n",
    "    text_list = torch.cat(text_list)\n",
    "    return label_list, text_list, offsets"
   ]
  },
  {
   "cell_type": "code",
   "execution_count": 28,
   "id": "72569502-5346-41f1-bd78-ac373c9c39ce",
   "metadata": {},
   "outputs": [],
   "source": [
    "def train_func(model, optimizer, train_loader, max_norm):  \n",
    "    device = torch.device(\"cuda\" if torch.cuda.is_available() else \"cpu\")\n",
    "    model.train()\n",
    "    \n",
    "    total_acc, total_count = 0, 0\n",
    "    log_interval = 5\n",
    "    start_time = time.time()\n",
    "    total_loss = 0\n",
    "\n",
    "    for idx, (label, text, offsets) in enumerate(train_loader):           \n",
    "        label, text, offsets = label.to(device), text.to(device), offsets.to(device)\n",
    "        \n",
    "        optimizer.zero_grad()\n",
    "        \n",
    "        predicted_label = model(text, offsets)\n",
    "        loss = criterion(predicted_label, label)\n",
    "        \n",
    "        loss.backward()\n",
    "        torch.nn.utils.clip_grad_norm_(model.parameters(), max_norm)\n",
    "        optimizer.step()\n",
    "        total_acc += (predicted_label.argmax(1) == label).sum().item()\n",
    "        total_count += label.size(0)\n",
    "        total_loss += loss.item()\n",
    "         \n",
    "    return total_acc / total_count, total_loss / total_count\n",
    "        \n",
    "\n",
    "def eval_func(model, data_loader):\n",
    "    device = torch.device(\"cuda\" if torch.cuda.is_available() else \"cpu\")\n",
    "    model.eval()\n",
    "    \n",
    "    total_acc, total_count = 0, 0\n",
    "\n",
    "    with torch.no_grad():\n",
    "        for idx, (label, text, offsets) in enumerate(data_loader):\n",
    "            label, text, offsets = label.to(device), text.to(device), offsets.to(device)\n",
    "            \n",
    "            predicted_label = model(text, offsets)\n",
    "            loss = criterion(predicted_label, label)\n",
    "            total_acc += (predicted_label.argmax(1) == label).sum().item()\n",
    "            total_count += label.size(0)\n",
    "\n",
    "    return total_acc / total_count, loss.item() / total_count"
   ]
  },
  {
   "cell_type": "code",
   "execution_count": 29,
   "id": "4ddee621-ef95-4c9f-ac28-fea64f2d16b6",
   "metadata": {},
   "outputs": [],
   "source": [
    "import os\n",
    "import tempfile\n",
    "\n",
    "today = date.today().isoformat()\n",
    "checkpoint_path = \"./models/simple_embeddings_baseline\"\n",
    "model_name = \"simple_embeddings_baseline\"\n",
    "num_class = 2\n",
    "vocab_size = len(vocab)\n",
    "\n",
    "\n",
    "def train_search(config):\n",
    "    device = \"cuda:0\" if torch.cuda.is_available() else \"cpu\"\n",
    "    print(device)\n",
    "    print(config)\n",
    "    # config_params = config[\"params\"]\n",
    "    config_params = config\n",
    "    # print(config_params)\n",
    "    \n",
    "    model = TextClassificationModel(vocab_size, config_params[\"embed_dim\"], num_class)\n",
    "    model = model.to(device)\n",
    "    \n",
    "    \n",
    "\n",
    "    train_dataloader = DataLoader(\n",
    "        split_train_, batch_size=config_params[\"batch_size\"], shuffle=True, collate_fn=collate_batch\n",
    "    )\n",
    "    valid_dataloader = DataLoader(\n",
    "        split_valid_, batch_size=config_params[\"batch_size\"], shuffle=True, collate_fn=collate_batch\n",
    "    )\n",
    "    test_dataloader = DataLoader(\n",
    "        test_dataset, batch_size=config_params[\"batch_size\"], shuffle=True, collate_fn=collate_batch\n",
    "    )\n",
    "    \n",
    "    # optimizer = torch.optim.Adam(model.parameters(), lr=config_params[\"lr\"])\n",
    "    optimizer = torch.optim.SGD(model.parameters(), lr=config_params[\"lr\"], momentum=config_params[\"momentum\"])\n",
    "    scheduler = torch.optim.lr_scheduler.StepLR(optimizer, step_size=config_params[\"step_size\"], gamma=config_params[\"lr_gamma\"])\n",
    "    criterion = torch.nn.CrossEntropyLoss()\n",
    "    \n",
    "    for epoch in range(1, config_params[\"epochs\"] + 1):\n",
    "        epoch_start_time = time.time()\n",
    "        accu_train, loss_train = train_func(model, optimizer, train_dataloader, config_params[\"max_norm\"])\n",
    "        accu_val, loss_val = eval_func(model, valid_dataloader)\n",
    "        \n",
    "        # Always let the scheduler take a step because it will be optimized by Hyperopt\n",
    "        scheduler.step()\n",
    "            \n",
    "        with tempfile.TemporaryDirectory() as temp_checkpoint_dir:\n",
    "            checkpoint = None\n",
    "            if epoch % 5 == 0:\n",
    "                # This saves the model to the trial directory\n",
    "                torch.save(\n",
    "                    model.state_dict(),\n",
    "                    os.path.join(temp_checkpoint_dir, \"model.pth\")\n",
    "                )\n",
    "                checkpoint = Checkpoint.from_directory(temp_checkpoint_dir)\n",
    "\n",
    "            # Send the current training result back to Ray Tune\n",
    "            train.report({\n",
    "                \"loss_train\": loss_train,\n",
    "                \"loss_val\": loss_val,\n",
    "                \"accuracy_train\": accu_train,\n",
    "                \"accuracy_val\": accu_val,\n",
    "            }, checkpoint=checkpoint)"
   ]
  },
  {
   "cell_type": "code",
   "execution_count": 84,
   "id": "136d7d8d-e672-4604-a079-d3428638ddfc",
   "metadata": {},
   "outputs": [],
   "source": [
    "# ray.remote(num_cpus=32, num_gpus=1)"
   ]
  },
  {
   "cell_type": "code",
   "execution_count": 85,
   "id": "2a8e2c78-352f-4984-8cd9-fbb924a1caa0",
   "metadata": {
    "collapsed": true,
    "jupyter": {
     "outputs_hidden": true
    },
    "tags": []
   },
   "outputs": [
    {
     "data": {
      "text/html": [
       "<div class=\"tuneStatus\">\n",
       "  <div style=\"display: flex;flex-direction: row\">\n",
       "    <div style=\"display: flex;flex-direction: column;\">\n",
       "      <h3>Tune Status</h3>\n",
       "      <table>\n",
       "<tbody>\n",
       "<tr><td>Current time:</td><td>2024-04-10 14:58:19</td></tr>\n",
       "<tr><td>Running for: </td><td>00:00:24.46        </td></tr>\n",
       "<tr><td>Memory:      </td><td>12.5/30.6 GiB      </td></tr>\n",
       "</tbody>\n",
       "</table>\n",
       "    </div>\n",
       "    <div class=\"vDivider\"></div>\n",
       "    <div class=\"systemInfo\">\n",
       "      <h3>System Info</h3>\n",
       "      Using AsyncHyperBand: num_stopped=44<br>Bracket: Iter 64.000: None | Iter 16.000: 0.9291044776119403 | Iter 4.000: 0.9104477611940298 | Iter 1.000: 0.7938432835820896<br>Logical resource usage: 12.0/16 CPUs, 1.0/1 GPUs (0.0/1.0 accelerator_type:G)\n",
       "    </div>\n",
       "    \n",
       "  </div>\n",
       "  <div class=\"hDivider\"></div>\n",
       "  <div class=\"trialStatus\">\n",
       "    <h3>Trial Status</h3>\n",
       "    <table>\n",
       "<thead>\n",
       "<tr><th>Trial name           </th><th>status    </th><th>loc             </th><th style=\"text-align: right;\">  batch_size</th><th style=\"text-align: right;\">  embed_dim</th><th style=\"text-align: right;\">  epochs</th><th style=\"text-align: right;\">       lr</th><th style=\"text-align: right;\">  lr_gamma</th><th style=\"text-align: right;\">  max_norm</th><th style=\"text-align: right;\">  momentum</th><th style=\"text-align: right;\">  step_size</th><th style=\"text-align: right;\">  iter</th><th style=\"text-align: right;\">  total time (s)</th><th style=\"text-align: right;\">  loss_train</th><th style=\"text-align: right;\">   loss_val</th><th style=\"text-align: right;\">  accuracy_train</th></tr>\n",
       "</thead>\n",
       "<tbody>\n",
       "<tr><td>train_search_7ea361b4</td><td>TERMINATED</td><td>10.1.1.204:15488</td><td style=\"text-align: right;\">          32</td><td style=\"text-align: right;\">        400</td><td style=\"text-align: right;\">      20</td><td style=\"text-align: right;\">0.038675 </td><td style=\"text-align: right;\">  0.532081</td><td style=\"text-align: right;\">  0.428125</td><td style=\"text-align: right;\">  0.858466</td><td style=\"text-align: right;\">          5</td><td style=\"text-align: right;\">    20</td><td style=\"text-align: right;\">       1.88914  </td><td style=\"text-align: right;\">  0.00775371</td><td style=\"text-align: right;\">0.000953654</td><td style=\"text-align: right;\">        0.915212</td></tr>\n",
       "<tr><td>train_search_362b149a</td><td>TERMINATED</td><td>10.1.1.204:15488</td><td style=\"text-align: right;\">          32</td><td style=\"text-align: right;\">        100</td><td style=\"text-align: right;\">      20</td><td style=\"text-align: right;\">0.23721  </td><td style=\"text-align: right;\">  0.599537</td><td style=\"text-align: right;\">  0.675093</td><td style=\"text-align: right;\">  0.45857 </td><td style=\"text-align: right;\">          5</td><td style=\"text-align: right;\">    20</td><td style=\"text-align: right;\">       1.63105  </td><td style=\"text-align: right;\">  0.00681478</td><td style=\"text-align: right;\">0.000874159</td><td style=\"text-align: right;\">        0.925187</td></tr>\n",
       "<tr><td>train_search_3724b90f</td><td>TERMINATED</td><td>10.1.1.204:15488</td><td style=\"text-align: right;\">          64</td><td style=\"text-align: right;\">        100</td><td style=\"text-align: right;\">      30</td><td style=\"text-align: right;\">0.0236646</td><td style=\"text-align: right;\">  0.789306</td><td style=\"text-align: right;\">  0.712808</td><td style=\"text-align: right;\">  0.58482 </td><td style=\"text-align: right;\">          4</td><td style=\"text-align: right;\">     1</td><td style=\"text-align: right;\">       0.0587597</td><td style=\"text-align: right;\">  0.0112731 </td><td style=\"text-align: right;\">0.00267464 </td><td style=\"text-align: right;\">        0.438487</td></tr>\n",
       "<tr><td>train_search_355b6115</td><td>TERMINATED</td><td>10.1.1.204:15488</td><td style=\"text-align: right;\">          64</td><td style=\"text-align: right;\">        100</td><td style=\"text-align: right;\">      20</td><td style=\"text-align: right;\">0.349867 </td><td style=\"text-align: right;\">  0.12756 </td><td style=\"text-align: right;\">  0.673459</td><td style=\"text-align: right;\">  0.264965</td><td style=\"text-align: right;\">          9</td><td style=\"text-align: right;\">     1</td><td style=\"text-align: right;\">       0.0588813</td><td style=\"text-align: right;\">  0.0106751 </td><td style=\"text-align: right;\">0.00227646 </td><td style=\"text-align: right;\">        0.568163</td></tr>\n",
       "<tr><td>train_search_051d5404</td><td>TERMINATED</td><td>10.1.1.204:15488</td><td style=\"text-align: right;\">         128</td><td style=\"text-align: right;\">        400</td><td style=\"text-align: right;\">      20</td><td style=\"text-align: right;\">0.103473 </td><td style=\"text-align: right;\">  0.220631</td><td style=\"text-align: right;\">  0.259883</td><td style=\"text-align: right;\">  0.762224</td><td style=\"text-align: right;\">          9</td><td style=\"text-align: right;\">     1</td><td style=\"text-align: right;\">       0.0539827</td><td style=\"text-align: right;\">  0.00565668</td><td style=\"text-align: right;\">0.00279811 </td><td style=\"text-align: right;\">        0.522444</td></tr>\n",
       "<tr><td>train_search_09d3ade1</td><td>TERMINATED</td><td>10.1.1.204:15488</td><td style=\"text-align: right;\">         128</td><td style=\"text-align: right;\">        100</td><td style=\"text-align: right;\">      10</td><td style=\"text-align: right;\">0.0673311</td><td style=\"text-align: right;\">  0.818398</td><td style=\"text-align: right;\">  0.747924</td><td style=\"text-align: right;\">  0.363122</td><td style=\"text-align: right;\">          3</td><td style=\"text-align: right;\">     1</td><td style=\"text-align: right;\">       0.0469561</td><td style=\"text-align: right;\">  0.00571011</td><td style=\"text-align: right;\">0.00243119 </td><td style=\"text-align: right;\">        0.438903</td></tr>\n",
       "<tr><td>train_search_977e1e6d</td><td>TERMINATED</td><td>10.1.1.204:15488</td><td style=\"text-align: right;\">          32</td><td style=\"text-align: right;\">        400</td><td style=\"text-align: right;\">      30</td><td style=\"text-align: right;\">0.0200013</td><td style=\"text-align: right;\">  0.796553</td><td style=\"text-align: right;\">  0.390777</td><td style=\"text-align: right;\">  0.595644</td><td style=\"text-align: right;\">          5</td><td style=\"text-align: right;\">     1</td><td style=\"text-align: right;\">       0.0943696</td><td style=\"text-align: right;\">  0.0219789 </td><td style=\"text-align: right;\">0.00241299 </td><td style=\"text-align: right;\">        0.539069</td></tr>\n",
       "<tr><td>train_search_3de6cd9d</td><td>TERMINATED</td><td>10.1.1.204:15488</td><td style=\"text-align: right;\">          64</td><td style=\"text-align: right;\">        500</td><td style=\"text-align: right;\">      20</td><td style=\"text-align: right;\">0.0216473</td><td style=\"text-align: right;\">  0.638927</td><td style=\"text-align: right;\">  0.860697</td><td style=\"text-align: right;\">  0.234905</td><td style=\"text-align: right;\">          2</td><td style=\"text-align: right;\">     1</td><td style=\"text-align: right;\">       0.0717137</td><td style=\"text-align: right;\">  0.0118176 </td><td style=\"text-align: right;\">0.0025862  </td><td style=\"text-align: right;\">        0.525769</td></tr>\n",
       "<tr><td>train_search_0ad328c4</td><td>TERMINATED</td><td>10.1.1.204:15488</td><td style=\"text-align: right;\">         128</td><td style=\"text-align: right;\">        500</td><td style=\"text-align: right;\">      30</td><td style=\"text-align: right;\">0.0802617</td><td style=\"text-align: right;\">  0.752847</td><td style=\"text-align: right;\">  0.422177</td><td style=\"text-align: right;\">  0.322561</td><td style=\"text-align: right;\">          9</td><td style=\"text-align: right;\">     1</td><td style=\"text-align: right;\">       0.0568228</td><td style=\"text-align: right;\">  0.00586716</td><td style=\"text-align: right;\">0.00235899 </td><td style=\"text-align: right;\">        0.500416</td></tr>\n",
       "<tr><td>train_search_a6e955bf</td><td>TERMINATED</td><td>10.1.1.204:15488</td><td style=\"text-align: right;\">          32</td><td style=\"text-align: right;\">        400</td><td style=\"text-align: right;\">      30</td><td style=\"text-align: right;\">0.0512303</td><td style=\"text-align: right;\">  0.469415</td><td style=\"text-align: right;\">  0.519651</td><td style=\"text-align: right;\">  0.837506</td><td style=\"text-align: right;\">          2</td><td style=\"text-align: right;\">    16</td><td style=\"text-align: right;\">       1.35593  </td><td style=\"text-align: right;\">  0.0106877 </td><td style=\"text-align: right;\">0.00190069 </td><td style=\"text-align: right;\">        0.886534</td></tr>\n",
       "<tr><td>train_search_7baf5e39</td><td>TERMINATED</td><td>10.1.1.204:15488</td><td style=\"text-align: right;\">          64</td><td style=\"text-align: right;\">        400</td><td style=\"text-align: right;\">      10</td><td style=\"text-align: right;\">0.21715  </td><td style=\"text-align: right;\">  0.791741</td><td style=\"text-align: right;\">  0.434417</td><td style=\"text-align: right;\">  0.810946</td><td style=\"text-align: right;\">          7</td><td style=\"text-align: right;\">    10</td><td style=\"text-align: right;\">       0.573337 </td><td style=\"text-align: right;\">  0.00266655</td><td style=\"text-align: right;\">0.000428197</td><td style=\"text-align: right;\">        0.942643</td></tr>\n",
       "<tr><td>train_search_d15883dc</td><td>TERMINATED</td><td>10.1.1.204:15488</td><td style=\"text-align: right;\">          32</td><td style=\"text-align: right;\">        200</td><td style=\"text-align: right;\">      30</td><td style=\"text-align: right;\">0.178628 </td><td style=\"text-align: right;\">  0.653063</td><td style=\"text-align: right;\">  0.635633</td><td style=\"text-align: right;\">  0.718644</td><td style=\"text-align: right;\">          2</td><td style=\"text-align: right;\">     4</td><td style=\"text-align: right;\">       0.333451 </td><td style=\"text-align: right;\">  0.0106428 </td><td style=\"text-align: right;\">0.00187391 </td><td style=\"text-align: right;\">        0.882377</td></tr>\n",
       "<tr><td>train_search_15f4227f</td><td>TERMINATED</td><td>10.1.1.204:15488</td><td style=\"text-align: right;\">          32</td><td style=\"text-align: right;\">        500</td><td style=\"text-align: right;\">      30</td><td style=\"text-align: right;\">0.132744 </td><td style=\"text-align: right;\">  0.270446</td><td style=\"text-align: right;\">  0.328593</td><td style=\"text-align: right;\">  0.85012 </td><td style=\"text-align: right;\">          6</td><td style=\"text-align: right;\">    30</td><td style=\"text-align: right;\">       2.55789  </td><td style=\"text-align: right;\">  0.0039982 </td><td style=\"text-align: right;\">0.000905991</td><td style=\"text-align: right;\">        0.959684</td></tr>\n",
       "<tr><td>train_search_533ea5f1</td><td>TERMINATED</td><td>10.1.1.204:15488</td><td style=\"text-align: right;\">          64</td><td style=\"text-align: right;\">        200</td><td style=\"text-align: right;\">      10</td><td style=\"text-align: right;\">0.0527368</td><td style=\"text-align: right;\">  0.162783</td><td style=\"text-align: right;\">  0.500413</td><td style=\"text-align: right;\">  0.762475</td><td style=\"text-align: right;\">          1</td><td style=\"text-align: right;\">     1</td><td style=\"text-align: right;\">       0.0610986</td><td style=\"text-align: right;\">  0.0101437 </td><td style=\"text-align: right;\">0.00251615 </td><td style=\"text-align: right;\">        0.635495</td></tr>\n",
       "<tr><td>train_search_822783f5</td><td>TERMINATED</td><td>10.1.1.204:15488</td><td style=\"text-align: right;\">          32</td><td style=\"text-align: right;\">        100</td><td style=\"text-align: right;\">      10</td><td style=\"text-align: right;\">0.0605176</td><td style=\"text-align: right;\">  0.573918</td><td style=\"text-align: right;\">  0.250659</td><td style=\"text-align: right;\">  0.792725</td><td style=\"text-align: right;\">          3</td><td style=\"text-align: right;\">     1</td><td style=\"text-align: right;\">       0.087121 </td><td style=\"text-align: right;\">  0.0207605 </td><td style=\"text-align: right;\">0.00239657 </td><td style=\"text-align: right;\">        0.618038</td></tr>\n",
       "<tr><td>train_search_31878eae</td><td>TERMINATED</td><td>10.1.1.204:15488</td><td style=\"text-align: right;\">         128</td><td style=\"text-align: right;\">        300</td><td style=\"text-align: right;\">      10</td><td style=\"text-align: right;\">0.0209007</td><td style=\"text-align: right;\">  0.761448</td><td style=\"text-align: right;\">  0.592204</td><td style=\"text-align: right;\">  0.211732</td><td style=\"text-align: right;\">          7</td><td style=\"text-align: right;\">     1</td><td style=\"text-align: right;\">       0.0515635</td><td style=\"text-align: right;\">  0.00571385</td><td style=\"text-align: right;\">0.00289965 </td><td style=\"text-align: right;\">        0.504572</td></tr>\n",
       "<tr><td>train_search_74566bf4</td><td>TERMINATED</td><td>10.1.1.204:15488</td><td style=\"text-align: right;\">         128</td><td style=\"text-align: right;\">        300</td><td style=\"text-align: right;\">      10</td><td style=\"text-align: right;\">0.0712779</td><td style=\"text-align: right;\">  0.493327</td><td style=\"text-align: right;\">  0.415742</td><td style=\"text-align: right;\">  0.616506</td><td style=\"text-align: right;\">          5</td><td style=\"text-align: right;\">     1</td><td style=\"text-align: right;\">       0.0520759</td><td style=\"text-align: right;\">  0.00591841</td><td style=\"text-align: right;\">0.00222194 </td><td style=\"text-align: right;\">        0.475894</td></tr>\n",
       "<tr><td>train_search_6fba7396</td><td>TERMINATED</td><td>10.1.1.204:15488</td><td style=\"text-align: right;\">          32</td><td style=\"text-align: right;\">        300</td><td style=\"text-align: right;\">      30</td><td style=\"text-align: right;\">0.0361673</td><td style=\"text-align: right;\">  0.760785</td><td style=\"text-align: right;\">  0.152781</td><td style=\"text-align: right;\">  0.63935 </td><td style=\"text-align: right;\">          6</td><td style=\"text-align: right;\">     1</td><td style=\"text-align: right;\">       0.0919178</td><td style=\"text-align: right;\">  0.022492  </td><td style=\"text-align: right;\">0.00281868 </td><td style=\"text-align: right;\">        0.495844</td></tr>\n",
       "<tr><td>train_search_316658de</td><td>TERMINATED</td><td>10.1.1.204:15488</td><td style=\"text-align: right;\">         128</td><td style=\"text-align: right;\">        400</td><td style=\"text-align: right;\">      30</td><td style=\"text-align: right;\">0.0535099</td><td style=\"text-align: right;\">  0.842914</td><td style=\"text-align: right;\">  0.74832 </td><td style=\"text-align: right;\">  0.460157</td><td style=\"text-align: right;\">          1</td><td style=\"text-align: right;\">     1</td><td style=\"text-align: right;\">       0.0541353</td><td style=\"text-align: right;\">  0.00563228</td><td style=\"text-align: right;\">0.0019512  </td><td style=\"text-align: right;\">        0.5266  </td></tr>\n",
       "<tr><td>train_search_24c55ccc</td><td>TERMINATED</td><td>10.1.1.204:15488</td><td style=\"text-align: right;\">         128</td><td style=\"text-align: right;\">        400</td><td style=\"text-align: right;\">      10</td><td style=\"text-align: right;\">0.348777 </td><td style=\"text-align: right;\">  0.630452</td><td style=\"text-align: right;\">  0.724793</td><td style=\"text-align: right;\">  0.407799</td><td style=\"text-align: right;\">          3</td><td style=\"text-align: right;\">     1</td><td style=\"text-align: right;\">       0.0542142</td><td style=\"text-align: right;\">  0.00525533</td><td style=\"text-align: right;\">0.00199156 </td><td style=\"text-align: right;\">        0.599335</td></tr>\n",
       "<tr><td>train_search_68d99add</td><td>TERMINATED</td><td>10.1.1.204:15488</td><td style=\"text-align: right;\">          32</td><td style=\"text-align: right;\">        500</td><td style=\"text-align: right;\">      20</td><td style=\"text-align: right;\">0.139351 </td><td style=\"text-align: right;\">  0.376502</td><td style=\"text-align: right;\">  0.893253</td><td style=\"text-align: right;\">  0.13134 </td><td style=\"text-align: right;\">          6</td><td style=\"text-align: right;\">     1</td><td style=\"text-align: right;\">       0.0970147</td><td style=\"text-align: right;\">  0.0197584 </td><td style=\"text-align: right;\">0.00176576 </td><td style=\"text-align: right;\">        0.644638</td></tr>\n",
       "<tr><td>train_search_31679fab</td><td>TERMINATED</td><td>10.1.1.204:15488</td><td style=\"text-align: right;\">          32</td><td style=\"text-align: right;\">        500</td><td style=\"text-align: right;\">      20</td><td style=\"text-align: right;\">0.269119 </td><td style=\"text-align: right;\">  0.324832</td><td style=\"text-align: right;\">  0.312717</td><td style=\"text-align: right;\">  0.508012</td><td style=\"text-align: right;\">          8</td><td style=\"text-align: right;\">     4</td><td style=\"text-align: right;\">       0.339621 </td><td style=\"text-align: right;\">  0.00883159</td><td style=\"text-align: right;\">0.000881224</td><td style=\"text-align: right;\">        0.894431</td></tr>\n",
       "<tr><td>train_search_9bc89050</td><td>TERMINATED</td><td>10.1.1.204:15488</td><td style=\"text-align: right;\">          32</td><td style=\"text-align: right;\">        500</td><td style=\"text-align: right;\">      20</td><td style=\"text-align: right;\">0.113666 </td><td style=\"text-align: right;\">  0.390357</td><td style=\"text-align: right;\">  0.115869</td><td style=\"text-align: right;\">  0.515426</td><td style=\"text-align: right;\">          6</td><td style=\"text-align: right;\">     1</td><td style=\"text-align: right;\">       0.0965505</td><td style=\"text-align: right;\">  0.0213882 </td><td style=\"text-align: right;\">0.00273146 </td><td style=\"text-align: right;\">        0.574813</td></tr>\n",
       "<tr><td>train_search_f571644d</td><td>TERMINATED</td><td>10.1.1.204:15488</td><td style=\"text-align: right;\">          32</td><td style=\"text-align: right;\">        100</td><td style=\"text-align: right;\">      20</td><td style=\"text-align: right;\">0.166875 </td><td style=\"text-align: right;\">  0.297158</td><td style=\"text-align: right;\">  0.806512</td><td style=\"text-align: right;\">  0.682557</td><td style=\"text-align: right;\">          6</td><td style=\"text-align: right;\">     4</td><td style=\"text-align: right;\">       0.32822  </td><td style=\"text-align: right;\">  0.0120762 </td><td style=\"text-align: right;\">0.000970681</td><td style=\"text-align: right;\">        0.858271</td></tr>\n",
       "<tr><td>train_search_e0e4d254</td><td>TERMINATED</td><td>10.1.1.204:15488</td><td style=\"text-align: right;\">          32</td><td style=\"text-align: right;\">        100</td><td style=\"text-align: right;\">      30</td><td style=\"text-align: right;\">0.247836 </td><td style=\"text-align: right;\">  0.242012</td><td style=\"text-align: right;\">  0.576442</td><td style=\"text-align: right;\">  0.889498</td><td style=\"text-align: right;\">          5</td><td style=\"text-align: right;\">    30</td><td style=\"text-align: right;\">       2.44725  </td><td style=\"text-align: right;\">  0.0026497 </td><td style=\"text-align: right;\">0.000554199</td><td style=\"text-align: right;\">        0.975478</td></tr>\n",
       "<tr><td>train_search_2e59a68d</td><td>TERMINATED</td><td>10.1.1.204:15488</td><td style=\"text-align: right;\">          32</td><td style=\"text-align: right;\">        500</td><td style=\"text-align: right;\">      20</td><td style=\"text-align: right;\">0.108075 </td><td style=\"text-align: right;\">  0.431315</td><td style=\"text-align: right;\">  0.33355 </td><td style=\"text-align: right;\">  0.432376</td><td style=\"text-align: right;\">          8</td><td style=\"text-align: right;\">     1</td><td style=\"text-align: right;\">       0.0971398</td><td style=\"text-align: right;\">  0.0195792 </td><td style=\"text-align: right;\">0.0019076  </td><td style=\"text-align: right;\">        0.633416</td></tr>\n",
       "<tr><td>train_search_f57d96f7</td><td>TERMINATED</td><td>10.1.1.204:15488</td><td style=\"text-align: right;\">          32</td><td style=\"text-align: right;\">        200</td><td style=\"text-align: right;\">      30</td><td style=\"text-align: right;\">0.301135 </td><td style=\"text-align: right;\">  0.226748</td><td style=\"text-align: right;\">  0.57936 </td><td style=\"text-align: right;\">  0.892299</td><td style=\"text-align: right;\">          4</td><td style=\"text-align: right;\">    16</td><td style=\"text-align: right;\">       1.33072  </td><td style=\"text-align: right;\">  0.00240519</td><td style=\"text-align: right;\">0.000274251</td><td style=\"text-align: right;\">        0.98005 </td></tr>\n",
       "<tr><td>train_search_f8d74936</td><td>TERMINATED</td><td>10.1.1.204:15488</td><td style=\"text-align: right;\">          32</td><td style=\"text-align: right;\">        500</td><td style=\"text-align: right;\">      30</td><td style=\"text-align: right;\">0.191603 </td><td style=\"text-align: right;\">  0.107097</td><td style=\"text-align: right;\">  0.202804</td><td style=\"text-align: right;\">  0.892966</td><td style=\"text-align: right;\">          6</td><td style=\"text-align: right;\">    30</td><td style=\"text-align: right;\">       2.55799  </td><td style=\"text-align: right;\">  0.00257256</td><td style=\"text-align: right;\">0.000488813</td><td style=\"text-align: right;\">        0.97714 </td></tr>\n",
       "<tr><td>train_search_b7851ef8</td><td>TERMINATED</td><td>10.1.1.204:15488</td><td style=\"text-align: right;\">          32</td><td style=\"text-align: right;\">        100</td><td style=\"text-align: right;\">      30</td><td style=\"text-align: right;\">0.14995  </td><td style=\"text-align: right;\">  0.260484</td><td style=\"text-align: right;\">  0.538891</td><td style=\"text-align: right;\">  0.883947</td><td style=\"text-align: right;\">          5</td><td style=\"text-align: right;\">     4</td><td style=\"text-align: right;\">       0.32789  </td><td style=\"text-align: right;\">  0.00787812</td><td style=\"text-align: right;\">0.002147   </td><td style=\"text-align: right;\">        0.906068</td></tr>\n",
       "<tr><td>train_search_ca66293a</td><td>TERMINATED</td><td>10.1.1.204:15488</td><td style=\"text-align: right;\">          32</td><td style=\"text-align: right;\">        300</td><td style=\"text-align: right;\">      30</td><td style=\"text-align: right;\">0.201949 </td><td style=\"text-align: right;\">  0.108289</td><td style=\"text-align: right;\">  0.233178</td><td style=\"text-align: right;\">  0.89208 </td><td style=\"text-align: right;\">          5</td><td style=\"text-align: right;\">    16</td><td style=\"text-align: right;\">       1.33458  </td><td style=\"text-align: right;\">  0.00328748</td><td style=\"text-align: right;\">0.00229571 </td><td style=\"text-align: right;\">        0.967165</td></tr>\n",
       "<tr><td>train_search_d16157dd</td><td>TERMINATED</td><td>10.1.1.204:15488</td><td style=\"text-align: right;\">          32</td><td style=\"text-align: right;\">        100</td><td style=\"text-align: right;\">      30</td><td style=\"text-align: right;\">0.235428 </td><td style=\"text-align: right;\">  0.174862</td><td style=\"text-align: right;\">  0.182063</td><td style=\"text-align: right;\">  0.721824</td><td style=\"text-align: right;\">          5</td><td style=\"text-align: right;\">     4</td><td style=\"text-align: right;\">       0.329492 </td><td style=\"text-align: right;\">  0.00993332</td><td style=\"text-align: right;\">0.00157588 </td><td style=\"text-align: right;\">        0.885702</td></tr>\n",
       "<tr><td>train_search_04552c3f</td><td>TERMINATED</td><td>10.1.1.204:15488</td><td style=\"text-align: right;\">          32</td><td style=\"text-align: right;\">        200</td><td style=\"text-align: right;\">      30</td><td style=\"text-align: right;\">0.289705 </td><td style=\"text-align: right;\">  0.335378</td><td style=\"text-align: right;\">  0.458639</td><td style=\"text-align: right;\">  0.703656</td><td style=\"text-align: right;\">          4</td><td style=\"text-align: right;\">     4</td><td style=\"text-align: right;\">       0.335271 </td><td style=\"text-align: right;\">  0.00819826</td><td style=\"text-align: right;\">0.00171207 </td><td style=\"text-align: right;\">        0.905237</td></tr>\n",
       "<tr><td>train_search_9d834d96</td><td>TERMINATED</td><td>10.1.1.204:15488</td><td style=\"text-align: right;\">          64</td><td style=\"text-align: right;\">        100</td><td style=\"text-align: right;\">      30</td><td style=\"text-align: right;\">0.351743 </td><td style=\"text-align: right;\">  0.173463</td><td style=\"text-align: right;\">  0.36826 </td><td style=\"text-align: right;\">  0.548025</td><td style=\"text-align: right;\">          8</td><td style=\"text-align: right;\">     1</td><td style=\"text-align: right;\">       0.058562 </td><td style=\"text-align: right;\">  0.0100931 </td><td style=\"text-align: right;\">0.00177278 </td><td style=\"text-align: right;\">        0.640898</td></tr>\n",
       "<tr><td>train_search_dddda95a</td><td>TERMINATED</td><td>10.1.1.204:15488</td><td style=\"text-align: right;\">          32</td><td style=\"text-align: right;\">        500</td><td style=\"text-align: right;\">      30</td><td style=\"text-align: right;\">0.0908365</td><td style=\"text-align: right;\">  0.102289</td><td style=\"text-align: right;\">  0.643383</td><td style=\"text-align: right;\">  0.668945</td><td style=\"text-align: right;\">          7</td><td style=\"text-align: right;\">     1</td><td style=\"text-align: right;\">       0.0968697</td><td style=\"text-align: right;\">  0.0192805 </td><td style=\"text-align: right;\">0.00179363 </td><td style=\"text-align: right;\">        0.665004</td></tr>\n",
       "<tr><td>train_search_a61c48ba</td><td>TERMINATED</td><td>10.1.1.204:15488</td><td style=\"text-align: right;\">          64</td><td style=\"text-align: right;\">        100</td><td style=\"text-align: right;\">      30</td><td style=\"text-align: right;\">0.1894   </td><td style=\"text-align: right;\">  0.544386</td><td style=\"text-align: right;\">  0.802669</td><td style=\"text-align: right;\">  0.771672</td><td style=\"text-align: right;\">          6</td><td style=\"text-align: right;\">     1</td><td style=\"text-align: right;\">       0.0585804</td><td style=\"text-align: right;\">  0.0102705 </td><td style=\"text-align: right;\">0.00229092 </td><td style=\"text-align: right;\">        0.625935</td></tr>\n",
       "<tr><td>train_search_11c94fb9</td><td>TERMINATED</td><td>10.1.1.204:15488</td><td style=\"text-align: right;\">          32</td><td style=\"text-align: right;\">        100</td><td style=\"text-align: right;\">      30</td><td style=\"text-align: right;\">0.258146 </td><td style=\"text-align: right;\">  0.216469</td><td style=\"text-align: right;\">  0.47284 </td><td style=\"text-align: right;\">  0.843784</td><td style=\"text-align: right;\">          1</td><td style=\"text-align: right;\">     1</td><td style=\"text-align: right;\">       0.0870404</td><td style=\"text-align: right;\">  0.0175177 </td><td style=\"text-align: right;\">0.00163312 </td><td style=\"text-align: right;\">        0.713633</td></tr>\n",
       "<tr><td>train_search_0de466bd</td><td>TERMINATED</td><td>10.1.1.204:15488</td><td style=\"text-align: right;\">          32</td><td style=\"text-align: right;\">        500</td><td style=\"text-align: right;\">      30</td><td style=\"text-align: right;\">0.0293867</td><td style=\"text-align: right;\">  0.163282</td><td style=\"text-align: right;\">  0.576758</td><td style=\"text-align: right;\">  0.565717</td><td style=\"text-align: right;\">          9</td><td style=\"text-align: right;\">     1</td><td style=\"text-align: right;\">       0.0971949</td><td style=\"text-align: right;\">  0.0212282 </td><td style=\"text-align: right;\">0.00191958 </td><td style=\"text-align: right;\">        0.585204</td></tr>\n",
       "<tr><td>train_search_6203b4e4</td><td>TERMINATED</td><td>10.1.1.204:15488</td><td style=\"text-align: right;\">          64</td><td style=\"text-align: right;\">        100</td><td style=\"text-align: right;\">      30</td><td style=\"text-align: right;\">0.121038 </td><td style=\"text-align: right;\">  0.695365</td><td style=\"text-align: right;\">  0.214884</td><td style=\"text-align: right;\">  0.896611</td><td style=\"text-align: right;\">          5</td><td style=\"text-align: right;\">     1</td><td style=\"text-align: right;\">       0.0578594</td><td style=\"text-align: right;\">  0.0100696 </td><td style=\"text-align: right;\">0.00215648 </td><td style=\"text-align: right;\">        0.645054</td></tr>\n",
       "<tr><td>train_search_5b176dc1</td><td>TERMINATED</td><td>10.1.1.204:15488</td><td style=\"text-align: right;\">          32</td><td style=\"text-align: right;\">        500</td><td style=\"text-align: right;\">      30</td><td style=\"text-align: right;\">0.0938004</td><td style=\"text-align: right;\">  0.134567</td><td style=\"text-align: right;\">  0.112129</td><td style=\"text-align: right;\">  0.739704</td><td style=\"text-align: right;\">          4</td><td style=\"text-align: right;\">     1</td><td style=\"text-align: right;\">       0.0997901</td><td style=\"text-align: right;\">  0.0216295 </td><td style=\"text-align: right;\">0.00301959 </td><td style=\"text-align: right;\">        0.557357</td></tr>\n",
       "<tr><td>train_search_5110d852</td><td>TERMINATED</td><td>10.1.1.204:15488</td><td style=\"text-align: right;\">         128</td><td style=\"text-align: right;\">        300</td><td style=\"text-align: right;\">      30</td><td style=\"text-align: right;\">0.318651 </td><td style=\"text-align: right;\">  0.443263</td><td style=\"text-align: right;\">  0.280606</td><td style=\"text-align: right;\">  0.102386</td><td style=\"text-align: right;\">          5</td><td style=\"text-align: right;\">     1</td><td style=\"text-align: right;\">       0.0511456</td><td style=\"text-align: right;\">  0.00534765</td><td style=\"text-align: right;\">0.00272286 </td><td style=\"text-align: right;\">        0.563175</td></tr>\n",
       "<tr><td>train_search_7fddffb3</td><td>TERMINATED</td><td>10.1.1.204:15488</td><td style=\"text-align: right;\">          32</td><td style=\"text-align: right;\">        200</td><td style=\"text-align: right;\">      30</td><td style=\"text-align: right;\">0.149322 </td><td style=\"text-align: right;\">  0.371697</td><td style=\"text-align: right;\">  0.541115</td><td style=\"text-align: right;\">  0.317048</td><td style=\"text-align: right;\">          2</td><td style=\"text-align: right;\">     1</td><td style=\"text-align: right;\">       0.0893836</td><td style=\"text-align: right;\">  0.0207003 </td><td style=\"text-align: right;\">0.00185276 </td><td style=\"text-align: right;\">        0.613051</td></tr>\n",
       "<tr><td>train_search_91da6ae8</td><td>TERMINATED</td><td>10.1.1.204:15488</td><td style=\"text-align: right;\">          64</td><td style=\"text-align: right;\">        100</td><td style=\"text-align: right;\">      30</td><td style=\"text-align: right;\">0.219325 </td><td style=\"text-align: right;\">  0.227265</td><td style=\"text-align: right;\">  0.664767</td><td style=\"text-align: right;\">  0.813025</td><td style=\"text-align: right;\">          9</td><td style=\"text-align: right;\">     1</td><td style=\"text-align: right;\">       0.058573 </td><td style=\"text-align: right;\">  0.010028  </td><td style=\"text-align: right;\">0.00259469 </td><td style=\"text-align: right;\">        0.63591 </td></tr>\n",
       "<tr><td>train_search_29f37903</td><td>TERMINATED</td><td>10.1.1.204:15488</td><td style=\"text-align: right;\">          32</td><td style=\"text-align: right;\">        500</td><td style=\"text-align: right;\">      10</td><td style=\"text-align: right;\">0.16747  </td><td style=\"text-align: right;\">  0.128679</td><td style=\"text-align: right;\">  0.367399</td><td style=\"text-align: right;\">  0.653605</td><td style=\"text-align: right;\">          3</td><td style=\"text-align: right;\">     4</td><td style=\"text-align: right;\">       0.343174 </td><td style=\"text-align: right;\">  0.00952081</td><td style=\"text-align: right;\">0.00135599 </td><td style=\"text-align: right;\">        0.895262</td></tr>\n",
       "<tr><td>train_search_4ae1fdbb</td><td>TERMINATED</td><td>10.1.1.204:15488</td><td style=\"text-align: right;\">         128</td><td style=\"text-align: right;\">        400</td><td style=\"text-align: right;\">      30</td><td style=\"text-align: right;\">0.246456 </td><td style=\"text-align: right;\">  0.269365</td><td style=\"text-align: right;\">  0.70124 </td><td style=\"text-align: right;\">  0.815908</td><td style=\"text-align: right;\">          6</td><td style=\"text-align: right;\">     1</td><td style=\"text-align: right;\">       0.0551634</td><td style=\"text-align: right;\">  0.00519657</td><td style=\"text-align: right;\">0.00188222 </td><td style=\"text-align: right;\">        0.603076</td></tr>\n",
       "<tr><td>train_search_0c51a2fc</td><td>TERMINATED</td><td>10.1.1.204:15488</td><td style=\"text-align: right;\">          32</td><td style=\"text-align: right;\">        100</td><td style=\"text-align: right;\">      20</td><td style=\"text-align: right;\">0.0398273</td><td style=\"text-align: right;\">  0.324268</td><td style=\"text-align: right;\">  0.614207</td><td style=\"text-align: right;\">  0.603772</td><td style=\"text-align: right;\">          7</td><td style=\"text-align: right;\">     1</td><td style=\"text-align: right;\">       0.0874348</td><td style=\"text-align: right;\">  0.021523  </td><td style=\"text-align: right;\">0.00252715 </td><td style=\"text-align: right;\">        0.551122</td></tr>\n",
       "<tr><td>train_search_7e1836d6</td><td>TERMINATED</td><td>10.1.1.204:15488</td><td style=\"text-align: right;\">          64</td><td style=\"text-align: right;\">        500</td><td style=\"text-align: right;\">      30</td><td style=\"text-align: right;\">0.367441 </td><td style=\"text-align: right;\">  0.204283</td><td style=\"text-align: right;\">  0.786405</td><td style=\"text-align: right;\">  0.867824</td><td style=\"text-align: right;\">          2</td><td style=\"text-align: right;\">    16</td><td style=\"text-align: right;\">       0.935587 </td><td style=\"text-align: right;\">  0.00324446</td><td style=\"text-align: right;\">0.0003268  </td><td style=\"text-align: right;\">        0.927265</td></tr>\n",
       "<tr><td>train_search_021a1dae</td><td>TERMINATED</td><td>10.1.1.204:15488</td><td style=\"text-align: right;\">          32</td><td style=\"text-align: right;\">        200</td><td style=\"text-align: right;\">      10</td><td style=\"text-align: right;\">0.202381 </td><td style=\"text-align: right;\">  0.414063</td><td style=\"text-align: right;\">  0.48554 </td><td style=\"text-align: right;\">  0.189642</td><td style=\"text-align: right;\">          5</td><td style=\"text-align: right;\">     1</td><td style=\"text-align: right;\">       0.0896094</td><td style=\"text-align: right;\">  0.0200486 </td><td style=\"text-align: right;\">0.00213    </td><td style=\"text-align: right;\">        0.650873</td></tr>\n",
       "<tr><td>train_search_19d939ad</td><td>TERMINATED</td><td>10.1.1.204:15488</td><td style=\"text-align: right;\">         128</td><td style=\"text-align: right;\">        300</td><td style=\"text-align: right;\">      30</td><td style=\"text-align: right;\">0.088403 </td><td style=\"text-align: right;\">  0.880507</td><td style=\"text-align: right;\">  0.844677</td><td style=\"text-align: right;\">  0.776768</td><td style=\"text-align: right;\">          1</td><td style=\"text-align: right;\">     1</td><td style=\"text-align: right;\">       0.0519204</td><td style=\"text-align: right;\">  0.00546742</td><td style=\"text-align: right;\">0.00238923 </td><td style=\"text-align: right;\">        0.568163</td></tr>\n",
       "<tr><td>train_search_1c31d902</td><td>TERMINATED</td><td>10.1.1.204:15488</td><td style=\"text-align: right;\">          32</td><td style=\"text-align: right;\">        400</td><td style=\"text-align: right;\">      10</td><td style=\"text-align: right;\">0.0751065</td><td style=\"text-align: right;\">  0.297472</td><td style=\"text-align: right;\">  0.14591 </td><td style=\"text-align: right;\">  0.339019</td><td style=\"text-align: right;\">          6</td><td style=\"text-align: right;\">     1</td><td style=\"text-align: right;\">       0.0950098</td><td style=\"text-align: right;\">  0.0208032 </td><td style=\"text-align: right;\">0.00181826 </td><td style=\"text-align: right;\">        0.623441</td></tr>\n",
       "<tr><td>train_search_11f90c0d</td><td>TERMINATED</td><td>10.1.1.204:15488</td><td style=\"text-align: right;\">          64</td><td style=\"text-align: right;\">        100</td><td style=\"text-align: right;\">      30</td><td style=\"text-align: right;\">0.0627955</td><td style=\"text-align: right;\">  0.49049 </td><td style=\"text-align: right;\">  0.442762</td><td style=\"text-align: right;\">  0.744804</td><td style=\"text-align: right;\">          9</td><td style=\"text-align: right;\">     1</td><td style=\"text-align: right;\">       0.0597796</td><td style=\"text-align: right;\">  0.0105963 </td><td style=\"text-align: right;\">0.00226118 </td><td style=\"text-align: right;\">        0.571488</td></tr>\n",
       "</tbody>\n",
       "</table>\n",
       "  </div>\n",
       "</div>\n",
       "<style>\n",
       ".tuneStatus {\n",
       "  color: var(--jp-ui-font-color1);\n",
       "}\n",
       ".tuneStatus .systemInfo {\n",
       "  display: flex;\n",
       "  flex-direction: column;\n",
       "}\n",
       ".tuneStatus td {\n",
       "  white-space: nowrap;\n",
       "}\n",
       ".tuneStatus .trialStatus {\n",
       "  display: flex;\n",
       "  flex-direction: column;\n",
       "}\n",
       ".tuneStatus h3 {\n",
       "  font-weight: bold;\n",
       "}\n",
       ".tuneStatus .hDivider {\n",
       "  border-bottom-width: var(--jp-border-width);\n",
       "  border-bottom-color: var(--jp-border-color0);\n",
       "  border-bottom-style: solid;\n",
       "}\n",
       ".tuneStatus .vDivider {\n",
       "  border-left-width: var(--jp-border-width);\n",
       "  border-left-color: var(--jp-border-color0);\n",
       "  border-left-style: solid;\n",
       "  margin: 0.5em 1em 0.5em 1em;\n",
       "}\n",
       "</style>\n"
      ],
      "text/plain": [
       "<IPython.core.display.HTML object>"
      ]
     },
     "metadata": {},
     "output_type": "display_data"
    },
    {
     "name": "stdout",
     "output_type": "stream",
     "text": [
      "\u001b[36m(train_search pid=15488)\u001b[0m cuda:0\n",
      "\u001b[36m(train_search pid=15488)\u001b[0m {'batch_size': 32, 'embed_dim': 400, 'epochs': 20, 'lr': 0.03867501386441663, 'lr_gamma': 0.5320806213172047, 'max_norm': 0.42812509256269804, 'momentum': 0.8584655629326633, 'step_size': 5}\n"
     ]
    },
    {
     "name": "stderr",
     "output_type": "stream",
     "text": [
      "\u001b[36m(train_search pid=15488)\u001b[0m Checkpoint successfully created at: Checkpoint(filesystem=local, path=/home/it/ray_results/simple_embeddings_baseline/train_search_7ea361b4_1_batch_size=32,embed_dim=400,epochs=20,lr=0.0387,lr_gamma=0.5321,max_norm=0.4281,momentum=0.8585,step_size=_2024-04-10_14-57-55/checkpoint_000000)\n",
      "\u001b[36m(train_search pid=15488)\u001b[0m Checkpoint successfully created at: Checkpoint(filesystem=local, path=/home/it/ray_results/simple_embeddings_baseline/train_search_7ea361b4_1_batch_size=32,embed_dim=400,epochs=20,lr=0.0387,lr_gamma=0.5321,max_norm=0.4281,momentum=0.8585,step_size=_2024-04-10_14-57-55/checkpoint_000001)\n",
      "\u001b[36m(train_search pid=15488)\u001b[0m Checkpoint successfully created at: Checkpoint(filesystem=local, path=/home/it/ray_results/simple_embeddings_baseline/train_search_7ea361b4_1_batch_size=32,embed_dim=400,epochs=20,lr=0.0387,lr_gamma=0.5321,max_norm=0.4281,momentum=0.8585,step_size=_2024-04-10_14-57-55/checkpoint_000002)\n",
      "\u001b[36m(train_search pid=15488)\u001b[0m Checkpoint successfully created at: Checkpoint(filesystem=local, path=/home/it/ray_results/simple_embeddings_baseline/train_search_7ea361b4_1_batch_size=32,embed_dim=400,epochs=20,lr=0.0387,lr_gamma=0.5321,max_norm=0.4281,momentum=0.8585,step_size=_2024-04-10_14-57-55/checkpoint_000003)\n"
     ]
    },
    {
     "name": "stdout",
     "output_type": "stream",
     "text": [
      "\u001b[36m(train_search pid=15488)\u001b[0m cuda:0\n",
      "\u001b[36m(train_search pid=15488)\u001b[0m {'batch_size': 32, 'embed_dim': 100, 'epochs': 20, 'lr': 0.23721039875685415, 'lr_gamma': 0.5995369915579233, 'max_norm': 0.6750928393520892, 'momentum': 0.4585703763112676, 'step_size': 5}\n"
     ]
    },
    {
     "name": "stderr",
     "output_type": "stream",
     "text": [
      "\u001b[36m(train_search pid=15488)\u001b[0m Checkpoint successfully created at: Checkpoint(filesystem=local, path=/home/it/ray_results/simple_embeddings_baseline/train_search_362b149a_2_batch_size=32,embed_dim=100,epochs=20,lr=0.2372,lr_gamma=0.5995,max_norm=0.6751,momentum=0.4586,step_size=_2024-04-10_14-57-57/checkpoint_000000)\n",
      "\u001b[36m(train_search pid=15488)\u001b[0m Checkpoint successfully created at: Checkpoint(filesystem=local, path=/home/it/ray_results/simple_embeddings_baseline/train_search_362b149a_2_batch_size=32,embed_dim=100,epochs=20,lr=0.2372,lr_gamma=0.5995,max_norm=0.6751,momentum=0.4586,step_size=_2024-04-10_14-57-57/checkpoint_000001)\n",
      "\u001b[36m(train_search pid=15488)\u001b[0m Checkpoint successfully created at: Checkpoint(filesystem=local, path=/home/it/ray_results/simple_embeddings_baseline/train_search_362b149a_2_batch_size=32,embed_dim=100,epochs=20,lr=0.2372,lr_gamma=0.5995,max_norm=0.6751,momentum=0.4586,step_size=_2024-04-10_14-57-57/checkpoint_000002)\n",
      "\u001b[36m(train_search pid=15488)\u001b[0m Checkpoint successfully created at: Checkpoint(filesystem=local, path=/home/it/ray_results/simple_embeddings_baseline/train_search_362b149a_2_batch_size=32,embed_dim=100,epochs=20,lr=0.2372,lr_gamma=0.5995,max_norm=0.6751,momentum=0.4586,step_size=_2024-04-10_14-57-57/checkpoint_000003)\n"
     ]
    },
    {
     "name": "stdout",
     "output_type": "stream",
     "text": [
      "\u001b[36m(train_search pid=15488)\u001b[0m cuda:0\n",
      "\u001b[36m(train_search pid=15488)\u001b[0m {'batch_size': 64, 'embed_dim': 100, 'epochs': 30, 'lr': 0.023664591473888028, 'lr_gamma': 0.7893055057907131, 'max_norm': 0.7128080652252268, 'momentum': 0.5848201214663963, 'step_size': 4}\n",
      "\u001b[36m(train_search pid=15488)\u001b[0m cuda:0\n",
      "\u001b[36m(train_search pid=15488)\u001b[0m {'batch_size': 64, 'embed_dim': 100, 'epochs': 20, 'lr': 0.34986729830849117, 'lr_gamma': 0.1275599179605803, 'max_norm': 0.673459452203113, 'momentum': 0.2649648652260478, 'step_size': 9}\n",
      "\u001b[36m(train_search pid=15488)\u001b[0m cuda:0\n",
      "\u001b[36m(train_search pid=15488)\u001b[0m {'batch_size': 128, 'embed_dim': 400, 'epochs': 20, 'lr': 0.1034728076209637, 'lr_gamma': 0.2206314612656442, 'max_norm': 0.2598830249367108, 'momentum': 0.7622236927348424, 'step_size': 9}\n",
      "\u001b[36m(train_search pid=15488)\u001b[0m cuda:0\n",
      "\u001b[36m(train_search pid=15488)\u001b[0m {'batch_size': 128, 'embed_dim': 100, 'epochs': 10, 'lr': 0.06733108498615062, 'lr_gamma': 0.8183980315570218, 'max_norm': 0.7479241779454523, 'momentum': 0.36312244419356143, 'step_size': 3}\n",
      "\u001b[36m(train_search pid=15488)\u001b[0m cuda:0\n",
      "\u001b[36m(train_search pid=15488)\u001b[0m {'batch_size': 32, 'embed_dim': 400, 'epochs': 30, 'lr': 0.020001261584939548, 'lr_gamma': 0.7965532192104171, 'max_norm': 0.3907766143228649, 'momentum': 0.595644301318875, 'step_size': 5}\n",
      "\u001b[36m(train_search pid=15488)\u001b[0m cuda:0\n",
      "\u001b[36m(train_search pid=15488)\u001b[0m {'batch_size': 64, 'embed_dim': 500, 'epochs': 20, 'lr': 0.021647339600650763, 'lr_gamma': 0.6389273579666473, 'max_norm': 0.8606970939437172, 'momentum': 0.2349046733034948, 'step_size': 2}\n",
      "\u001b[36m(train_search pid=15488)\u001b[0m cuda:0\n",
      "\u001b[36m(train_search pid=15488)\u001b[0m {'batch_size': 128, 'embed_dim': 500, 'epochs': 30, 'lr': 0.08026172142313533, 'lr_gamma': 0.7528470368670377, 'max_norm': 0.4221770794521468, 'momentum': 0.3225607376477806, 'step_size': 9}\n",
      "\u001b[36m(train_search pid=15488)\u001b[0m cuda:0\n",
      "\u001b[36m(train_search pid=15488)\u001b[0m {'batch_size': 32, 'embed_dim': 400, 'epochs': 30, 'lr': 0.05123030633663945, 'lr_gamma': 0.46941479461445734, 'max_norm': 0.5196509879957633, 'momentum': 0.837506436513654, 'step_size': 2}\n"
     ]
    },
    {
     "name": "stderr",
     "output_type": "stream",
     "text": [
      "\u001b[36m(train_search pid=15488)\u001b[0m Checkpoint successfully created at: Checkpoint(filesystem=local, path=/home/it/ray_results/simple_embeddings_baseline/train_search_a6e955bf_10_batch_size=32,embed_dim=400,epochs=30,lr=0.0512,lr_gamma=0.4694,max_norm=0.5197,momentum=0.8375,step_size_2024-04-10_14-58-01/checkpoint_000000)\n",
      "\u001b[36m(train_search pid=15488)\u001b[0m Checkpoint successfully created at: Checkpoint(filesystem=local, path=/home/it/ray_results/simple_embeddings_baseline/train_search_a6e955bf_10_batch_size=32,embed_dim=400,epochs=30,lr=0.0512,lr_gamma=0.4694,max_norm=0.5197,momentum=0.8375,step_size_2024-04-10_14-58-01/checkpoint_000001)\n",
      "\u001b[36m(train_search pid=15488)\u001b[0m Checkpoint successfully created at: Checkpoint(filesystem=local, path=/home/it/ray_results/simple_embeddings_baseline/train_search_a6e955bf_10_batch_size=32,embed_dim=400,epochs=30,lr=0.0512,lr_gamma=0.4694,max_norm=0.5197,momentum=0.8375,step_size_2024-04-10_14-58-01/checkpoint_000002)\n"
     ]
    },
    {
     "name": "stdout",
     "output_type": "stream",
     "text": [
      "\u001b[36m(train_search pid=15488)\u001b[0m cuda:0\n",
      "\u001b[36m(train_search pid=15488)\u001b[0m {'batch_size': 64, 'embed_dim': 400, 'epochs': 10, 'lr': 0.21715015365461954, 'lr_gamma': 0.7917406879260217, 'max_norm': 0.4344174552597506, 'momentum': 0.8109459935396153, 'step_size': 7}\n"
     ]
    },
    {
     "name": "stderr",
     "output_type": "stream",
     "text": [
      "\u001b[36m(train_search pid=15488)\u001b[0m Checkpoint successfully created at: Checkpoint(filesystem=local, path=/home/it/ray_results/simple_embeddings_baseline/train_search_7baf5e39_11_batch_size=64,embed_dim=400,epochs=10,lr=0.2172,lr_gamma=0.7917,max_norm=0.4344,momentum=0.8109,step_size_2024-04-10_14-58-01/checkpoint_000000)\n",
      "\u001b[36m(train_search pid=15488)\u001b[0m Checkpoint successfully created at: Checkpoint(filesystem=local, path=/home/it/ray_results/simple_embeddings_baseline/train_search_7baf5e39_11_batch_size=64,embed_dim=400,epochs=10,lr=0.2172,lr_gamma=0.7917,max_norm=0.4344,momentum=0.8109,step_size_2024-04-10_14-58-01/checkpoint_000001)\n"
     ]
    },
    {
     "name": "stdout",
     "output_type": "stream",
     "text": [
      "\u001b[36m(train_search pid=15488)\u001b[0m cuda:0\n",
      "\u001b[36m(train_search pid=15488)\u001b[0m {'batch_size': 32, 'embed_dim': 200, 'epochs': 30, 'lr': 0.17862786357732172, 'lr_gamma': 0.6530631536296678, 'max_norm': 0.6356330002142838, 'momentum': 0.7186439222998152, 'step_size': 2}\n",
      "\u001b[36m(train_search pid=15488)\u001b[0m cuda:0\n",
      "\u001b[36m(train_search pid=15488)\u001b[0m {'batch_size': 32, 'embed_dim': 500, 'epochs': 30, 'lr': 0.13274427327444946, 'lr_gamma': 0.27044560454827304, 'max_norm': 0.3285928252677136, 'momentum': 0.8501199889555368, 'step_size': 6}\n"
     ]
    },
    {
     "name": "stderr",
     "output_type": "stream",
     "text": [
      "\u001b[36m(train_search pid=15488)\u001b[0m Checkpoint successfully created at: Checkpoint(filesystem=local, path=/home/it/ray_results/simple_embeddings_baseline/train_search_15f4227f_13_batch_size=32,embed_dim=500,epochs=30,lr=0.1327,lr_gamma=0.2704,max_norm=0.3286,momentum=0.8501,step_size_2024-04-10_14-58-03/checkpoint_000000)\n",
      "\u001b[36m(train_search pid=15488)\u001b[0m Checkpoint successfully created at: Checkpoint(filesystem=local, path=/home/it/ray_results/simple_embeddings_baseline/train_search_15f4227f_13_batch_size=32,embed_dim=500,epochs=30,lr=0.1327,lr_gamma=0.2704,max_norm=0.3286,momentum=0.8501,step_size_2024-04-10_14-58-03/checkpoint_000001)\n",
      "\u001b[36m(train_search pid=15488)\u001b[0m Checkpoint successfully created at: Checkpoint(filesystem=local, path=/home/it/ray_results/simple_embeddings_baseline/train_search_15f4227f_13_batch_size=32,embed_dim=500,epochs=30,lr=0.1327,lr_gamma=0.2704,max_norm=0.3286,momentum=0.8501,step_size_2024-04-10_14-58-03/checkpoint_000002)\n",
      "\u001b[36m(train_search pid=15488)\u001b[0m Checkpoint successfully created at: Checkpoint(filesystem=local, path=/home/it/ray_results/simple_embeddings_baseline/train_search_15f4227f_13_batch_size=32,embed_dim=500,epochs=30,lr=0.1327,lr_gamma=0.2704,max_norm=0.3286,momentum=0.8501,step_size_2024-04-10_14-58-03/checkpoint_000003)\n",
      "\u001b[36m(train_search pid=15488)\u001b[0m Checkpoint successfully created at: Checkpoint(filesystem=local, path=/home/it/ray_results/simple_embeddings_baseline/train_search_15f4227f_13_batch_size=32,embed_dim=500,epochs=30,lr=0.1327,lr_gamma=0.2704,max_norm=0.3286,momentum=0.8501,step_size_2024-04-10_14-58-03/checkpoint_000004)\n",
      "\u001b[36m(train_search pid=15488)\u001b[0m Checkpoint successfully created at: Checkpoint(filesystem=local, path=/home/it/ray_results/simple_embeddings_baseline/train_search_15f4227f_13_batch_size=32,embed_dim=500,epochs=30,lr=0.1327,lr_gamma=0.2704,max_norm=0.3286,momentum=0.8501,step_size_2024-04-10_14-58-03/checkpoint_000005)\n"
     ]
    },
    {
     "name": "stdout",
     "output_type": "stream",
     "text": [
      "\u001b[36m(train_search pid=15488)\u001b[0m cuda:0\n",
      "\u001b[36m(train_search pid=15488)\u001b[0m {'batch_size': 64, 'embed_dim': 200, 'epochs': 10, 'lr': 0.05273677079150175, 'lr_gamma': 0.16278298088862186, 'max_norm': 0.5004134314656674, 'momentum': 0.762474922599858, 'step_size': 1}\n",
      "\u001b[36m(train_search pid=15488)\u001b[0m cuda:0\n",
      "\u001b[36m(train_search pid=15488)\u001b[0m {'batch_size': 32, 'embed_dim': 100, 'epochs': 10, 'lr': 0.06051758725364498, 'lr_gamma': 0.5739179114659945, 'max_norm': 0.2506587352424646, 'momentum': 0.7927251912769764, 'step_size': 3}\n",
      "\u001b[36m(train_search pid=15488)\u001b[0m cuda:0\n",
      "\u001b[36m(train_search pid=15488)\u001b[0m {'batch_size': 128, 'embed_dim': 300, 'epochs': 10, 'lr': 0.02090069874777538, 'lr_gamma': 0.7614477707424568, 'max_norm': 0.5922039305227781, 'momentum': 0.21173184833703715, 'step_size': 7}\n",
      "\u001b[36m(train_search pid=15488)\u001b[0m cuda:0\n",
      "\u001b[36m(train_search pid=15488)\u001b[0m {'batch_size': 128, 'embed_dim': 300, 'epochs': 10, 'lr': 0.07127794270815402, 'lr_gamma': 0.4933268156794014, 'max_norm': 0.4157417733630797, 'momentum': 0.616505537196441, 'step_size': 5}\n",
      "\u001b[36m(train_search pid=15488)\u001b[0m cuda:0\n",
      "\u001b[36m(train_search pid=15488)\u001b[0m {'batch_size': 32, 'embed_dim': 300, 'epochs': 30, 'lr': 0.03616733245042697, 'lr_gamma': 0.7607848164678199, 'max_norm': 0.1527808841225646, 'momentum': 0.6393498323610386, 'step_size': 6}\n",
      "\u001b[36m(train_search pid=15488)\u001b[0m cuda:0\n",
      "\u001b[36m(train_search pid=15488)\u001b[0m {'batch_size': 128, 'embed_dim': 400, 'epochs': 30, 'lr': 0.053509934144511315, 'lr_gamma': 0.8429142987299093, 'max_norm': 0.7483195121883219, 'momentum': 0.46015655816356793, 'step_size': 1}\n",
      "\u001b[36m(train_search pid=15488)\u001b[0m cuda:0\n",
      "\u001b[36m(train_search pid=15488)\u001b[0m {'batch_size': 128, 'embed_dim': 400, 'epochs': 10, 'lr': 0.34877659264041183, 'lr_gamma': 0.6304518963278645, 'max_norm': 0.7247931949896366, 'momentum': 0.40779881137135787, 'step_size': 3}\n",
      "\u001b[36m(train_search pid=15488)\u001b[0m cuda:0\n",
      "\u001b[36m(train_search pid=15488)\u001b[0m {'batch_size': 32, 'embed_dim': 500, 'epochs': 20, 'lr': 0.13935096469129535, 'lr_gamma': 0.37650164822631615, 'max_norm': 0.8932534454363579, 'momentum': 0.1313398644290646, 'step_size': 6}\n",
      "\u001b[36m(train_search pid=15488)\u001b[0m cuda:0\n",
      "\u001b[36m(train_search pid=15488)\u001b[0m {'batch_size': 32, 'embed_dim': 500, 'epochs': 20, 'lr': 0.2691191701244301, 'lr_gamma': 0.3248316626202467, 'max_norm': 0.3127166455030379, 'momentum': 0.5080124773571947, 'step_size': 8}\n",
      "\u001b[36m(train_search pid=15488)\u001b[0m cuda:0\n",
      "\u001b[36m(train_search pid=15488)\u001b[0m {'batch_size': 32, 'embed_dim': 500, 'epochs': 20, 'lr': 0.11366621396610634, 'lr_gamma': 0.39035730193928597, 'max_norm': 0.11586887069326435, 'momentum': 0.5154260601561436, 'step_size': 6}\n",
      "\u001b[36m(train_search pid=15488)\u001b[0m cuda:0\n",
      "\u001b[36m(train_search pid=15488)\u001b[0m {'batch_size': 32, 'embed_dim': 100, 'epochs': 20, 'lr': 0.16687548085410686, 'lr_gamma': 0.2971584519851953, 'max_norm': 0.8065123039175315, 'momentum': 0.6825569457767071, 'step_size': 6}\n",
      "\u001b[36m(train_search pid=15488)\u001b[0m cuda:0\n",
      "\u001b[36m(train_search pid=15488)\u001b[0m {'batch_size': 32, 'embed_dim': 100, 'epochs': 30, 'lr': 0.24783572878494153, 'lr_gamma': 0.24201228698978489, 'max_norm': 0.5764424539905524, 'momentum': 0.8894977635626168, 'step_size': 5}\n"
     ]
    },
    {
     "name": "stderr",
     "output_type": "stream",
     "text": [
      "\u001b[36m(train_search pid=15488)\u001b[0m Checkpoint successfully created at: Checkpoint(filesystem=local, path=/home/it/ray_results/simple_embeddings_baseline/train_search_e0e4d254_25_batch_size=32,embed_dim=100,epochs=30,lr=0.2478,lr_gamma=0.2420,max_norm=0.5764,momentum=0.8895,step_size_2024-04-10_14-58-07/checkpoint_000000)\n",
      "\u001b[36m(train_search pid=15488)\u001b[0m Checkpoint successfully created at: Checkpoint(filesystem=local, path=/home/it/ray_results/simple_embeddings_baseline/train_search_e0e4d254_25_batch_size=32,embed_dim=100,epochs=30,lr=0.2478,lr_gamma=0.2420,max_norm=0.5764,momentum=0.8895,step_size_2024-04-10_14-58-07/checkpoint_000001)\n",
      "\u001b[36m(train_search pid=15488)\u001b[0m Checkpoint successfully created at: Checkpoint(filesystem=local, path=/home/it/ray_results/simple_embeddings_baseline/train_search_e0e4d254_25_batch_size=32,embed_dim=100,epochs=30,lr=0.2478,lr_gamma=0.2420,max_norm=0.5764,momentum=0.8895,step_size_2024-04-10_14-58-07/checkpoint_000002)\n",
      "\u001b[36m(train_search pid=15488)\u001b[0m Checkpoint successfully created at: Checkpoint(filesystem=local, path=/home/it/ray_results/simple_embeddings_baseline/train_search_e0e4d254_25_batch_size=32,embed_dim=100,epochs=30,lr=0.2478,lr_gamma=0.2420,max_norm=0.5764,momentum=0.8895,step_size_2024-04-10_14-58-07/checkpoint_000003)\n",
      "\u001b[36m(train_search pid=15488)\u001b[0m Checkpoint successfully created at: Checkpoint(filesystem=local, path=/home/it/ray_results/simple_embeddings_baseline/train_search_e0e4d254_25_batch_size=32,embed_dim=100,epochs=30,lr=0.2478,lr_gamma=0.2420,max_norm=0.5764,momentum=0.8895,step_size_2024-04-10_14-58-07/checkpoint_000004)\n",
      "\u001b[36m(train_search pid=15488)\u001b[0m Checkpoint successfully created at: Checkpoint(filesystem=local, path=/home/it/ray_results/simple_embeddings_baseline/train_search_e0e4d254_25_batch_size=32,embed_dim=100,epochs=30,lr=0.2478,lr_gamma=0.2420,max_norm=0.5764,momentum=0.8895,step_size_2024-04-10_14-58-07/checkpoint_000005)\n"
     ]
    },
    {
     "name": "stdout",
     "output_type": "stream",
     "text": [
      "\u001b[36m(train_search pid=15488)\u001b[0m cuda:0\n",
      "\u001b[36m(train_search pid=15488)\u001b[0m {'batch_size': 32, 'embed_dim': 500, 'epochs': 20, 'lr': 0.10807529498463217, 'lr_gamma': 0.4313145951664672, 'max_norm': 0.33355017077188387, 'momentum': 0.4323762586233974, 'step_size': 8}\n",
      "\u001b[36m(train_search pid=15488)\u001b[0m cuda:0\n",
      "\u001b[36m(train_search pid=15488)\u001b[0m {'batch_size': 32, 'embed_dim': 200, 'epochs': 30, 'lr': 0.30113452000045304, 'lr_gamma': 0.2267483302030566, 'max_norm': 0.5793604263922993, 'momentum': 0.8922985073872801, 'step_size': 4}\n"
     ]
    },
    {
     "name": "stderr",
     "output_type": "stream",
     "text": [
      "\u001b[36m(train_search pid=15488)\u001b[0m Checkpoint successfully created at: Checkpoint(filesystem=local, path=/home/it/ray_results/simple_embeddings_baseline/train_search_f57d96f7_27_batch_size=32,embed_dim=200,epochs=30,lr=0.3011,lr_gamma=0.2267,max_norm=0.5794,momentum=0.8923,step_size_2024-04-10_14-58-10/checkpoint_000000)\n",
      "\u001b[36m(train_search pid=15488)\u001b[0m Checkpoint successfully created at: Checkpoint(filesystem=local, path=/home/it/ray_results/simple_embeddings_baseline/train_search_f57d96f7_27_batch_size=32,embed_dim=200,epochs=30,lr=0.3011,lr_gamma=0.2267,max_norm=0.5794,momentum=0.8923,step_size_2024-04-10_14-58-10/checkpoint_000001)\n",
      "\u001b[36m(train_search pid=15488)\u001b[0m Checkpoint successfully created at: Checkpoint(filesystem=local, path=/home/it/ray_results/simple_embeddings_baseline/train_search_f57d96f7_27_batch_size=32,embed_dim=200,epochs=30,lr=0.3011,lr_gamma=0.2267,max_norm=0.5794,momentum=0.8923,step_size_2024-04-10_14-58-10/checkpoint_000002)\n"
     ]
    },
    {
     "name": "stdout",
     "output_type": "stream",
     "text": [
      "\u001b[36m(train_search pid=15488)\u001b[0m cuda:0\n",
      "\u001b[36m(train_search pid=15488)\u001b[0m {'batch_size': 32, 'embed_dim': 500, 'epochs': 30, 'lr': 0.19160283317175064, 'lr_gamma': 0.10709667500447448, 'max_norm': 0.2028041005756147, 'momentum': 0.8929662373845024, 'step_size': 6}\n"
     ]
    },
    {
     "name": "stderr",
     "output_type": "stream",
     "text": [
      "\u001b[36m(train_search pid=15488)\u001b[0m Checkpoint successfully created at: Checkpoint(filesystem=local, path=/home/it/ray_results/simple_embeddings_baseline/train_search_f8d74936_28_batch_size=32,embed_dim=500,epochs=30,lr=0.1916,lr_gamma=0.1071,max_norm=0.2028,momentum=0.8930,step_size_2024-04-10_14-58-10/checkpoint_000000)\n",
      "\u001b[36m(train_search pid=15488)\u001b[0m Checkpoint successfully created at: Checkpoint(filesystem=local, path=/home/it/ray_results/simple_embeddings_baseline/train_search_f8d74936_28_batch_size=32,embed_dim=500,epochs=30,lr=0.1916,lr_gamma=0.1071,max_norm=0.2028,momentum=0.8930,step_size_2024-04-10_14-58-10/checkpoint_000001)\n",
      "\u001b[36m(train_search pid=15488)\u001b[0m Checkpoint successfully created at: Checkpoint(filesystem=local, path=/home/it/ray_results/simple_embeddings_baseline/train_search_f8d74936_28_batch_size=32,embed_dim=500,epochs=30,lr=0.1916,lr_gamma=0.1071,max_norm=0.2028,momentum=0.8930,step_size_2024-04-10_14-58-10/checkpoint_000002)\n",
      "\u001b[36m(train_search pid=15488)\u001b[0m Checkpoint successfully created at: Checkpoint(filesystem=local, path=/home/it/ray_results/simple_embeddings_baseline/train_search_f8d74936_28_batch_size=32,embed_dim=500,epochs=30,lr=0.1916,lr_gamma=0.1071,max_norm=0.2028,momentum=0.8930,step_size_2024-04-10_14-58-10/checkpoint_000003)\n",
      "\u001b[36m(train_search pid=15488)\u001b[0m Checkpoint successfully created at: Checkpoint(filesystem=local, path=/home/it/ray_results/simple_embeddings_baseline/train_search_f8d74936_28_batch_size=32,embed_dim=500,epochs=30,lr=0.1916,lr_gamma=0.1071,max_norm=0.2028,momentum=0.8930,step_size_2024-04-10_14-58-10/checkpoint_000004)\n",
      "\u001b[36m(train_search pid=15488)\u001b[0m Checkpoint successfully created at: Checkpoint(filesystem=local, path=/home/it/ray_results/simple_embeddings_baseline/train_search_f8d74936_28_batch_size=32,embed_dim=500,epochs=30,lr=0.1916,lr_gamma=0.1071,max_norm=0.2028,momentum=0.8930,step_size_2024-04-10_14-58-10/checkpoint_000005)\n"
     ]
    },
    {
     "name": "stdout",
     "output_type": "stream",
     "text": [
      "\u001b[36m(train_search pid=15488)\u001b[0m cuda:0\n",
      "\u001b[36m(train_search pid=15488)\u001b[0m {'batch_size': 32, 'embed_dim': 100, 'epochs': 30, 'lr': 0.14995016157784785, 'lr_gamma': 0.2604844958353343, 'max_norm': 0.5388914152483202, 'momentum': 0.883947189563366, 'step_size': 5}\n",
      "\u001b[36m(train_search pid=15488)\u001b[0m cuda:0\n",
      "\u001b[36m(train_search pid=15488)\u001b[0m {'batch_size': 32, 'embed_dim': 300, 'epochs': 30, 'lr': 0.20194942180930758, 'lr_gamma': 0.108288520587935, 'max_norm': 0.23317759204945523, 'momentum': 0.8920800848677178, 'step_size': 5}\n"
     ]
    },
    {
     "name": "stderr",
     "output_type": "stream",
     "text": [
      "\u001b[36m(train_search pid=15488)\u001b[0m Checkpoint successfully created at: Checkpoint(filesystem=local, path=/home/it/ray_results/simple_embeddings_baseline/train_search_ca66293a_30_batch_size=32,embed_dim=300,epochs=30,lr=0.2019,lr_gamma=0.1083,max_norm=0.2332,momentum=0.8921,step_size_2024-04-10_14-58-14/checkpoint_000000)\n",
      "\u001b[36m(train_search pid=15488)\u001b[0m Checkpoint successfully created at: Checkpoint(filesystem=local, path=/home/it/ray_results/simple_embeddings_baseline/train_search_ca66293a_30_batch_size=32,embed_dim=300,epochs=30,lr=0.2019,lr_gamma=0.1083,max_norm=0.2332,momentum=0.8921,step_size_2024-04-10_14-58-14/checkpoint_000001)\n",
      "\u001b[36m(train_search pid=15488)\u001b[0m Checkpoint successfully created at: Checkpoint(filesystem=local, path=/home/it/ray_results/simple_embeddings_baseline/train_search_ca66293a_30_batch_size=32,embed_dim=300,epochs=30,lr=0.2019,lr_gamma=0.1083,max_norm=0.2332,momentum=0.8921,step_size_2024-04-10_14-58-14/checkpoint_000002)\n"
     ]
    },
    {
     "name": "stdout",
     "output_type": "stream",
     "text": [
      "\u001b[36m(train_search pid=15488)\u001b[0m cuda:0\n",
      "\u001b[36m(train_search pid=15488)\u001b[0m {'batch_size': 32, 'embed_dim': 100, 'epochs': 30, 'lr': 0.2354280544252845, 'lr_gamma': 0.17486217475514798, 'max_norm': 0.18206339056276938, 'momentum': 0.7218242418424896, 'step_size': 5}\n",
      "\u001b[36m(train_search pid=15488)\u001b[0m cuda:0\n",
      "\u001b[36m(train_search pid=15488)\u001b[0m {'batch_size': 32, 'embed_dim': 200, 'epochs': 30, 'lr': 0.28970482328962227, 'lr_gamma': 0.33537762970196694, 'max_norm': 0.45863922057436646, 'momentum': 0.7036561350370271, 'step_size': 4}\n",
      "\u001b[36m(train_search pid=15488)\u001b[0m cuda:0\n",
      "\u001b[36m(train_search pid=15488)\u001b[0m {'batch_size': 64, 'embed_dim': 100, 'epochs': 30, 'lr': 0.3517425308970027, 'lr_gamma': 0.1734631725467593, 'max_norm': 0.36825966380254693, 'momentum': 0.5480250727481859, 'step_size': 8}\n",
      "\u001b[36m(train_search pid=15488)\u001b[0m cuda:0\n",
      "\u001b[36m(train_search pid=15488)\u001b[0m {'batch_size': 32, 'embed_dim': 500, 'epochs': 30, 'lr': 0.09083647469780742, 'lr_gamma': 0.10228879171659788, 'max_norm': 0.6433833666629314, 'momentum': 0.6689452369399506, 'step_size': 7}\n",
      "\u001b[36m(train_search pid=15488)\u001b[0m cuda:0\n",
      "\u001b[36m(train_search pid=15488)\u001b[0m {'batch_size': 64, 'embed_dim': 100, 'epochs': 30, 'lr': 0.18940027026920825, 'lr_gamma': 0.544386224167615, 'max_norm': 0.8026690885105027, 'momentum': 0.7716723453097818, 'step_size': 6}\n",
      "\u001b[36m(train_search pid=15488)\u001b[0m cuda:0\n",
      "\u001b[36m(train_search pid=15488)\u001b[0m {'batch_size': 32, 'embed_dim': 100, 'epochs': 30, 'lr': 0.2581461982722033, 'lr_gamma': 0.2164694455711696, 'max_norm': 0.47284031806968274, 'momentum': 0.8437840486760422, 'step_size': 1}\n",
      "\u001b[36m(train_search pid=15488)\u001b[0m cuda:0\n",
      "\u001b[36m(train_search pid=15488)\u001b[0m {'batch_size': 32, 'embed_dim': 500, 'epochs': 30, 'lr': 0.029386669762520322, 'lr_gamma': 0.16328174029382664, 'max_norm': 0.5767582165749834, 'momentum': 0.5657170340089758, 'step_size': 9}\n",
      "\u001b[36m(train_search pid=15488)\u001b[0m cuda:0\n",
      "\u001b[36m(train_search pid=15488)\u001b[0m {'batch_size': 64, 'embed_dim': 100, 'epochs': 30, 'lr': 0.12103802620131403, 'lr_gamma': 0.6953648090747065, 'max_norm': 0.21488355621445399, 'momentum': 0.8966105782590226, 'step_size': 5}\n",
      "\u001b[36m(train_search pid=15488)\u001b[0m cuda:0\n",
      "\u001b[36m(train_search pid=15488)\u001b[0m {'batch_size': 32, 'embed_dim': 500, 'epochs': 30, 'lr': 0.09380035368963448, 'lr_gamma': 0.13456703316075252, 'max_norm': 0.11212912729705643, 'momentum': 0.7397039940450796, 'step_size': 4}\n",
      "\u001b[36m(train_search pid=15488)\u001b[0m cuda:0\n",
      "\u001b[36m(train_search pid=15488)\u001b[0m {'batch_size': 128, 'embed_dim': 300, 'epochs': 30, 'lr': 0.3186512796098567, 'lr_gamma': 0.4432630417436216, 'max_norm': 0.28060624489205943, 'momentum': 0.10238621749829468, 'step_size': 5}\n",
      "\u001b[36m(train_search pid=15488)\u001b[0m cuda:0\n",
      "\u001b[36m(train_search pid=15488)\u001b[0m {'batch_size': 32, 'embed_dim': 200, 'epochs': 30, 'lr': 0.14932234461776545, 'lr_gamma': 0.37169651277513266, 'max_norm': 0.5411150818488105, 'momentum': 0.31704768351108437, 'step_size': 2}\n",
      "\u001b[36m(train_search pid=15488)\u001b[0m cuda:0\n",
      "\u001b[36m(train_search pid=15488)\u001b[0m {'batch_size': 64, 'embed_dim': 100, 'epochs': 30, 'lr': 0.2193249487969895, 'lr_gamma': 0.22726529882124658, 'max_norm': 0.664767271497549, 'momentum': 0.8130245032300102, 'step_size': 9}\n",
      "\u001b[36m(train_search pid=15488)\u001b[0m cuda:0\n",
      "\u001b[36m(train_search pid=15488)\u001b[0m {'batch_size': 32, 'embed_dim': 500, 'epochs': 10, 'lr': 0.16746961766427304, 'lr_gamma': 0.1286791166775055, 'max_norm': 0.36739885727674226, 'momentum': 0.6536052431048321, 'step_size': 3}\n",
      "\u001b[36m(train_search pid=15488)\u001b[0m cuda:0\n",
      "\u001b[36m(train_search pid=15488)\u001b[0m {'batch_size': 128, 'embed_dim': 400, 'epochs': 30, 'lr': 0.24645585455069352, 'lr_gamma': 0.269365036236601, 'max_norm': 0.7012395341115056, 'momentum': 0.8159079319101521, 'step_size': 6}\n",
      "\u001b[36m(train_search pid=15488)\u001b[0m cuda:0\n",
      "\u001b[36m(train_search pid=15488)\u001b[0m {'batch_size': 32, 'embed_dim': 100, 'epochs': 20, 'lr': 0.039827280770339694, 'lr_gamma': 0.324267530763548, 'max_norm': 0.6142067843042488, 'momentum': 0.6037718158945145, 'step_size': 7}\n",
      "\u001b[36m(train_search pid=15488)\u001b[0m cuda:0\n",
      "\u001b[36m(train_search pid=15488)\u001b[0m {'batch_size': 64, 'embed_dim': 500, 'epochs': 30, 'lr': 0.36744056357216776, 'lr_gamma': 0.20428252656375662, 'max_norm': 0.7864051757360001, 'momentum': 0.8678235056043606, 'step_size': 2}\n"
     ]
    },
    {
     "name": "stderr",
     "output_type": "stream",
     "text": [
      "\u001b[36m(train_search pid=15488)\u001b[0m Checkpoint successfully created at: Checkpoint(filesystem=local, path=/home/it/ray_results/simple_embeddings_baseline/train_search_7e1836d6_46_batch_size=64,embed_dim=500,epochs=30,lr=0.3674,lr_gamma=0.2043,max_norm=0.7864,momentum=0.8678,step_size_2024-04-10_14-58-18/checkpoint_000000)\n",
      "\u001b[36m(train_search pid=15488)\u001b[0m Checkpoint successfully created at: Checkpoint(filesystem=local, path=/home/it/ray_results/simple_embeddings_baseline/train_search_7e1836d6_46_batch_size=64,embed_dim=500,epochs=30,lr=0.3674,lr_gamma=0.2043,max_norm=0.7864,momentum=0.8678,step_size_2024-04-10_14-58-18/checkpoint_000001)\n",
      "\u001b[36m(train_search pid=15488)\u001b[0m Checkpoint successfully created at: Checkpoint(filesystem=local, path=/home/it/ray_results/simple_embeddings_baseline/train_search_7e1836d6_46_batch_size=64,embed_dim=500,epochs=30,lr=0.3674,lr_gamma=0.2043,max_norm=0.7864,momentum=0.8678,step_size_2024-04-10_14-58-18/checkpoint_000002)\n"
     ]
    },
    {
     "name": "stdout",
     "output_type": "stream",
     "text": [
      "\u001b[36m(train_search pid=15488)\u001b[0m cuda:0\n",
      "\u001b[36m(train_search pid=15488)\u001b[0m {'batch_size': 32, 'embed_dim': 200, 'epochs': 10, 'lr': 0.20238101535792022, 'lr_gamma': 0.41406255256245905, 'max_norm': 0.4855396159461203, 'momentum': 0.18964225348158764, 'step_size': 5}\n",
      "\u001b[36m(train_search pid=15488)\u001b[0m cuda:0\n",
      "\u001b[36m(train_search pid=15488)\u001b[0m {'batch_size': 128, 'embed_dim': 300, 'epochs': 30, 'lr': 0.08840297552836114, 'lr_gamma': 0.8805071906993409, 'max_norm': 0.8446771547431768, 'momentum': 0.7767675976967543, 'step_size': 1}\n",
      "\u001b[36m(train_search pid=15488)\u001b[0m cuda:0\n",
      "\u001b[36m(train_search pid=15488)\u001b[0m {'batch_size': 32, 'embed_dim': 400, 'epochs': 10, 'lr': 0.07510646816575559, 'lr_gamma': 0.29747194538261457, 'max_norm': 0.14590953144011343, 'momentum': 0.33901918184899016, 'step_size': 6}\n"
     ]
    },
    {
     "name": "stderr",
     "output_type": "stream",
     "text": [
      "2024-04-10 14:58:19,590\tINFO tune.py:1042 -- Total run time: 24.68 seconds (24.46 seconds for the tuning loop).\n"
     ]
    },
    {
     "name": "stdout",
     "output_type": "stream",
     "text": [
      "\u001b[36m(train_search pid=15488)\u001b[0m cuda:0\n",
      "\u001b[36m(train_search pid=15488)\u001b[0m {'batch_size': 64, 'embed_dim': 100, 'epochs': 30, 'lr': 0.06279553446661065, 'lr_gamma': 0.4904901679784516, 'max_norm': 0.4427622177086994, 'momentum': 0.7448043002709186, 'step_size': 9}\n"
     ]
    }
   ],
   "source": [
    "import numpy as np\n",
    "from hyperopt import hp\n",
    "from ray.tune.search.hyperopt import HyperOptSearch\n",
    "\n",
    "exp_name = \"simple_embeddings_baseline\"\n",
    "\n",
    "space = {\n",
    "    \"lr\": hp.loguniform(\"lr\", -4, -1),\n",
    "    \"momentum\": hp.uniform(\"momentum\", 0.1, 0.9),\n",
    "    \"embed_dim\": hp.choice(\"embed_dim\", [100, 200, 300, 400, 500]),\n",
    "    \"epochs\": hp.choice(\"epochs\", [10, 20, 30]),\n",
    "    \"batch_size\": hp.choice(\"batch_size\", [32, 64, 128]),\n",
    "    \"step_size\": hp.randint(\"step_size\", 1, 10),\n",
    "    \"lr_gamma\": hp.uniform(\"lr_gamma\", 0.1, 0.9),\n",
    "    \"max_norm\": hp.uniform(\"max_norm\", 0.1, 0.9),\n",
    "}\n",
    "\n",
    "hyperopt_search = HyperOptSearch(space, metric=\"accuracy_val\", mode=\"max\")\n",
    "\n",
    "# Uncomment this to enable distributed execution\n",
    "# `ray.init(address=\"auto\")`\n",
    "\n",
    "tuner = tune.Tuner(\n",
    "    tune.with_resources(train_search, resources={\"cpu\":12, \"gpu\":1}),\n",
    "    tune_config=tune.TuneConfig(\n",
    "        num_samples=50,\n",
    "        scheduler=ASHAScheduler(metric=\"accuracy_val\", mode=\"max\"), # Early stopping\n",
    "        search_alg=hyperopt_search, # Hyperopt library for Hyper-parameter Optimization\n",
    "    ),\n",
    "    run_config=train.RunConfig(\n",
    "        name=exp_name,\n",
    "        checkpoint_config=train.CheckpointConfig(\n",
    "            checkpoint_score_attribute=\"accuracy_val\",\n",
    "            num_to_keep=2,\n",
    "            # checkpoint_at_end=True\n",
    "        ),\n",
    "    ),\n",
    ")\n",
    "results = tuner.fit()"
   ]
  },
  {
   "cell_type": "code",
   "execution_count": 86,
   "id": "7e2c0cff-85d3-4031-834b-2929675efad0",
   "metadata": {
    "tags": []
   },
   "outputs": [
    {
     "data": {
      "text/plain": [
       "[<AxesSubplot:>,\n",
       " <AxesSubplot:>,\n",
       " <AxesSubplot:>,\n",
       " <AxesSubplot:>,\n",
       " <AxesSubplot:>,\n",
       " <AxesSubplot:>,\n",
       " <AxesSubplot:>,\n",
       " <AxesSubplot:>,\n",
       " <AxesSubplot:>,\n",
       " <AxesSubplot:>,\n",
       " <AxesSubplot:>,\n",
       " <AxesSubplot:>,\n",
       " <AxesSubplot:>,\n",
       " <AxesSubplot:>,\n",
       " <AxesSubplot:>,\n",
       " <AxesSubplot:>,\n",
       " <AxesSubplot:>,\n",
       " <AxesSubplot:>,\n",
       " <AxesSubplot:>,\n",
       " <AxesSubplot:>,\n",
       " <AxesSubplot:>,\n",
       " <AxesSubplot:>,\n",
       " <AxesSubplot:>,\n",
       " <AxesSubplot:>,\n",
       " <AxesSubplot:>,\n",
       " <AxesSubplot:>,\n",
       " <AxesSubplot:>,\n",
       " <AxesSubplot:>,\n",
       " <AxesSubplot:>,\n",
       " <AxesSubplot:>,\n",
       " <AxesSubplot:>,\n",
       " <AxesSubplot:>,\n",
       " <AxesSubplot:>,\n",
       " <AxesSubplot:>,\n",
       " <AxesSubplot:>,\n",
       " <AxesSubplot:>,\n",
       " <AxesSubplot:>,\n",
       " <AxesSubplot:>,\n",
       " <AxesSubplot:>,\n",
       " <AxesSubplot:>,\n",
       " <AxesSubplot:>,\n",
       " <AxesSubplot:>,\n",
       " <AxesSubplot:>,\n",
       " <AxesSubplot:>,\n",
       " <AxesSubplot:>,\n",
       " <AxesSubplot:>,\n",
       " <AxesSubplot:>,\n",
       " <AxesSubplot:>,\n",
       " <AxesSubplot:>,\n",
       " <AxesSubplot:>]"
      ]
     },
     "execution_count": 86,
     "metadata": {},
     "output_type": "execute_result"
    },
    {
     "data": {
      "image/png": "[encoded data removed]",
      "text/plain": [
       "<Figure size 432x288 with 1 Axes>"
      ]
     },
     "metadata": {
      "needs_background": "light"
     },
     "output_type": "display_data"
    }
   ],
   "source": [
    "dfs = {result.path: result.metrics_dataframe for result in results}\n",
    "[d[\"accuracy_val\"].plot() for d in dfs.values()]"
   ]
  },
  {
   "cell_type": "code",
   "execution_count": 87,
   "id": "e7ffe71c-5e0a-4e6b-a666-610bcafb1646",
   "metadata": {
    "tags": []
   },
   "outputs": [
    {
     "data": {
      "text/plain": [
       "50"
      ]
     },
     "execution_count": 87,
     "metadata": {},
     "output_type": "execute_result"
    }
   ],
   "source": [
    "len(results)"
   ]
  },
  {
   "cell_type": "code",
   "execution_count": 88,
   "id": "b6ddd068-a989-42b0-865d-bee6232e3b27",
   "metadata": {},
   "outputs": [],
   "source": [
    "best_result = results.get_best_result(\"accuracy_val\", \"max\")"
   ]
  },
  {
   "cell_type": "code",
   "execution_count": 89,
   "id": "c204b09a-a53d-43ad-b2eb-3fcbedcb85a5",
   "metadata": {},
   "outputs": [
    {
     "data": {
      "text/plain": [
       "{'batch_size': 32,\n",
       " 'embed_dim': 500,\n",
       " 'epochs': 30,\n",
       " 'lr': 0.19160283317175064,\n",
       " 'lr_gamma': 0.10709667500447448,\n",
       " 'max_norm': 0.2028041005756147,\n",
       " 'momentum': 0.8929662373845024,\n",
       " 'step_size': 6}"
      ]
     },
     "execution_count": 89,
     "metadata": {},
     "output_type": "execute_result"
    }
   ],
   "source": [
    "best_result.config"
   ]
  },
  {
   "cell_type": "code",
   "execution_count": 90,
   "id": "26a9959c-7d37-4679-b3a6-55d4372915f6",
   "metadata": {},
   "outputs": [
    {
     "data": {
      "text/html": [
       "<div>\n",
       "<style scoped>\n",
       "    .dataframe tbody tr th:only-of-type {\n",
       "        vertical-align: middle;\n",
       "    }\n",
       "\n",
       "    .dataframe tbody tr th {\n",
       "        vertical-align: top;\n",
       "    }\n",
       "\n",
       "    .dataframe thead th {\n",
       "        text-align: right;\n",
       "    }\n",
       "</style>\n",
       "<table border=\"1\" class=\"dataframe\">\n",
       "  <thead>\n",
       "    <tr style=\"text-align: right;\">\n",
       "      <th></th>\n",
       "      <th>loss_train</th>\n",
       "      <th>loss_val</th>\n",
       "      <th>accuracy_train</th>\n",
       "      <th>accuracy_val</th>\n",
       "      <th>timestamp</th>\n",
       "      <th>checkpoint_dir_name</th>\n",
       "      <th>done</th>\n",
       "      <th>training_iteration</th>\n",
       "      <th>trial_id</th>\n",
       "      <th>date</th>\n",
       "      <th>...</th>\n",
       "      <th>iterations_since_restore</th>\n",
       "      <th>config/batch_size</th>\n",
       "      <th>config/embed_dim</th>\n",
       "      <th>config/epochs</th>\n",
       "      <th>config/lr</th>\n",
       "      <th>config/lr_gamma</th>\n",
       "      <th>config/max_norm</th>\n",
       "      <th>config/momentum</th>\n",
       "      <th>config/step_size</th>\n",
       "      <th>should_checkpoint</th>\n",
       "    </tr>\n",
       "  </thead>\n",
       "  <tbody>\n",
       "    <tr>\n",
       "      <th>0</th>\n",
       "      <td>0.015004</td>\n",
       "      <td>0.001229</td>\n",
       "      <td>0.768080</td>\n",
       "      <td>0.843284</td>\n",
       "      <td>1712786291</td>\n",
       "      <td>None</td>\n",
       "      <td>False</td>\n",
       "      <td>1</td>\n",
       "      <td>f8d74936</td>\n",
       "      <td>2024-04-10_14-58-11</td>\n",
       "      <td>...</td>\n",
       "      <td>1</td>\n",
       "      <td>32</td>\n",
       "      <td>500</td>\n",
       "      <td>30</td>\n",
       "      <td>0.191603</td>\n",
       "      <td>0.107097</td>\n",
       "      <td>0.202804</td>\n",
       "      <td>0.892966</td>\n",
       "      <td>6</td>\n",
       "      <td>NaN</td>\n",
       "    </tr>\n",
       "    <tr>\n",
       "      <th>1</th>\n",
       "      <td>0.008461</td>\n",
       "      <td>0.000827</td>\n",
       "      <td>0.898171</td>\n",
       "      <td>0.906716</td>\n",
       "      <td>1712786291</td>\n",
       "      <td>None</td>\n",
       "      <td>False</td>\n",
       "      <td>2</td>\n",
       "      <td>f8d74936</td>\n",
       "      <td>2024-04-10_14-58-11</td>\n",
       "      <td>...</td>\n",
       "      <td>2</td>\n",
       "      <td>32</td>\n",
       "      <td>500</td>\n",
       "      <td>30</td>\n",
       "      <td>0.191603</td>\n",
       "      <td>0.107097</td>\n",
       "      <td>0.202804</td>\n",
       "      <td>0.892966</td>\n",
       "      <td>6</td>\n",
       "      <td>NaN</td>\n",
       "    </tr>\n",
       "    <tr>\n",
       "      <th>2</th>\n",
       "      <td>0.006313</td>\n",
       "      <td>0.000525</td>\n",
       "      <td>0.931837</td>\n",
       "      <td>0.932836</td>\n",
       "      <td>1712786291</td>\n",
       "      <td>None</td>\n",
       "      <td>False</td>\n",
       "      <td>3</td>\n",
       "      <td>f8d74936</td>\n",
       "      <td>2024-04-10_14-58-11</td>\n",
       "      <td>...</td>\n",
       "      <td>3</td>\n",
       "      <td>32</td>\n",
       "      <td>500</td>\n",
       "      <td>30</td>\n",
       "      <td>0.191603</td>\n",
       "      <td>0.107097</td>\n",
       "      <td>0.202804</td>\n",
       "      <td>0.892966</td>\n",
       "      <td>6</td>\n",
       "      <td>NaN</td>\n",
       "    </tr>\n",
       "    <tr>\n",
       "      <th>3</th>\n",
       "      <td>0.005151</td>\n",
       "      <td>0.000392</td>\n",
       "      <td>0.943475</td>\n",
       "      <td>0.925373</td>\n",
       "      <td>1712786292</td>\n",
       "      <td>None</td>\n",
       "      <td>False</td>\n",
       "      <td>4</td>\n",
       "      <td>f8d74936</td>\n",
       "      <td>2024-04-10_14-58-12</td>\n",
       "      <td>...</td>\n",
       "      <td>4</td>\n",
       "      <td>32</td>\n",
       "      <td>500</td>\n",
       "      <td>30</td>\n",
       "      <td>0.191603</td>\n",
       "      <td>0.107097</td>\n",
       "      <td>0.202804</td>\n",
       "      <td>0.892966</td>\n",
       "      <td>6</td>\n",
       "      <td>NaN</td>\n",
       "    </tr>\n",
       "    <tr>\n",
       "      <th>4</th>\n",
       "      <td>0.004419</td>\n",
       "      <td>0.000646</td>\n",
       "      <td>0.948878</td>\n",
       "      <td>0.929104</td>\n",
       "      <td>1712786292</td>\n",
       "      <td>checkpoint_000000</td>\n",
       "      <td>False</td>\n",
       "      <td>5</td>\n",
       "      <td>f8d74936</td>\n",
       "      <td>2024-04-10_14-58-12</td>\n",
       "      <td>...</td>\n",
       "      <td>5</td>\n",
       "      <td>32</td>\n",
       "      <td>500</td>\n",
       "      <td>30</td>\n",
       "      <td>0.191603</td>\n",
       "      <td>0.107097</td>\n",
       "      <td>0.202804</td>\n",
       "      <td>0.892966</td>\n",
       "      <td>6</td>\n",
       "      <td>True</td>\n",
       "    </tr>\n",
       "    <tr>\n",
       "      <th>5</th>\n",
       "      <td>0.003629</td>\n",
       "      <td>0.000254</td>\n",
       "      <td>0.963840</td>\n",
       "      <td>0.940299</td>\n",
       "      <td>1712786292</td>\n",
       "      <td>None</td>\n",
       "      <td>False</td>\n",
       "      <td>6</td>\n",
       "      <td>f8d74936</td>\n",
       "      <td>2024-04-10_14-58-12</td>\n",
       "      <td>...</td>\n",
       "      <td>6</td>\n",
       "      <td>32</td>\n",
       "      <td>500</td>\n",
       "      <td>30</td>\n",
       "      <td>0.191603</td>\n",
       "      <td>0.107097</td>\n",
       "      <td>0.202804</td>\n",
       "      <td>0.892966</td>\n",
       "      <td>6</td>\n",
       "      <td>NaN</td>\n",
       "    </tr>\n",
       "    <tr>\n",
       "      <th>6</th>\n",
       "      <td>0.002924</td>\n",
       "      <td>0.001043</td>\n",
       "      <td>0.972569</td>\n",
       "      <td>0.940299</td>\n",
       "      <td>1712786292</td>\n",
       "      <td>None</td>\n",
       "      <td>False</td>\n",
       "      <td>7</td>\n",
       "      <td>f8d74936</td>\n",
       "      <td>2024-04-10_14-58-12</td>\n",
       "      <td>...</td>\n",
       "      <td>7</td>\n",
       "      <td>32</td>\n",
       "      <td>500</td>\n",
       "      <td>30</td>\n",
       "      <td>0.191603</td>\n",
       "      <td>0.107097</td>\n",
       "      <td>0.202804</td>\n",
       "      <td>0.892966</td>\n",
       "      <td>6</td>\n",
       "      <td>NaN</td>\n",
       "    </tr>\n",
       "    <tr>\n",
       "      <th>7</th>\n",
       "      <td>0.002893</td>\n",
       "      <td>0.000150</td>\n",
       "      <td>0.972569</td>\n",
       "      <td>0.936567</td>\n",
       "      <td>1712786292</td>\n",
       "      <td>None</td>\n",
       "      <td>False</td>\n",
       "      <td>8</td>\n",
       "      <td>f8d74936</td>\n",
       "      <td>2024-04-10_14-58-12</td>\n",
       "      <td>...</td>\n",
       "      <td>8</td>\n",
       "      <td>32</td>\n",
       "      <td>500</td>\n",
       "      <td>30</td>\n",
       "      <td>0.191603</td>\n",
       "      <td>0.107097</td>\n",
       "      <td>0.202804</td>\n",
       "      <td>0.892966</td>\n",
       "      <td>6</td>\n",
       "      <td>NaN</td>\n",
       "    </tr>\n",
       "    <tr>\n",
       "      <th>8</th>\n",
       "      <td>0.002817</td>\n",
       "      <td>0.000508</td>\n",
       "      <td>0.975894</td>\n",
       "      <td>0.940299</td>\n",
       "      <td>1712786292</td>\n",
       "      <td>None</td>\n",
       "      <td>False</td>\n",
       "      <td>9</td>\n",
       "      <td>f8d74936</td>\n",
       "      <td>2024-04-10_14-58-12</td>\n",
       "      <td>...</td>\n",
       "      <td>9</td>\n",
       "      <td>32</td>\n",
       "      <td>500</td>\n",
       "      <td>30</td>\n",
       "      <td>0.191603</td>\n",
       "      <td>0.107097</td>\n",
       "      <td>0.202804</td>\n",
       "      <td>0.892966</td>\n",
       "      <td>6</td>\n",
       "      <td>NaN</td>\n",
       "    </tr>\n",
       "    <tr>\n",
       "      <th>9</th>\n",
       "      <td>0.002787</td>\n",
       "      <td>0.001481</td>\n",
       "      <td>0.972153</td>\n",
       "      <td>0.940299</td>\n",
       "      <td>1712786292</td>\n",
       "      <td>checkpoint_000001</td>\n",
       "      <td>False</td>\n",
       "      <td>10</td>\n",
       "      <td>f8d74936</td>\n",
       "      <td>2024-04-10_14-58-12</td>\n",
       "      <td>...</td>\n",
       "      <td>10</td>\n",
       "      <td>32</td>\n",
       "      <td>500</td>\n",
       "      <td>30</td>\n",
       "      <td>0.191603</td>\n",
       "      <td>0.107097</td>\n",
       "      <td>0.202804</td>\n",
       "      <td>0.892966</td>\n",
       "      <td>6</td>\n",
       "      <td>True</td>\n",
       "    </tr>\n",
       "    <tr>\n",
       "      <th>10</th>\n",
       "      <td>0.002707</td>\n",
       "      <td>0.000484</td>\n",
       "      <td>0.974647</td>\n",
       "      <td>0.936567</td>\n",
       "      <td>1712786292</td>\n",
       "      <td>None</td>\n",
       "      <td>False</td>\n",
       "      <td>11</td>\n",
       "      <td>f8d74936</td>\n",
       "      <td>2024-04-10_14-58-12</td>\n",
       "      <td>...</td>\n",
       "      <td>11</td>\n",
       "      <td>32</td>\n",
       "      <td>500</td>\n",
       "      <td>30</td>\n",
       "      <td>0.191603</td>\n",
       "      <td>0.107097</td>\n",
       "      <td>0.202804</td>\n",
       "      <td>0.892966</td>\n",
       "      <td>6</td>\n",
       "      <td>NaN</td>\n",
       "    </tr>\n",
       "    <tr>\n",
       "      <th>11</th>\n",
       "      <td>0.002695</td>\n",
       "      <td>0.000385</td>\n",
       "      <td>0.975478</td>\n",
       "      <td>0.940299</td>\n",
       "      <td>1712786292</td>\n",
       "      <td>None</td>\n",
       "      <td>False</td>\n",
       "      <td>12</td>\n",
       "      <td>f8d74936</td>\n",
       "      <td>2024-04-10_14-58-12</td>\n",
       "      <td>...</td>\n",
       "      <td>12</td>\n",
       "      <td>32</td>\n",
       "      <td>500</td>\n",
       "      <td>30</td>\n",
       "      <td>0.191603</td>\n",
       "      <td>0.107097</td>\n",
       "      <td>0.202804</td>\n",
       "      <td>0.892966</td>\n",
       "      <td>6</td>\n",
       "      <td>NaN</td>\n",
       "    </tr>\n",
       "    <tr>\n",
       "      <th>12</th>\n",
       "      <td>0.002627</td>\n",
       "      <td>0.000149</td>\n",
       "      <td>0.976309</td>\n",
       "      <td>0.940299</td>\n",
       "      <td>1712786292</td>\n",
       "      <td>None</td>\n",
       "      <td>False</td>\n",
       "      <td>13</td>\n",
       "      <td>f8d74936</td>\n",
       "      <td>2024-04-10_14-58-12</td>\n",
       "      <td>...</td>\n",
       "      <td>13</td>\n",
       "      <td>32</td>\n",
       "      <td>500</td>\n",
       "      <td>30</td>\n",
       "      <td>0.191603</td>\n",
       "      <td>0.107097</td>\n",
       "      <td>0.202804</td>\n",
       "      <td>0.892966</td>\n",
       "      <td>6</td>\n",
       "      <td>NaN</td>\n",
       "    </tr>\n",
       "    <tr>\n",
       "      <th>13</th>\n",
       "      <td>0.002601</td>\n",
       "      <td>0.000381</td>\n",
       "      <td>0.976309</td>\n",
       "      <td>0.940299</td>\n",
       "      <td>1712786292</td>\n",
       "      <td>None</td>\n",
       "      <td>False</td>\n",
       "      <td>14</td>\n",
       "      <td>f8d74936</td>\n",
       "      <td>2024-04-10_14-58-12</td>\n",
       "      <td>...</td>\n",
       "      <td>14</td>\n",
       "      <td>32</td>\n",
       "      <td>500</td>\n",
       "      <td>30</td>\n",
       "      <td>0.191603</td>\n",
       "      <td>0.107097</td>\n",
       "      <td>0.202804</td>\n",
       "      <td>0.892966</td>\n",
       "      <td>6</td>\n",
       "      <td>NaN</td>\n",
       "    </tr>\n",
       "    <tr>\n",
       "      <th>14</th>\n",
       "      <td>0.002618</td>\n",
       "      <td>0.000071</td>\n",
       "      <td>0.976725</td>\n",
       "      <td>0.940299</td>\n",
       "      <td>1712786292</td>\n",
       "      <td>checkpoint_000002</td>\n",
       "      <td>False</td>\n",
       "      <td>15</td>\n",
       "      <td>f8d74936</td>\n",
       "      <td>2024-04-10_14-58-12</td>\n",
       "      <td>...</td>\n",
       "      <td>15</td>\n",
       "      <td>32</td>\n",
       "      <td>500</td>\n",
       "      <td>30</td>\n",
       "      <td>0.191603</td>\n",
       "      <td>0.107097</td>\n",
       "      <td>0.202804</td>\n",
       "      <td>0.892966</td>\n",
       "      <td>6</td>\n",
       "      <td>True</td>\n",
       "    </tr>\n",
       "    <tr>\n",
       "      <th>15</th>\n",
       "      <td>0.002609</td>\n",
       "      <td>0.000899</td>\n",
       "      <td>0.976309</td>\n",
       "      <td>0.940299</td>\n",
       "      <td>1712786293</td>\n",
       "      <td>None</td>\n",
       "      <td>False</td>\n",
       "      <td>16</td>\n",
       "      <td>f8d74936</td>\n",
       "      <td>2024-04-10_14-58-13</td>\n",
       "      <td>...</td>\n",
       "      <td>16</td>\n",
       "      <td>32</td>\n",
       "      <td>500</td>\n",
       "      <td>30</td>\n",
       "      <td>0.191603</td>\n",
       "      <td>0.107097</td>\n",
       "      <td>0.202804</td>\n",
       "      <td>0.892966</td>\n",
       "      <td>6</td>\n",
       "      <td>NaN</td>\n",
       "    </tr>\n",
       "    <tr>\n",
       "      <th>16</th>\n",
       "      <td>0.002607</td>\n",
       "      <td>0.000713</td>\n",
       "      <td>0.977140</td>\n",
       "      <td>0.940299</td>\n",
       "      <td>1712786293</td>\n",
       "      <td>None</td>\n",
       "      <td>False</td>\n",
       "      <td>17</td>\n",
       "      <td>f8d74936</td>\n",
       "      <td>2024-04-10_14-58-13</td>\n",
       "      <td>...</td>\n",
       "      <td>17</td>\n",
       "      <td>32</td>\n",
       "      <td>500</td>\n",
       "      <td>30</td>\n",
       "      <td>0.191603</td>\n",
       "      <td>0.107097</td>\n",
       "      <td>0.202804</td>\n",
       "      <td>0.892966</td>\n",
       "      <td>6</td>\n",
       "      <td>NaN</td>\n",
       "    </tr>\n",
       "    <tr>\n",
       "      <th>17</th>\n",
       "      <td>0.002625</td>\n",
       "      <td>0.002575</td>\n",
       "      <td>0.977140</td>\n",
       "      <td>0.940299</td>\n",
       "      <td>1712786293</td>\n",
       "      <td>None</td>\n",
       "      <td>False</td>\n",
       "      <td>18</td>\n",
       "      <td>f8d74936</td>\n",
       "      <td>2024-04-10_14-58-13</td>\n",
       "      <td>...</td>\n",
       "      <td>18</td>\n",
       "      <td>32</td>\n",
       "      <td>500</td>\n",
       "      <td>30</td>\n",
       "      <td>0.191603</td>\n",
       "      <td>0.107097</td>\n",
       "      <td>0.202804</td>\n",
       "      <td>0.892966</td>\n",
       "      <td>6</td>\n",
       "      <td>NaN</td>\n",
       "    </tr>\n",
       "    <tr>\n",
       "      <th>18</th>\n",
       "      <td>0.002619</td>\n",
       "      <td>0.000130</td>\n",
       "      <td>0.977140</td>\n",
       "      <td>0.940299</td>\n",
       "      <td>1712786293</td>\n",
       "      <td>None</td>\n",
       "      <td>False</td>\n",
       "      <td>19</td>\n",
       "      <td>f8d74936</td>\n",
       "      <td>2024-04-10_14-58-13</td>\n",
       "      <td>...</td>\n",
       "      <td>19</td>\n",
       "      <td>32</td>\n",
       "      <td>500</td>\n",
       "      <td>30</td>\n",
       "      <td>0.191603</td>\n",
       "      <td>0.107097</td>\n",
       "      <td>0.202804</td>\n",
       "      <td>0.892966</td>\n",
       "      <td>6</td>\n",
       "      <td>NaN</td>\n",
       "    </tr>\n",
       "    <tr>\n",
       "      <th>19</th>\n",
       "      <td>0.002590</td>\n",
       "      <td>0.000136</td>\n",
       "      <td>0.977140</td>\n",
       "      <td>0.940299</td>\n",
       "      <td>1712786293</td>\n",
       "      <td>checkpoint_000003</td>\n",
       "      <td>False</td>\n",
       "      <td>20</td>\n",
       "      <td>f8d74936</td>\n",
       "      <td>2024-04-10_14-58-13</td>\n",
       "      <td>...</td>\n",
       "      <td>20</td>\n",
       "      <td>32</td>\n",
       "      <td>500</td>\n",
       "      <td>30</td>\n",
       "      <td>0.191603</td>\n",
       "      <td>0.107097</td>\n",
       "      <td>0.202804</td>\n",
       "      <td>0.892966</td>\n",
       "      <td>6</td>\n",
       "      <td>True</td>\n",
       "    </tr>\n",
       "    <tr>\n",
       "      <th>20</th>\n",
       "      <td>0.002607</td>\n",
       "      <td>0.000138</td>\n",
       "      <td>0.977140</td>\n",
       "      <td>0.940299</td>\n",
       "      <td>1712786293</td>\n",
       "      <td>None</td>\n",
       "      <td>False</td>\n",
       "      <td>21</td>\n",
       "      <td>f8d74936</td>\n",
       "      <td>2024-04-10_14-58-13</td>\n",
       "      <td>...</td>\n",
       "      <td>21</td>\n",
       "      <td>32</td>\n",
       "      <td>500</td>\n",
       "      <td>30</td>\n",
       "      <td>0.191603</td>\n",
       "      <td>0.107097</td>\n",
       "      <td>0.202804</td>\n",
       "      <td>0.892966</td>\n",
       "      <td>6</td>\n",
       "      <td>NaN</td>\n",
       "    </tr>\n",
       "    <tr>\n",
       "      <th>21</th>\n",
       "      <td>0.002574</td>\n",
       "      <td>0.000771</td>\n",
       "      <td>0.977140</td>\n",
       "      <td>0.940299</td>\n",
       "      <td>1712786293</td>\n",
       "      <td>None</td>\n",
       "      <td>False</td>\n",
       "      <td>22</td>\n",
       "      <td>f8d74936</td>\n",
       "      <td>2024-04-10_14-58-13</td>\n",
       "      <td>...</td>\n",
       "      <td>22</td>\n",
       "      <td>32</td>\n",
       "      <td>500</td>\n",
       "      <td>30</td>\n",
       "      <td>0.191603</td>\n",
       "      <td>0.107097</td>\n",
       "      <td>0.202804</td>\n",
       "      <td>0.892966</td>\n",
       "      <td>6</td>\n",
       "      <td>NaN</td>\n",
       "    </tr>\n",
       "    <tr>\n",
       "      <th>22</th>\n",
       "      <td>0.002577</td>\n",
       "      <td>0.000143</td>\n",
       "      <td>0.977140</td>\n",
       "      <td>0.940299</td>\n",
       "      <td>1712786293</td>\n",
       "      <td>None</td>\n",
       "      <td>False</td>\n",
       "      <td>23</td>\n",
       "      <td>f8d74936</td>\n",
       "      <td>2024-04-10_14-58-13</td>\n",
       "      <td>...</td>\n",
       "      <td>23</td>\n",
       "      <td>32</td>\n",
       "      <td>500</td>\n",
       "      <td>30</td>\n",
       "      <td>0.191603</td>\n",
       "      <td>0.107097</td>\n",
       "      <td>0.202804</td>\n",
       "      <td>0.892966</td>\n",
       "      <td>6</td>\n",
       "      <td>NaN</td>\n",
       "    </tr>\n",
       "    <tr>\n",
       "      <th>23</th>\n",
       "      <td>0.002571</td>\n",
       "      <td>0.000053</td>\n",
       "      <td>0.977140</td>\n",
       "      <td>0.940299</td>\n",
       "      <td>1712786293</td>\n",
       "      <td>None</td>\n",
       "      <td>False</td>\n",
       "      <td>24</td>\n",
       "      <td>f8d74936</td>\n",
       "      <td>2024-04-10_14-58-13</td>\n",
       "      <td>...</td>\n",
       "      <td>24</td>\n",
       "      <td>32</td>\n",
       "      <td>500</td>\n",
       "      <td>30</td>\n",
       "      <td>0.191603</td>\n",
       "      <td>0.107097</td>\n",
       "      <td>0.202804</td>\n",
       "      <td>0.892966</td>\n",
       "      <td>6</td>\n",
       "      <td>NaN</td>\n",
       "    </tr>\n",
       "    <tr>\n",
       "      <th>24</th>\n",
       "      <td>0.002577</td>\n",
       "      <td>0.000267</td>\n",
       "      <td>0.977140</td>\n",
       "      <td>0.940299</td>\n",
       "      <td>1712786293</td>\n",
       "      <td>checkpoint_000004</td>\n",
       "      <td>False</td>\n",
       "      <td>25</td>\n",
       "      <td>f8d74936</td>\n",
       "      <td>2024-04-10_14-58-13</td>\n",
       "      <td>...</td>\n",
       "      <td>25</td>\n",
       "      <td>32</td>\n",
       "      <td>500</td>\n",
       "      <td>30</td>\n",
       "      <td>0.191603</td>\n",
       "      <td>0.107097</td>\n",
       "      <td>0.202804</td>\n",
       "      <td>0.892966</td>\n",
       "      <td>6</td>\n",
       "      <td>True</td>\n",
       "    </tr>\n",
       "    <tr>\n",
       "      <th>25</th>\n",
       "      <td>0.002568</td>\n",
       "      <td>0.000211</td>\n",
       "      <td>0.977140</td>\n",
       "      <td>0.940299</td>\n",
       "      <td>1712786293</td>\n",
       "      <td>None</td>\n",
       "      <td>False</td>\n",
       "      <td>26</td>\n",
       "      <td>f8d74936</td>\n",
       "      <td>2024-04-10_14-58-13</td>\n",
       "      <td>...</td>\n",
       "      <td>26</td>\n",
       "      <td>32</td>\n",
       "      <td>500</td>\n",
       "      <td>30</td>\n",
       "      <td>0.191603</td>\n",
       "      <td>0.107097</td>\n",
       "      <td>0.202804</td>\n",
       "      <td>0.892966</td>\n",
       "      <td>6</td>\n",
       "      <td>NaN</td>\n",
       "    </tr>\n",
       "    <tr>\n",
       "      <th>26</th>\n",
       "      <td>0.002598</td>\n",
       "      <td>0.000362</td>\n",
       "      <td>0.977140</td>\n",
       "      <td>0.940299</td>\n",
       "      <td>1712786294</td>\n",
       "      <td>None</td>\n",
       "      <td>False</td>\n",
       "      <td>27</td>\n",
       "      <td>f8d74936</td>\n",
       "      <td>2024-04-10_14-58-14</td>\n",
       "      <td>...</td>\n",
       "      <td>27</td>\n",
       "      <td>32</td>\n",
       "      <td>500</td>\n",
       "      <td>30</td>\n",
       "      <td>0.191603</td>\n",
       "      <td>0.107097</td>\n",
       "      <td>0.202804</td>\n",
       "      <td>0.892966</td>\n",
       "      <td>6</td>\n",
       "      <td>NaN</td>\n",
       "    </tr>\n",
       "    <tr>\n",
       "      <th>27</th>\n",
       "      <td>0.002617</td>\n",
       "      <td>0.000723</td>\n",
       "      <td>0.977140</td>\n",
       "      <td>0.940299</td>\n",
       "      <td>1712786294</td>\n",
       "      <td>None</td>\n",
       "      <td>False</td>\n",
       "      <td>28</td>\n",
       "      <td>f8d74936</td>\n",
       "      <td>2024-04-10_14-58-14</td>\n",
       "      <td>...</td>\n",
       "      <td>28</td>\n",
       "      <td>32</td>\n",
       "      <td>500</td>\n",
       "      <td>30</td>\n",
       "      <td>0.191603</td>\n",
       "      <td>0.107097</td>\n",
       "      <td>0.202804</td>\n",
       "      <td>0.892966</td>\n",
       "      <td>6</td>\n",
       "      <td>NaN</td>\n",
       "    </tr>\n",
       "    <tr>\n",
       "      <th>28</th>\n",
       "      <td>0.002576</td>\n",
       "      <td>0.000109</td>\n",
       "      <td>0.977140</td>\n",
       "      <td>0.940299</td>\n",
       "      <td>1712786294</td>\n",
       "      <td>None</td>\n",
       "      <td>False</td>\n",
       "      <td>29</td>\n",
       "      <td>f8d74936</td>\n",
       "      <td>2024-04-10_14-58-14</td>\n",
       "      <td>...</td>\n",
       "      <td>29</td>\n",
       "      <td>32</td>\n",
       "      <td>500</td>\n",
       "      <td>30</td>\n",
       "      <td>0.191603</td>\n",
       "      <td>0.107097</td>\n",
       "      <td>0.202804</td>\n",
       "      <td>0.892966</td>\n",
       "      <td>6</td>\n",
       "      <td>NaN</td>\n",
       "    </tr>\n",
       "    <tr>\n",
       "      <th>29</th>\n",
       "      <td>0.002573</td>\n",
       "      <td>0.000489</td>\n",
       "      <td>0.977140</td>\n",
       "      <td>0.940299</td>\n",
       "      <td>1712786294</td>\n",
       "      <td>checkpoint_000005</td>\n",
       "      <td>False</td>\n",
       "      <td>30</td>\n",
       "      <td>f8d74936</td>\n",
       "      <td>2024-04-10_14-58-14</td>\n",
       "      <td>...</td>\n",
       "      <td>30</td>\n",
       "      <td>32</td>\n",
       "      <td>500</td>\n",
       "      <td>30</td>\n",
       "      <td>0.191603</td>\n",
       "      <td>0.107097</td>\n",
       "      <td>0.202804</td>\n",
       "      <td>0.892966</td>\n",
       "      <td>6</td>\n",
       "      <td>True</td>\n",
       "    </tr>\n",
       "  </tbody>\n",
       "</table>\n",
       "<p>30 rows × 26 columns</p>\n",
       "</div>"
      ],
      "text/plain": [
       "    loss_train  loss_val  accuracy_train  accuracy_val   timestamp  \\\n",
       "0     0.015004  0.001229        0.768080      0.843284  1712786291   \n",
       "1     0.008461  0.000827        0.898171      0.906716  1712786291   \n",
       "2     0.006313  0.000525        0.931837      0.932836  1712786291   \n",
       "3     0.005151  0.000392        0.943475      0.925373  1712786292   \n",
       "4     0.004419  0.000646        0.948878      0.929104  1712786292   \n",
       "5     0.003629  0.000254        0.963840      0.940299  1712786292   \n",
       "6     0.002924  0.001043        0.972569      0.940299  1712786292   \n",
       "7     0.002893  0.000150        0.972569      0.936567  1712786292   \n",
       "8     0.002817  0.000508        0.975894      0.940299  1712786292   \n",
       "9     0.002787  0.001481        0.972153      0.940299  1712786292   \n",
       "10    0.002707  0.000484        0.974647      0.936567  1712786292   \n",
       "11    0.002695  0.000385        0.975478      0.940299  1712786292   \n",
       "12    0.002627  0.000149        0.976309      0.940299  1712786292   \n",
       "13    0.002601  0.000381        0.976309      0.940299  1712786292   \n",
       "14    0.002618  0.000071        0.976725      0.940299  1712786292   \n",
       "15    0.002609  0.000899        0.976309      0.940299  1712786293   \n",
       "16    0.002607  0.000713        0.977140      0.940299  1712786293   \n",
       "17    0.002625  0.002575        0.977140      0.940299  1712786293   \n",
       "18    0.002619  0.000130        0.977140      0.940299  1712786293   \n",
       "19    0.002590  0.000136        0.977140      0.940299  1712786293   \n",
       "20    0.002607  0.000138        0.977140      0.940299  1712786293   \n",
       "21    0.002574  0.000771        0.977140      0.940299  1712786293   \n",
       "22    0.002577  0.000143        0.977140      0.940299  1712786293   \n",
       "23    0.002571  0.000053        0.977140      0.940299  1712786293   \n",
       "24    0.002577  0.000267        0.977140      0.940299  1712786293   \n",
       "25    0.002568  0.000211        0.977140      0.940299  1712786293   \n",
       "26    0.002598  0.000362        0.977140      0.940299  1712786294   \n",
       "27    0.002617  0.000723        0.977140      0.940299  1712786294   \n",
       "28    0.002576  0.000109        0.977140      0.940299  1712786294   \n",
       "29    0.002573  0.000489        0.977140      0.940299  1712786294   \n",
       "\n",
       "   checkpoint_dir_name   done  training_iteration  trial_id  \\\n",
       "0                 None  False                   1  f8d74936   \n",
       "1                 None  False                   2  f8d74936   \n",
       "2                 None  False                   3  f8d74936   \n",
       "3                 None  False                   4  f8d74936   \n",
       "4    checkpoint_000000  False                   5  f8d74936   \n",
       "5                 None  False                   6  f8d74936   \n",
       "6                 None  False                   7  f8d74936   \n",
       "7                 None  False                   8  f8d74936   \n",
       "8                 None  False                   9  f8d74936   \n",
       "9    checkpoint_000001  False                  10  f8d74936   \n",
       "10                None  False                  11  f8d74936   \n",
       "11                None  False                  12  f8d74936   \n",
       "12                None  False                  13  f8d74936   \n",
       "13                None  False                  14  f8d74936   \n",
       "14   checkpoint_000002  False                  15  f8d74936   \n",
       "15                None  False                  16  f8d74936   \n",
       "16                None  False                  17  f8d74936   \n",
       "17                None  False                  18  f8d74936   \n",
       "18                None  False                  19  f8d74936   \n",
       "19   checkpoint_000003  False                  20  f8d74936   \n",
       "20                None  False                  21  f8d74936   \n",
       "21                None  False                  22  f8d74936   \n",
       "22                None  False                  23  f8d74936   \n",
       "23                None  False                  24  f8d74936   \n",
       "24   checkpoint_000004  False                  25  f8d74936   \n",
       "25                None  False                  26  f8d74936   \n",
       "26                None  False                  27  f8d74936   \n",
       "27                None  False                  28  f8d74936   \n",
       "28                None  False                  29  f8d74936   \n",
       "29   checkpoint_000005  False                  30  f8d74936   \n",
       "\n",
       "                   date  ...  iterations_since_restore  config/batch_size  \\\n",
       "0   2024-04-10_14-58-11  ...                         1                 32   \n",
       "1   2024-04-10_14-58-11  ...                         2                 32   \n",
       "2   2024-04-10_14-58-11  ...                         3                 32   \n",
       "3   2024-04-10_14-58-12  ...                         4                 32   \n",
       "4   2024-04-10_14-58-12  ...                         5                 32   \n",
       "5   2024-04-10_14-58-12  ...                         6                 32   \n",
       "6   2024-04-10_14-58-12  ...                         7                 32   \n",
       "7   2024-04-10_14-58-12  ...                         8                 32   \n",
       "8   2024-04-10_14-58-12  ...                         9                 32   \n",
       "9   2024-04-10_14-58-12  ...                        10                 32   \n",
       "10  2024-04-10_14-58-12  ...                        11                 32   \n",
       "11  2024-04-10_14-58-12  ...                        12                 32   \n",
       "12  2024-04-10_14-58-12  ...                        13                 32   \n",
       "13  2024-04-10_14-58-12  ...                        14                 32   \n",
       "14  2024-04-10_14-58-12  ...                        15                 32   \n",
       "15  2024-04-10_14-58-13  ...                        16                 32   \n",
       "16  2024-04-10_14-58-13  ...                        17                 32   \n",
       "17  2024-04-10_14-58-13  ...                        18                 32   \n",
       "18  2024-04-10_14-58-13  ...                        19                 32   \n",
       "19  2024-04-10_14-58-13  ...                        20                 32   \n",
       "20  2024-04-10_14-58-13  ...                        21                 32   \n",
       "21  2024-04-10_14-58-13  ...                        22                 32   \n",
       "22  2024-04-10_14-58-13  ...                        23                 32   \n",
       "23  2024-04-10_14-58-13  ...                        24                 32   \n",
       "24  2024-04-10_14-58-13  ...                        25                 32   \n",
       "25  2024-04-10_14-58-13  ...                        26                 32   \n",
       "26  2024-04-10_14-58-14  ...                        27                 32   \n",
       "27  2024-04-10_14-58-14  ...                        28                 32   \n",
       "28  2024-04-10_14-58-14  ...                        29                 32   \n",
       "29  2024-04-10_14-58-14  ...                        30                 32   \n",
       "\n",
       "    config/embed_dim config/epochs config/lr  config/lr_gamma  \\\n",
       "0                500            30  0.191603         0.107097   \n",
       "1                500            30  0.191603         0.107097   \n",
       "2                500            30  0.191603         0.107097   \n",
       "3                500            30  0.191603         0.107097   \n",
       "4                500            30  0.191603         0.107097   \n",
       "5                500            30  0.191603         0.107097   \n",
       "6                500            30  0.191603         0.107097   \n",
       "7                500            30  0.191603         0.107097   \n",
       "8                500            30  0.191603         0.107097   \n",
       "9                500            30  0.191603         0.107097   \n",
       "10               500            30  0.191603         0.107097   \n",
       "11               500            30  0.191603         0.107097   \n",
       "12               500            30  0.191603         0.107097   \n",
       "13               500            30  0.191603         0.107097   \n",
       "14               500            30  0.191603         0.107097   \n",
       "15               500            30  0.191603         0.107097   \n",
       "16               500            30  0.191603         0.107097   \n",
       "17               500            30  0.191603         0.107097   \n",
       "18               500            30  0.191603         0.107097   \n",
       "19               500            30  0.191603         0.107097   \n",
       "20               500            30  0.191603         0.107097   \n",
       "21               500            30  0.191603         0.107097   \n",
       "22               500            30  0.191603         0.107097   \n",
       "23               500            30  0.191603         0.107097   \n",
       "24               500            30  0.191603         0.107097   \n",
       "25               500            30  0.191603         0.107097   \n",
       "26               500            30  0.191603         0.107097   \n",
       "27               500            30  0.191603         0.107097   \n",
       "28               500            30  0.191603         0.107097   \n",
       "29               500            30  0.191603         0.107097   \n",
       "\n",
       "    config/max_norm  config/momentum  config/step_size  should_checkpoint  \n",
       "0          0.202804         0.892966                 6                NaN  \n",
       "1          0.202804         0.892966                 6                NaN  \n",
       "2          0.202804         0.892966                 6                NaN  \n",
       "3          0.202804         0.892966                 6                NaN  \n",
       "4          0.202804         0.892966                 6               True  \n",
       "5          0.202804         0.892966                 6                NaN  \n",
       "6          0.202804         0.892966                 6                NaN  \n",
       "7          0.202804         0.892966                 6                NaN  \n",
       "8          0.202804         0.892966                 6                NaN  \n",
       "9          0.202804         0.892966                 6               True  \n",
       "10         0.202804         0.892966                 6                NaN  \n",
       "11         0.202804         0.892966                 6                NaN  \n",
       "12         0.202804         0.892966                 6                NaN  \n",
       "13         0.202804         0.892966                 6                NaN  \n",
       "14         0.202804         0.892966                 6               True  \n",
       "15         0.202804         0.892966                 6                NaN  \n",
       "16         0.202804         0.892966                 6                NaN  \n",
       "17         0.202804         0.892966                 6                NaN  \n",
       "18         0.202804         0.892966                 6                NaN  \n",
       "19         0.202804         0.892966                 6               True  \n",
       "20         0.202804         0.892966                 6                NaN  \n",
       "21         0.202804         0.892966                 6                NaN  \n",
       "22         0.202804         0.892966                 6                NaN  \n",
       "23         0.202804         0.892966                 6                NaN  \n",
       "24         0.202804         0.892966                 6               True  \n",
       "25         0.202804         0.892966                 6                NaN  \n",
       "26         0.202804         0.892966                 6                NaN  \n",
       "27         0.202804         0.892966                 6                NaN  \n",
       "28         0.202804         0.892966                 6                NaN  \n",
       "29         0.202804         0.892966                 6               True  \n",
       "\n",
       "[30 rows x 26 columns]"
      ]
     },
     "execution_count": 90,
     "metadata": {},
     "output_type": "execute_result"
    }
   ],
   "source": [
    "best_result.metrics_dataframe"
   ]
  },
  {
   "cell_type": "code",
   "execution_count": 91,
   "id": "7d279b78-93e7-49ff-b7e8-dbad4f1cd83f",
   "metadata": {},
   "outputs": [
    {
     "data": {
      "image/png": "[encoded data removed]",
      "text/plain": [
       "<Figure size 432x288 with 1 Axes>"
      ]
     },
     "metadata": {
      "needs_background": "light"
     },
     "output_type": "display_data"
    }
   ],
   "source": [
    "import matplotlib.pyplot as plt\n",
    "\n",
    "df = best_result.metrics_dataframe\n",
    "\n",
    "plt.plot(df['accuracy_train'], label='accuracy_train')\n",
    "plt.plot(df['accuracy_val'], label='accuracy_val')\n",
    "\n",
    "plt.legend(title='')\n",
    "\n",
    "plt.show()"
   ]
  },
  {
   "cell_type": "code",
   "execution_count": 92,
   "id": "5829b3d2-ccb4-49cb-a819-72b1106aae29",
   "metadata": {},
   "outputs": [
    {
     "data": {
      "text/plain": [
       "[(Checkpoint(filesystem=local, path=/home/it/ray_results/simple_embeddings_baseline/train_search_f8d74936_28_batch_size=32,embed_dim=500,epochs=30,lr=0.1916,lr_gamma=0.1071,max_norm=0.2028,momentum=0.8930,step_size_2024-04-10_14-58-10/checkpoint_000004),\n",
       "  {'loss_train': 0.002576788528555275,\n",
       "   'loss_val': 0.000266866313654985,\n",
       "   'accuracy_train': 0.9771404821280133,\n",
       "   'accuracy_val': 0.9402985074626866,\n",
       "   'timestamp': 1712786293,\n",
       "   'checkpoint_dir_name': 'checkpoint_000004',\n",
       "   'should_checkpoint': True,\n",
       "   'done': False,\n",
       "   'training_iteration': 25,\n",
       "   'trial_id': 'f8d74936',\n",
       "   'date': '2024-04-10_14-58-13',\n",
       "   'time_this_iter_s': 0.09457659721374512,\n",
       "   'time_total_s': 2.1354544162750244,\n",
       "   'pid': 15488,\n",
       "   'hostname': 'coeus',\n",
       "   'node_ip': '10.1.1.204',\n",
       "   'config': {'batch_size': 32,\n",
       "    'embed_dim': 500,\n",
       "    'epochs': 30,\n",
       "    'lr': 0.19160283317175064,\n",
       "    'lr_gamma': 0.10709667500447448,\n",
       "    'max_norm': 0.2028041005756147,\n",
       "    'momentum': 0.8929662373845024,\n",
       "    'step_size': 6},\n",
       "   'time_since_restore': 2.1354544162750244,\n",
       "   'iterations_since_restore': 25}),\n",
       " (Checkpoint(filesystem=local, path=/home/it/ray_results/simple_embeddings_baseline/train_search_f8d74936_28_batch_size=32,embed_dim=500,epochs=30,lr=0.1916,lr_gamma=0.1071,max_norm=0.2028,momentum=0.8930,step_size_2024-04-10_14-58-10/checkpoint_000005),\n",
       "  {'loss_train': 0.002572564256446419,\n",
       "   'loss_val': 0.0004888132436951595,\n",
       "   'accuracy_train': 0.9771404821280133,\n",
       "   'accuracy_val': 0.9402985074626866,\n",
       "   'timestamp': 1712786294,\n",
       "   'checkpoint_dir_name': 'checkpoint_000005',\n",
       "   'should_checkpoint': True,\n",
       "   'done': False,\n",
       "   'training_iteration': 30,\n",
       "   'trial_id': 'f8d74936',\n",
       "   'date': '2024-04-10_14-58-14',\n",
       "   'time_this_iter_s': 0.09453010559082031,\n",
       "   'time_total_s': 2.557990550994873,\n",
       "   'pid': 15488,\n",
       "   'hostname': 'coeus',\n",
       "   'node_ip': '10.1.1.204',\n",
       "   'config': {'batch_size': 32,\n",
       "    'embed_dim': 500,\n",
       "    'epochs': 30,\n",
       "    'lr': 0.19160283317175064,\n",
       "    'lr_gamma': 0.10709667500447448,\n",
       "    'max_norm': 0.2028041005756147,\n",
       "    'momentum': 0.8929662373845024,\n",
       "    'step_size': 6},\n",
       "   'time_since_restore': 2.557990550994873,\n",
       "   'iterations_since_restore': 30})]"
      ]
     },
     "execution_count": 92,
     "metadata": {},
     "output_type": "execute_result"
    }
   ],
   "source": [
    "best_checkpoints = best_result.best_checkpoints\n",
    "best_checkpoints"
   ]
  },
  {
   "cell_type": "markdown",
   "id": "e4ddd8c0-12cb-40e6-aff8-919c018983a5",
   "metadata": {},
   "source": [
    "## Evaluating Your Model after Tuning"
   ]
  },
  {
   "cell_type": "code",
   "execution_count": 93,
   "id": "2c4cabdc-5163-4e0c-a6fd-806cfb23d5de",
   "metadata": {},
   "outputs": [
    {
     "data": {
      "text/plain": [
       "Result(\n",
       "  metrics={'loss_train': 0.002572564256446419, 'loss_val': 0.0004888132436951595, 'accuracy_train': 0.9771404821280133, 'accuracy_val': 0.9402985074626866},\n",
       "  path='/home/it/ray_results/simple_embeddings_baseline/train_search_f8d74936_28_batch_size=32,embed_dim=500,epochs=30,lr=0.1916,lr_gamma=0.1071,max_norm=0.2028,momentum=0.8930,step_size_2024-04-10_14-58-10',\n",
       "  filesystem='local',\n",
       "  checkpoint=Checkpoint(filesystem=local, path=/home/it/ray_results/simple_embeddings_baseline/train_search_f8d74936_28_batch_size=32,embed_dim=500,epochs=30,lr=0.1916,lr_gamma=0.1071,max_norm=0.2028,momentum=0.8930,step_size_2024-04-10_14-58-10/checkpoint_000005)\n",
       ")"
      ]
     },
     "execution_count": 93,
     "metadata": {},
     "output_type": "execute_result"
    }
   ],
   "source": [
    "best_result = results.get_best_result(\"accuracy_val\", mode=\"max\")\n",
    "best_result"
   ]
  },
  {
   "cell_type": "code",
   "execution_count": 94,
   "id": "96ac7d52-dcc7-435d-b72e-c11d6ab13da8",
   "metadata": {},
   "outputs": [],
   "source": [
    "best_checkpoint = best_result.get_best_checkpoint(\"accuracy_val\", mode=\"max\")"
   ]
  },
  {
   "cell_type": "code",
   "execution_count": 95,
   "id": "ca548404-9adf-46f8-8e99-7eeaf765685f",
   "metadata": {},
   "outputs": [
    {
     "data": {
      "text/plain": [
       "'/home/it/ray_results/simple_embeddings_baseline/train_search_f8d74936_28_batch_size=32,embed_dim=500,epochs=30,lr=0.1916,lr_gamma=0.1071,max_norm=0.2028,momentum=0.8930,step_size_2024-04-10_14-58-10/checkpoint_000004'"
      ]
     },
     "execution_count": 95,
     "metadata": {},
     "output_type": "execute_result"
    }
   ],
   "source": [
    "best_checkpoint.path"
   ]
  },
  {
   "cell_type": "code",
   "execution_count": 96,
   "id": "5b852838-d5f6-49ee-bd92-9b0b0636b9e1",
   "metadata": {},
   "outputs": [
    {
     "data": {
      "text/plain": [
       "(Checkpoint(filesystem=local, path=/home/it/ray_results/simple_embeddings_baseline/train_search_f8d74936_28_batch_size=32,embed_dim=500,epochs=30,lr=0.1916,lr_gamma=0.1071,max_norm=0.2028,momentum=0.8930,step_size_2024-04-10_14-58-10/checkpoint_000004),\n",
       " {'loss_train': 0.002576788528555275,\n",
       "  'loss_val': 0.000266866313654985,\n",
       "  'accuracy_train': 0.9771404821280133,\n",
       "  'accuracy_val': 0.9402985074626866,\n",
       "  'timestamp': 1712786293,\n",
       "  'checkpoint_dir_name': 'checkpoint_000004',\n",
       "  'should_checkpoint': True,\n",
       "  'done': False,\n",
       "  'training_iteration': 25,\n",
       "  'trial_id': 'f8d74936',\n",
       "  'date': '2024-04-10_14-58-13',\n",
       "  'time_this_iter_s': 0.09457659721374512,\n",
       "  'time_total_s': 2.1354544162750244,\n",
       "  'pid': 15488,\n",
       "  'hostname': 'coeus',\n",
       "  'node_ip': '10.1.1.204',\n",
       "  'config': {'batch_size': 32,\n",
       "   'embed_dim': 500,\n",
       "   'epochs': 30,\n",
       "   'lr': 0.19160283317175064,\n",
       "   'lr_gamma': 0.10709667500447448,\n",
       "   'max_norm': 0.2028041005756147,\n",
       "   'momentum': 0.8929662373845024,\n",
       "   'step_size': 6},\n",
       "  'time_since_restore': 2.1354544162750244,\n",
       "  'iterations_since_restore': 25})"
      ]
     },
     "execution_count": 96,
     "metadata": {},
     "output_type": "execute_result"
    }
   ],
   "source": [
    "next(x for x in best_checkpoints if x[0].path == best_checkpoint.path)"
   ]
  },
  {
   "cell_type": "code",
   "execution_count": 97,
   "id": "e8f04b0c-8f48-4f5a-a676-3507e4f65087",
   "metadata": {},
   "outputs": [
    {
     "data": {
      "text/plain": [
       "<All keys matched successfully>"
      ]
     },
     "execution_count": 97,
     "metadata": {},
     "output_type": "execute_result"
    }
   ],
   "source": [
    "state_dict = torch.load(os.path.join(best_checkpoint.path, \"model.pth\"))\n",
    "\n",
    "num_class = 2\n",
    "vocab_size = len(vocab)\n",
    "model = TextClassificationModel(vocab_size, best_result.config[\"embed_dim\"], num_class)\n",
    "model.load_state_dict(state_dict)"
   ]
  },
  {
   "cell_type": "code",
   "execution_count": 98,
   "id": "f6347499-bf86-4046-acf7-e5112a4e670b",
   "metadata": {},
   "outputs": [
    {
     "data": {
      "text/plain": [
       "TextClassificationModel(\n",
       "  (embedding): EmbeddingBag(4524, 500, mode='mean')\n",
       "  (fc): Linear(in_features=500, out_features=2, bias=True)\n",
       ")"
      ]
     },
     "execution_count": 98,
     "metadata": {},
     "output_type": "execute_result"
    }
   ],
   "source": [
    "model"
   ]
  },
  {
   "cell_type": "code",
   "execution_count": 99,
   "id": "c8999652-2e0e-4a50-b376-ceb8c0b172ec",
   "metadata": {},
   "outputs": [],
   "source": [
    "uq_path = today + \"_\" + \"_\".join(best_result.path.split(\"=\")[0].split(\"/\")[-2:])\n",
    "save_path = os.path.join('./models/simple_embeddings_baseline', uq_path + \"_model.pt\")"
   ]
  },
  {
   "cell_type": "code",
   "execution_count": 100,
   "id": "e6af6db0-96c1-4ce9-b67f-806616eceaa3",
   "metadata": {},
   "outputs": [],
   "source": [
    "torch.save(model, save_path)"
   ]
  },
  {
   "cell_type": "code",
   "execution_count": 113,
   "id": "64c208d1-320a-4f85-9e9b-ae4c6f64cddf",
   "metadata": {},
   "outputs": [
    {
     "data": {
      "text/plain": [
       "device(type='cuda')"
      ]
     },
     "execution_count": 113,
     "metadata": {},
     "output_type": "execute_result"
    }
   ],
   "source": [
    "device"
   ]
  },
  {
   "cell_type": "code",
   "execution_count": 30,
   "id": "d89c9eb2-5f27-44f2-aece-102a1dce295a",
   "metadata": {},
   "outputs": [],
   "source": [
    "model = torch.load(\"./models/simple_embeddings_baseline/2024-04-10_simple_embeddings_baseline_train_search_f8d74936_28_batch_size_model.pt\",\n",
    "                   map_location = device)"
   ]
  },
  {
   "cell_type": "code",
   "execution_count": 31,
   "id": "e0be9992-2784-4655-a0a1-84a020f072d5",
   "metadata": {},
   "outputs": [
    {
     "data": {
      "text/plain": [
       "TextClassificationModel(\n",
       "  (embedding): EmbeddingBag(4524, 500, mode='mean')\n",
       "  (fc): Linear(in_features=500, out_features=2, bias=True)\n",
       ")"
      ]
     },
     "execution_count": 31,
     "metadata": {},
     "output_type": "execute_result"
    }
   ],
   "source": [
    "model"
   ]
  },
  {
   "cell_type": "code",
   "execution_count": 108,
   "id": "fa136145-8362-4a5e-a72a-b176769798c5",
   "metadata": {},
   "outputs": [],
   "source": [
    "device = torch.device(\"cuda\" if torch.cuda.is_available() else \"cpu\")\n",
    "model = model.to(device, non_blocking=True)"
   ]
  },
  {
   "cell_type": "code",
   "execution_count": 32,
   "id": "4f37d875-d965-403c-a35e-6a844273645c",
   "metadata": {},
   "outputs": [
    {
     "data": {
      "text/html": [
       "<div>\n",
       "<style scoped>\n",
       "    .dataframe tbody tr th:only-of-type {\n",
       "        vertical-align: middle;\n",
       "    }\n",
       "\n",
       "    .dataframe tbody tr th {\n",
       "        vertical-align: top;\n",
       "    }\n",
       "\n",
       "    .dataframe thead th {\n",
       "        text-align: right;\n",
       "    }\n",
       "</style>\n",
       "<table border=\"1\" class=\"dataframe\">\n",
       "  <thead>\n",
       "    <tr style=\"text-align: right;\">\n",
       "      <th></th>\n",
       "      <th>E1</th>\n",
       "      <th>Text</th>\n",
       "    </tr>\n",
       "  </thead>\n",
       "  <tbody>\n",
       "    <tr>\n",
       "      <th>0</th>\n",
       "      <td>1</td>\n",
       "      <td>The FA shall interpret each ARINC 429 word as ...</td>\n",
       "    </tr>\n",
       "    <tr>\n",
       "      <th>1</th>\n",
       "      <td>1</td>\n",
       "      <td>The FA shall identify the validity of the data...</td>\n",
       "    </tr>\n",
       "    <tr>\n",
       "      <th>2</th>\n",
       "      <td>0</td>\n",
       "      <td>The FA shall identify the validity of the data...</td>\n",
       "    </tr>\n",
       "    <tr>\n",
       "      <th>3</th>\n",
       "      <td>0</td>\n",
       "      <td>The FA shall interpret each ARINC 429 word as ...</td>\n",
       "    </tr>\n",
       "    <tr>\n",
       "      <th>4</th>\n",
       "      <td>1</td>\n",
       "      <td>The FA shall interpret bits 8-1 to indicate th...</td>\n",
       "    </tr>\n",
       "  </tbody>\n",
       "</table>\n",
       "</div>"
      ],
      "text/plain": [
       "   E1                                               Text\n",
       "0   1  The FA shall interpret each ARINC 429 word as ...\n",
       "1   1  The FA shall identify the validity of the data...\n",
       "2   0  The FA shall identify the validity of the data...\n",
       "3   0  The FA shall interpret each ARINC 429 word as ...\n",
       "4   1  The FA shall interpret bits 8-1 to indicate th..."
      ]
     },
     "execution_count": 32,
     "metadata": {},
     "output_type": "execute_result"
    }
   ],
   "source": [
    "test_df = pd.read_excel('TestDataset.xlsx')\n",
    "test_df = test_df[['E1','Text']]\n",
    "#Convert E1 column values to integers\n",
    "test_df['E1'] = test_df['E1'].astype(int)\n",
    "test_df.head()"
   ]
  },
  {
   "cell_type": "code",
   "execution_count": 33,
   "id": "11f11448-2e22-4f8d-ad96-3e2494ac0694",
   "metadata": {},
   "outputs": [],
   "source": [
    "from torchtext.data.functional import to_map_style_dataset\n",
    "\n",
    "test_iter = iter(list(test_df.itertuples(index=False, name=None)))\n",
    "test_dataset = to_map_style_dataset(test_iter)\n",
    "    \n",
    "test_dataloader = DataLoader(test_dataset,\n",
    "                             batch_size=64,\n",
    "                             shuffle=False,\n",
    "                             collate_fn=collate_batch)"
   ]
  },
  {
   "cell_type": "code",
   "execution_count": 39,
   "id": "60a33f0e-103f-4451-90db-03ab0c950b00",
   "metadata": {},
   "outputs": [
    {
     "name": "stdout",
     "output_type": "stream",
     "text": [
      "              precision    recall  f1-score   support\n",
      "\n",
      "         0.0       0.55      0.72      0.63       210\n",
      "         1.0       0.60      0.41      0.49       210\n",
      "\n",
      "    accuracy                           0.57       420\n",
      "   macro avg       0.57      0.57      0.56       420\n",
      "weighted avg       0.57      0.57      0.56       420\n",
      "\n"
     ]
    },
    {
     "data": {
      "image/png": "[encoded data removed]",
      "text/plain": [
       "<Figure size 432x288 with 2 Axes>"
      ]
     },
     "metadata": {
      "needs_background": "light"
     },
     "output_type": "display_data"
    }
   ],
   "source": [
    "plot_confusion_matrix(model, test_dataloader)"
   ]
  },
  {
   "cell_type": "code",
   "execution_count": null,
   "id": "da13f43e-5b4a-4e97-9f4d-ca26e3d56416",
   "metadata": {},
   "outputs": [],
   "source": []
  }
 ],
 "metadata": {
  "kernelspec": {
   "display_name": "genety",
   "language": "python",
   "name": "genety"
  },
  "language_info": {
   "codemirror_mode": {
    "name": "ipython",
    "version": 3
   },
   "file_extension": ".py",
   "mimetype": "text/x-python",
   "name": "python",
   "nbconvert_exporter": "python",
   "pygments_lexer": "ipython3",
   "version": "3.9.12"
  }
 },
 "nbformat": 4,
 "nbformat_minor": 5
}
