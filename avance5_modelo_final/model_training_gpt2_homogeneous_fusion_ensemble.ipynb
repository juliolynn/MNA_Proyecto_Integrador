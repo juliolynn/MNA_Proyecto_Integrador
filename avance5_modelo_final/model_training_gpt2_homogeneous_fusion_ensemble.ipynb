{
 "cells": [
  {
   "cell_type": "markdown",
   "id": "682cc4d4-ebb1-4e48-b84e-1e62006da233",
   "metadata": {},
   "source": [
    "# Prerequisites"
   ]
  },
  {
   "cell_type": "code",
   "execution_count": 2,
   "id": "f61331a7-f1dd-442e-b58a-a5adb337fec1",
   "metadata": {},
   "outputs": [],
   "source": [
    "import os\n",
    "os.environ[\"CUDA_LAUNCH_BLOCKING\"] = \"1\"\n",
    "os.environ[\"PYTORCH_CUDA_ALLOC_CONF\"]=\"expandable_segments:True\""
   ]
  },
  {
   "cell_type": "code",
   "execution_count": 8,
   "id": "873ec5c8-c16a-4697-86b5-e22292d3266a",
   "metadata": {},
   "outputs": [],
   "source": [
    "import torch\n",
    "import torch.nn as nn\n",
    "from torch.utils.data import DataLoader\n",
    "from torch.utils.data.dataset import random_split\n",
    "from torchtext.data.functional import to_map_style_dataset\n",
    "\n",
    "from sklearn.model_selection  import train_test_split\n",
    "\n",
    "import numpy as np\n",
    "import pandas as pd\n",
    "from datetime import datetime, date\n",
    "import time\n",
    "\n",
    "# DeepSpeed ZeRO-3\n",
    "# import deepspeed\n",
    "# from deepspeed.accelerator import get_accelerator"
   ]
  },
  {
   "cell_type": "code",
   "execution_count": 9,
   "id": "edd5b450-0317-4c55-847e-7723042940f1",
   "metadata": {},
   "outputs": [
    {
     "name": "stdout",
     "output_type": "stream",
     "text": [
      "cuda\n"
     ]
    }
   ],
   "source": [
    "if torch.cuda.is_available():\n",
    "    device = torch.device('cuda')\n",
    "else:\n",
    "    device = torch.device('cpu')\n",
    "print(device)"
   ]
  },
  {
   "cell_type": "code",
   "execution_count": 10,
   "id": "77503e31",
   "metadata": {},
   "outputs": [
    {
     "name": "stdout",
     "output_type": "stream",
     "text": [
      "Free(GB): 22.8790283203125, Global(GB): 23.64971923828125, Free(%): 0.9674122593082944\n"
     ]
    }
   ],
   "source": [
    "(free_memory, global_memory) = torch.cuda.mem_get_info()\n",
    "print(f\"Free(GB): {free_memory/1024/1024/1024}, Global(GB): {global_memory/1024/1024/1024}, Free(%): {free_memory/global_memory}\")"
   ]
  },
  {
   "cell_type": "markdown",
   "id": "97c439d2-2280-4823-90dd-0867012b907c",
   "metadata": {},
   "source": [
    "# Load Excel File"
   ]
  },
  {
   "cell_type": "code",
   "execution_count": 11,
   "id": "a715f751-ab65-45a3-ae17-c795b8c78d1c",
   "metadata": {},
   "outputs": [
    {
     "data": {
      "text/html": [
       "<div>\n",
       "<style scoped>\n",
       "    .dataframe tbody tr th:only-of-type {\n",
       "        vertical-align: middle;\n",
       "    }\n",
       "\n",
       "    .dataframe tbody tr th {\n",
       "        vertical-align: top;\n",
       "    }\n",
       "\n",
       "    .dataframe thead th {\n",
       "        text-align: right;\n",
       "    }\n",
       "</style>\n",
       "<table border=\"1\" class=\"dataframe\">\n",
       "  <thead>\n",
       "    <tr style=\"text-align: right;\">\n",
       "      <th></th>\n",
       "      <th>Type</th>\n",
       "      <th>Identity</th>\n",
       "      <th>Text</th>\n",
       "      <th>A2-Unambiguous</th>\n",
       "      <th>A4-Tolerances</th>\n",
       "      <th>A5-Sources specified</th>\n",
       "      <th>E1</th>\n",
       "    </tr>\n",
       "  </thead>\n",
       "  <tbody>\n",
       "    <tr>\n",
       "      <th>0</th>\n",
       "      <td>ast_adc</td>\n",
       "      <td>HLRS_1747</td>\n",
       "      <td>Massive Data Broadcast shall immediately send ...</td>\n",
       "      <td>1</td>\n",
       "      <td>na</td>\n",
       "      <td>1</td>\n",
       "      <td>1</td>\n",
       "    </tr>\n",
       "    <tr>\n",
       "      <th>1</th>\n",
       "      <td>ast_adc</td>\n",
       "      <td>HLRS_6673</td>\n",
       "      <td>Massive Data Broadcast shall place a copied Re...</td>\n",
       "      <td>1</td>\n",
       "      <td>na</td>\n",
       "      <td>1</td>\n",
       "      <td>1</td>\n",
       "    </tr>\n",
       "    <tr>\n",
       "      <th>2</th>\n",
       "      <td>ast_adc</td>\n",
       "      <td>HLRS_2470</td>\n",
       "      <td>Massive Data Broadcast shall place a copied Ma...</td>\n",
       "      <td>1</td>\n",
       "      <td>na</td>\n",
       "      <td>1</td>\n",
       "      <td>1</td>\n",
       "    </tr>\n",
       "    <tr>\n",
       "      <th>3</th>\n",
       "      <td>ast_adc</td>\n",
       "      <td>HLRS_2467</td>\n",
       "      <td>Massive Data Broadcast shall send the current ...</td>\n",
       "      <td>1</td>\n",
       "      <td>na</td>\n",
       "      <td>na</td>\n",
       "      <td>1</td>\n",
       "    </tr>\n",
       "    <tr>\n",
       "      <th>4</th>\n",
       "      <td>ast_adc</td>\n",
       "      <td>HLRS_2468</td>\n",
       "      <td>Massive Data Broadcast shall send the current ...</td>\n",
       "      <td>1</td>\n",
       "      <td>na</td>\n",
       "      <td>na</td>\n",
       "      <td>1</td>\n",
       "    </tr>\n",
       "  </tbody>\n",
       "</table>\n",
       "</div>"
      ],
      "text/plain": [
       "      Type   Identity                                               Text  \\\n",
       "0  ast_adc  HLRS_1747  Massive Data Broadcast shall immediately send ...   \n",
       "1  ast_adc  HLRS_6673  Massive Data Broadcast shall place a copied Re...   \n",
       "2  ast_adc  HLRS_2470  Massive Data Broadcast shall place a copied Ma...   \n",
       "3  ast_adc  HLRS_2467  Massive Data Broadcast shall send the current ...   \n",
       "4  ast_adc  HLRS_2468  Massive Data Broadcast shall send the current ...   \n",
       "\n",
       "  A2-Unambiguous A4-Tolerances A5-Sources specified  E1  \n",
       "0              1            na                    1   1  \n",
       "1              1            na                    1   1  \n",
       "2              1            na                    1   1  \n",
       "3              1            na                   na   1  \n",
       "4              1            na                   na   1  "
      ]
     },
     "execution_count": 11,
     "metadata": {},
     "output_type": "execute_result"
    }
   ],
   "source": [
    "import pandas as pd\n",
    "master_df = pd.read_excel('./DATASETS/Training_Dataset.xlsx')\n",
    "master_df.head()"
   ]
  },
  {
   "cell_type": "code",
   "execution_count": 12,
   "id": "70bdf637-9e84-4cee-a95c-e5c7bd8075d6",
   "metadata": {},
   "outputs": [
    {
     "data": {
      "text/html": [
       "<div>\n",
       "<style scoped>\n",
       "    .dataframe tbody tr th:only-of-type {\n",
       "        vertical-align: middle;\n",
       "    }\n",
       "\n",
       "    .dataframe tbody tr th {\n",
       "        vertical-align: top;\n",
       "    }\n",
       "\n",
       "    .dataframe thead th {\n",
       "        text-align: right;\n",
       "    }\n",
       "</style>\n",
       "<table border=\"1\" class=\"dataframe\">\n",
       "  <thead>\n",
       "    <tr style=\"text-align: right;\">\n",
       "      <th></th>\n",
       "      <th>E1</th>\n",
       "      <th>Text</th>\n",
       "    </tr>\n",
       "  </thead>\n",
       "  <tbody>\n",
       "    <tr>\n",
       "      <th>0</th>\n",
       "      <td>1</td>\n",
       "      <td>Massive Data Broadcast shall immediately send ...</td>\n",
       "    </tr>\n",
       "    <tr>\n",
       "      <th>1</th>\n",
       "      <td>1</td>\n",
       "      <td>Massive Data Broadcast shall place a copied Re...</td>\n",
       "    </tr>\n",
       "    <tr>\n",
       "      <th>2</th>\n",
       "      <td>1</td>\n",
       "      <td>Massive Data Broadcast shall place a copied Ma...</td>\n",
       "    </tr>\n",
       "    <tr>\n",
       "      <th>3</th>\n",
       "      <td>1</td>\n",
       "      <td>Massive Data Broadcast shall send the current ...</td>\n",
       "    </tr>\n",
       "    <tr>\n",
       "      <th>4</th>\n",
       "      <td>1</td>\n",
       "      <td>Massive Data Broadcast shall send the current ...</td>\n",
       "    </tr>\n",
       "  </tbody>\n",
       "</table>\n",
       "</div>"
      ],
      "text/plain": [
       "   E1                                               Text\n",
       "0   1  Massive Data Broadcast shall immediately send ...\n",
       "1   1  Massive Data Broadcast shall place a copied Re...\n",
       "2   1  Massive Data Broadcast shall place a copied Ma...\n",
       "3   1  Massive Data Broadcast shall send the current ...\n",
       "4   1  Massive Data Broadcast shall send the current ..."
      ]
     },
     "execution_count": 12,
     "metadata": {},
     "output_type": "execute_result"
    }
   ],
   "source": [
    "model_df = master_df[['E1','Text']].copy()\n",
    "model_df.head()"
   ]
  },
  {
   "cell_type": "code",
   "execution_count": 13,
   "id": "9296d035-a173-4c8e-81d9-a30a5021dcc4",
   "metadata": {},
   "outputs": [
    {
     "name": "stdout",
     "output_type": "stream",
     "text": [
      "<class 'pandas.core.frame.DataFrame'>\n",
      "RangeIndex: 3124 entries, 0 to 3123\n",
      "Data columns (total 2 columns):\n",
      " #   Column  Non-Null Count  Dtype \n",
      "---  ------  --------------  ----- \n",
      " 0   E1      3124 non-null   int64 \n",
      " 1   Text    3124 non-null   object\n",
      "dtypes: int64(1), object(1)\n",
      "memory usage: 48.9+ KB\n"
     ]
    }
   ],
   "source": [
    "model_df.info()"
   ]
  },
  {
   "cell_type": "code",
   "execution_count": 14,
   "id": "c738bf70-5be7-4b1e-9d88-1e09f2f497a4",
   "metadata": {},
   "outputs": [
    {
     "data": {
      "text/plain": [
       "2127"
      ]
     },
     "execution_count": 14,
     "metadata": {},
     "output_type": "execute_result"
    }
   ],
   "source": [
    "model_df_label1 = model_df.query('E1 == 1')\n",
    "len(model_df_label1)"
   ]
  },
  {
   "cell_type": "code",
   "execution_count": 15,
   "id": "a967f2ce-ce0f-4aa7-8b6e-759011eef775",
   "metadata": {},
   "outputs": [
    {
     "data": {
      "text/plain": [
       "997"
      ]
     },
     "execution_count": 15,
     "metadata": {},
     "output_type": "execute_result"
    }
   ],
   "source": [
    "model_df_label0 = model_df.query('E1 == 0')\n",
    "len(model_df_label0)"
   ]
  },
  {
   "cell_type": "code",
   "execution_count": 16,
   "id": "8fceb9f5-cd13-4779-b8db-57ff9cda386f",
   "metadata": {},
   "outputs": [],
   "source": [
    "model_df = pd.concat([model_df_label1[500:1100],model_df_label0])"
   ]
  },
  {
   "cell_type": "markdown",
   "id": "4ea7716b-cbb9-40df-8796-9e2718512f6b",
   "metadata": {},
   "source": [
    "# Data process and tokenizer"
   ]
  },
  {
   "cell_type": "code",
   "execution_count": 17,
   "id": "e4e0084e-559e-46cc-b1a4-892e5e0fcb21",
   "metadata": {},
   "outputs": [],
   "source": [
    "from sklearn.model_selection  import train_test_split\n",
    "train_df, test_df = train_test_split(model_df, test_size=0.4, shuffle=True)\n",
    "val_df, test_df = train_test_split(test_df, test_size=0.5, shuffle=True)\n",
    "\n",
    "train_iter = iter(list(train_df.itertuples(index=False, name=None)))\n",
    "val_iter = iter(list(val_df.itertuples(index=False, name=None)))\n",
    "test_iter = iter(list(test_df.itertuples(index=False, name=None)))"
   ]
  },
  {
   "cell_type": "code",
   "execution_count": 18,
   "id": "e6daca09-ad60-40b6-90f2-e91c79aabb0c",
   "metadata": {},
   "outputs": [
    {
     "data": {
      "text/plain": [
       "958"
      ]
     },
     "execution_count": 18,
     "metadata": {},
     "output_type": "execute_result"
    }
   ],
   "source": [
    "len(train_df)"
   ]
  },
  {
   "cell_type": "code",
   "execution_count": 19,
   "id": "e6424905-7a3d-4fd5-a22d-f2be29be1f85",
   "metadata": {},
   "outputs": [
    {
     "name": "stderr",
     "output_type": "stream",
     "text": [
      "Using cache found in /home/it/.cache/torch/hub/huggingface_pytorch-transformers_main\n"
     ]
    }
   ],
   "source": [
    "tokenizer = torch.hub.load(\n",
    "    \"huggingface/pytorch-transformers\",\n",
    "    \"tokenizer\",\n",
    "    \"openai-community/gpt2\",\n",
    ")"
   ]
  },
  {
   "cell_type": "code",
   "execution_count": 20,
   "id": "dc4e1ac2-7bff-4984-8bf5-bde7daceef2a",
   "metadata": {},
   "outputs": [
    {
     "data": {
      "text/plain": [
       "GPT2TokenizerFast(name_or_path='openai-community/gpt2', vocab_size=50257, model_max_length=1024, is_fast=True, padding_side='right', truncation_side='right', special_tokens={'bos_token': '<|endoftext|>', 'eos_token': '<|endoftext|>', 'unk_token': '<|endoftext|>'}, clean_up_tokenization_spaces=True),  added_tokens_decoder={\n",
       "\t50256: AddedToken(\"<|endoftext|>\", rstrip=False, lstrip=False, single_word=False, normalized=True, special=True),\n",
       "}"
      ]
     },
     "execution_count": 20,
     "metadata": {},
     "output_type": "execute_result"
    }
   ],
   "source": [
    "tokenizer"
   ]
  },
  {
   "cell_type": "markdown",
   "id": "d24d1986-12ed-45c3-8a18-bd1ada1e9440",
   "metadata": {},
   "source": [
    "# Dataset iterator"
   ]
  },
  {
   "cell_type": "code",
   "execution_count": 21,
   "id": "880ea8d4-bae1-48bc-996e-d352db324265",
   "metadata": {},
   "outputs": [],
   "source": [
    "train_iter = iter(list(train_df.itertuples(index=False, name=None)))\n",
    "val_iter = iter(list(val_df.itertuples(index=False, name=None)))\n",
    "test_iter = iter(list(test_df.itertuples(index=False, name=None)))"
   ]
  },
  {
   "cell_type": "code",
   "execution_count": 22,
   "id": "78c4e14f-9c36-4343-ba96-f05c6eb3196e",
   "metadata": {},
   "outputs": [
    {
     "data": {
      "text/plain": [
       "(1,\n",
       " 'The Network Function shall support to configure up to and including 1 external connected Bluetooth device.')"
      ]
     },
     "execution_count": 22,
     "metadata": {},
     "output_type": "execute_result"
    }
   ],
   "source": [
    "next(train_iter)"
   ]
  },
  {
   "cell_type": "code",
   "execution_count": 23,
   "id": "092203c5-49af-4337-abbd-38851caa6e78",
   "metadata": {},
   "outputs": [],
   "source": [
    "from torch.utils.data import DataLoader\n",
    "\n",
    "# function passed to the DataLoader to process a batch of data as indicated\n",
    "tokenizer.pad_token = tokenizer.eos_token\n",
    "\n",
    "def collate_batch(batch):\n",
    "    # Get label and text\n",
    "    y, x = list(zip(*batch))\n",
    "\n",
    "    # Create list with indices from tokeniser\n",
    "    encoded_x = tokenizer(x, padding=True, truncation=True)\n",
    "    encoded_x.input_ids = torch.tensor(encoded_x.input_ids).to(device)\n",
    "    encoded_x.attention_mask = torch.tensor(encoded_x.attention_mask).to(device)  \n",
    "        \n",
    "    return encoded_x, torch.tensor(y, dtype=torch.long).to(device)"
   ]
  },
  {
   "cell_type": "code",
   "execution_count": 24,
   "id": "5a81c8d9-de06-4aed-9ff3-0c5f31985d1c",
   "metadata": {},
   "outputs": [
    {
     "name": "stdout",
     "output_type": "stream",
     "text": [
      "(1, 'The Network Function shall support to configure up to and including 1 external connected Bluetooth device.')\n",
      "(0, 'At initialization, if the server can connect to the service, it shall log a successful connection message using the LTS.')\n"
     ]
    },
    {
     "data": {
      "text/plain": [
       "({'input_ids': [[464, 7311, 15553, 2236, 1104, 284, 17425, 510, 284, 290, 1390, 352, 7097, 5884, 19263, 3335, 13, 50256, 50256, 50256, 50256, 50256, 50256, 50256], [2953, 37588, 11, 611, 262, 4382, 460, 2018, 284, 262, 2139, 11, 340, 2236, 2604, 257, 4388, 4637, 3275, 1262, 262, 406, 4694, 13]], 'attention_mask': [[1, 1, 1, 1, 1, 1, 1, 1, 1, 1, 1, 1, 1, 1, 1, 1, 1, 0, 0, 0, 0, 0, 0, 0], [1, 1, 1, 1, 1, 1, 1, 1, 1, 1, 1, 1, 1, 1, 1, 1, 1, 1, 1, 1, 1, 1, 1, 1]]},\n",
       " tensor([1, 0], device='cuda:0'))"
      ]
     },
     "execution_count": 24,
     "metadata": {},
     "output_type": "execute_result"
    }
   ],
   "source": [
    "train_iter = iter(list(train_df.itertuples(index=False, name=None)))\n",
    "first = next(train_iter)\n",
    "second = next(train_iter)\n",
    "\n",
    "print(first)\n",
    "print(second)\n",
    "\n",
    "collate_batch([first, second])"
   ]
  },
  {
   "cell_type": "markdown",
   "id": "8bf18db8-7d58-43c0-ac22-d3e225cb2ed1",
   "metadata": {},
   "source": [
    "# Define the model"
   ]
  },
  {
   "cell_type": "code",
   "execution_count": 53,
   "id": "c9b316c5-be90-4d2d-95db-ed43be219f3e",
   "metadata": {},
   "outputs": [],
   "source": [
    "def create_model():\n",
    "    model = torch.hub.load(\n",
    "        \"huggingface/pytorch-transformers\",\n",
    "        \"modelForSequenceClassification\",\n",
    "        \"openai-community/gpt2\"\n",
    "    )\n",
    "    \n",
    "    for i, parameter in enumerate(model.parameters()):\n",
    "        parameter.requires_grad = False\n",
    "    \n",
    "    model.score = nn.Sequential(\n",
    "        nn.Linear(in_features=768, out_features=2560),\n",
    "        nn.Dropout(),\n",
    "        nn.Linear(in_features=2560, out_features=2)\n",
    "    )\n",
    "    model.config.pad_token_id = tokenizer.pad_token_id\n",
    "    \n",
    "    # Initializing the weights with the Kaiming initialization method \n",
    "    torch.nn.init.kaiming_uniform_(model.score[0].weight, \n",
    "                                   a=0, mode=\"fan_in\", \n",
    "                                   nonlinearity=\"relu\") \n",
    "    \n",
    "    torch.nn.init.kaiming_uniform_(model.score[2].weight, \n",
    "                                   a=0, mode=\"fan_in\", \n",
    "                                   nonlinearity=\"relu\") \n",
    "    \n",
    "    return model"
   ]
  },
  {
   "cell_type": "code",
   "execution_count": 54,
   "id": "4d306ecb-d8ef-4389-ab6c-8fb803124ca1",
   "metadata": {},
   "outputs": [
    {
     "name": "stderr",
     "output_type": "stream",
     "text": [
      "Using cache found in /home/it/.cache/torch/hub/huggingface_pytorch-transformers_main\n",
      "Some weights of GPT2ForSequenceClassification were not initialized from the model checkpoint at openai-community/gpt2 and are newly initialized: ['score.weight']\n",
      "You should probably TRAIN this model on a down-stream task to be able to use it for predictions and inference.\n"
     ]
    }
   ],
   "source": [
    "model = create_model()"
   ]
  },
  {
   "cell_type": "code",
   "execution_count": 55,
   "id": "9fd9daab-93a4-44fb-8193-94c8039002e1",
   "metadata": {},
   "outputs": [
    {
     "data": {
      "text/plain": [
       "GPT2ForSequenceClassification(\n",
       "  (transformer): GPT2Model(\n",
       "    (wte): Embedding(50257, 768)\n",
       "    (wpe): Embedding(1024, 768)\n",
       "    (drop): Dropout(p=0.1, inplace=False)\n",
       "    (h): ModuleList(\n",
       "      (0-11): 12 x GPT2Block(\n",
       "        (ln_1): LayerNorm((768,), eps=1e-05, elementwise_affine=True)\n",
       "        (attn): GPT2Attention(\n",
       "          (c_attn): Conv1D()\n",
       "          (c_proj): Conv1D()\n",
       "          (attn_dropout): Dropout(p=0.1, inplace=False)\n",
       "          (resid_dropout): Dropout(p=0.1, inplace=False)\n",
       "        )\n",
       "        (ln_2): LayerNorm((768,), eps=1e-05, elementwise_affine=True)\n",
       "        (mlp): GPT2MLP(\n",
       "          (c_fc): Conv1D()\n",
       "          (c_proj): Conv1D()\n",
       "          (act): NewGELUActivation()\n",
       "          (dropout): Dropout(p=0.1, inplace=False)\n",
       "        )\n",
       "      )\n",
       "    )\n",
       "    (ln_f): LayerNorm((768,), eps=1e-05, elementwise_affine=True)\n",
       "  )\n",
       "  (score): Sequential(\n",
       "    (0): Linear(in_features=768, out_features=2560, bias=True)\n",
       "    (1): Dropout(p=0.5, inplace=False)\n",
       "    (2): Linear(in_features=2560, out_features=2, bias=True)\n",
       "  )\n",
       ")"
      ]
     },
     "execution_count": 55,
     "metadata": {},
     "output_type": "execute_result"
    }
   ],
   "source": [
    "model"
   ]
  },
  {
   "cell_type": "markdown",
   "id": "eeb77c97-b7ae-48c9-8b5b-4cfe48de221f",
   "metadata": {},
   "source": [
    "## Ensemble models"
   ]
  },
  {
   "cell_type": "code",
   "execution_count": 139,
   "id": "27ed20f2-a9d7-48ea-927d-83ecdbe62b80",
   "metadata": {},
   "outputs": [],
   "source": [
    "class GPT2Ensemble(nn.Module):\n",
    "    def __init__(self, model1, model2):\n",
    "        super(GPT2Ensemble, self).__init__()\n",
    "        self.model1 = model1\n",
    "        self.model2 = model2\n",
    "        self.voting = nn.Linear(4, 2) # input will be the logits of each model, the output will be the voting-based ensemble prediction\n",
    "    \n",
    "    def forward(self, input_ids, attention_mask):\n",
    "        outputs1 = model1(input_ids=input_ids, attention_mask=attention_mask)\n",
    "        outputs2 = model2(input_ids=input_ids, attention_mask=attention_mask)\n",
    "        estimators_outputs = torch.hstack((outputs1.logits, outputs2.logits))\n",
    "        prediction = self.voting(estimators_outputs)\n",
    "        return prediction\n",
    "        "
   ]
  },
  {
   "cell_type": "code",
   "execution_count": 140,
   "id": "d54495c7-c001-4e81-955d-b9aa62f0a159",
   "metadata": {},
   "outputs": [
    {
     "name": "stderr",
     "output_type": "stream",
     "text": [
      "Using cache found in /home/it/.cache/torch/hub/huggingface_pytorch-transformers_main\n",
      "Some weights of GPT2ForSequenceClassification were not initialized from the model checkpoint at openai-community/gpt2 and are newly initialized: ['score.weight']\n",
      "You should probably TRAIN this model on a down-stream task to be able to use it for predictions and inference.\n",
      "Using cache found in /home/it/.cache/torch/hub/huggingface_pytorch-transformers_main\n",
      "Some weights of GPT2ForSequenceClassification were not initialized from the model checkpoint at openai-community/gpt2 and are newly initialized: ['score.weight']\n",
      "You should probably TRAIN this model on a down-stream task to be able to use it for predictions and inference.\n"
     ]
    },
    {
     "data": {
      "text/plain": [
       "GPT2Ensemble(\n",
       "  (model1): GPT2ForSequenceClassification(\n",
       "    (transformer): GPT2Model(\n",
       "      (wte): Embedding(50257, 768)\n",
       "      (wpe): Embedding(1024, 768)\n",
       "      (drop): Dropout(p=0.1, inplace=False)\n",
       "      (h): ModuleList(\n",
       "        (0-11): 12 x GPT2Block(\n",
       "          (ln_1): LayerNorm((768,), eps=1e-05, elementwise_affine=True)\n",
       "          (attn): GPT2Attention(\n",
       "            (c_attn): Conv1D()\n",
       "            (c_proj): Conv1D()\n",
       "            (attn_dropout): Dropout(p=0.1, inplace=False)\n",
       "            (resid_dropout): Dropout(p=0.1, inplace=False)\n",
       "          )\n",
       "          (ln_2): LayerNorm((768,), eps=1e-05, elementwise_affine=True)\n",
       "          (mlp): GPT2MLP(\n",
       "            (c_fc): Conv1D()\n",
       "            (c_proj): Conv1D()\n",
       "            (act): NewGELUActivation()\n",
       "            (dropout): Dropout(p=0.1, inplace=False)\n",
       "          )\n",
       "        )\n",
       "      )\n",
       "      (ln_f): LayerNorm((768,), eps=1e-05, elementwise_affine=True)\n",
       "    )\n",
       "    (score): Sequential(\n",
       "      (0): Linear(in_features=768, out_features=2560, bias=True)\n",
       "      (1): Dropout(p=0.5, inplace=False)\n",
       "      (2): Linear(in_features=2560, out_features=2, bias=True)\n",
       "    )\n",
       "  )\n",
       "  (model2): GPT2ForSequenceClassification(\n",
       "    (transformer): GPT2Model(\n",
       "      (wte): Embedding(50257, 768)\n",
       "      (wpe): Embedding(1024, 768)\n",
       "      (drop): Dropout(p=0.1, inplace=False)\n",
       "      (h): ModuleList(\n",
       "        (0-11): 12 x GPT2Block(\n",
       "          (ln_1): LayerNorm((768,), eps=1e-05, elementwise_affine=True)\n",
       "          (attn): GPT2Attention(\n",
       "            (c_attn): Conv1D()\n",
       "            (c_proj): Conv1D()\n",
       "            (attn_dropout): Dropout(p=0.1, inplace=False)\n",
       "            (resid_dropout): Dropout(p=0.1, inplace=False)\n",
       "          )\n",
       "          (ln_2): LayerNorm((768,), eps=1e-05, elementwise_affine=True)\n",
       "          (mlp): GPT2MLP(\n",
       "            (c_fc): Conv1D()\n",
       "            (c_proj): Conv1D()\n",
       "            (act): NewGELUActivation()\n",
       "            (dropout): Dropout(p=0.1, inplace=False)\n",
       "          )\n",
       "        )\n",
       "      )\n",
       "      (ln_f): LayerNorm((768,), eps=1e-05, elementwise_affine=True)\n",
       "    )\n",
       "    (score): Sequential(\n",
       "      (0): Linear(in_features=768, out_features=2560, bias=True)\n",
       "      (1): Dropout(p=0.5, inplace=False)\n",
       "      (2): Linear(in_features=2560, out_features=2, bias=True)\n",
       "    )\n",
       "  )\n",
       "  (voting): Linear(in_features=4, out_features=2, bias=True)\n",
       ")"
      ]
     },
     "execution_count": 140,
     "metadata": {},
     "output_type": "execute_result"
    }
   ],
   "source": [
    "model1 = create_model()\n",
    "model2 = create_model()\n",
    "\n",
    "model = GPT2Ensemble(model1, model2)\n",
    "model"
   ]
  },
  {
   "cell_type": "markdown",
   "id": "2e1421e4-51bc-490c-b47d-01d83e0a28cf",
   "metadata": {},
   "source": [
    "# Train and eval functions"
   ]
  },
  {
   "cell_type": "code",
   "execution_count": 156,
   "id": "0a28ea92-68d0-44a7-9a5d-313ee209533f",
   "metadata": {},
   "outputs": [],
   "source": [
    "from datetime import datetime, date\n",
    "import time\n",
    "\n",
    "def train(model, dataloader, epoch):\n",
    "    \n",
    "    model.train()\n",
    "    total_acc, total_count = 0, 0\n",
    "    log_interval = 5\n",
    "    start_time = time.time()\n",
    "    total_loss = 0\n",
    "\n",
    "\n",
    "    for idx, (data, label) in enumerate(dataloader):         \n",
    "        optimizer.zero_grad()\n",
    "        \n",
    "        outputs = model(input_ids=data.input_ids, attention_mask=data.attention_mask)\n",
    "        predicted_label = outputs\n",
    "        loss = criterion(predicted_label, label)\n",
    "        \n",
    "        loss.backward()\n",
    "        torch.nn.utils.clip_grad_norm_(model.parameters(), 0.1)\n",
    "        optimizer.step()\n",
    "        total_acc += (predicted_label.argmax(1) == label).sum().item()\n",
    "        total_count += label.size(0)\n",
    "        total_loss += loss.item()\n",
    "        \n",
    "        if idx % log_interval == 0 and idx > 0:\n",
    "            elapsed = time.time() - start_time\n",
    "            print(\n",
    "                \"| epoch {:3d} | {:5d}/{:5d} batches \"\n",
    "                \"| accuracy {:8.3f} | {}\".format(\n",
    "                    epoch, idx, len(dataloader), total_acc / total_count, datetime.now().isoformat()\n",
    "                )\n",
    "            )\n",
    "            start_time = time.time()\n",
    "        \n",
    "     \n",
    "        \n",
    "    return total_acc / total_count, total_loss / total_count\n",
    "        \n",
    "\n",
    "def evaluate(model, dataloader):\n",
    "    model.eval()\n",
    "    total_acc, total_count = 0, 0\n",
    "\n",
    "    with torch.no_grad():\n",
    "        for idx, (data, label) in enumerate(dataloader):      \n",
    "            outputs = model(input_ids=data.input_ids, attention_mask=data.attention_mask)\n",
    "            predicted_label = outputs\n",
    "            loss = criterion(predicted_label, label)\n",
    "            \n",
    "            total_acc += (predicted_label.argmax(1) == label).sum().item()\n",
    "            total_count += label.size(0)\n",
    "\n",
    "    return total_acc / total_count, loss.item() / total_count"
   ]
  },
  {
   "cell_type": "markdown",
   "id": "aab0ddbc-f1e1-4662-a3d2-c09beafd25ed",
   "metadata": {},
   "source": [
    "# Split the dataset and run the model"
   ]
  },
  {
   "cell_type": "code",
   "execution_count": 157,
   "id": "ab8adb52-47f3-4740-952f-639d21a70d6c",
   "metadata": {
    "tags": []
   },
   "outputs": [],
   "source": [
    "from torch.utils.data.dataset import random_split\n",
    "from torchtext.data.functional import to_map_style_dataset\n",
    "\n",
    "BATCH_SIZE = 64  # batch size for training\n",
    "\n",
    "train_iter = iter(list(train_df.itertuples(index=False, name=None)))\n",
    "val_iter = iter(list(val_df.itertuples(index=False, name=None)))\n",
    "test_iter = iter(list(test_df.itertuples(index=False, name=None)))\n",
    "\n",
    "train_dataset = to_map_style_dataset(train_iter)\n",
    "val_dataset = to_map_style_dataset(val_iter)\n",
    "test_dataset = to_map_style_dataset(test_iter)\n",
    "\n",
    "train_dataloader = DataLoader(\n",
    "    train_dataset, batch_size=BATCH_SIZE, shuffle=True, collate_fn=collate_batch\n",
    ")\n",
    "valid_dataloader = DataLoader(\n",
    "    val_dataset, batch_size=BATCH_SIZE, shuffle=True, collate_fn=collate_batch\n",
    ")\n",
    "test_dataloader = DataLoader(\n",
    "    test_dataset, batch_size=BATCH_SIZE, shuffle=True, collate_fn=collate_batch\n",
    ")"
   ]
  },
  {
   "cell_type": "code",
   "execution_count": 163,
   "id": "b2abb8af-8fe2-4382-8adf-7d2af9cd8e09",
   "metadata": {
    "scrolled": true
   },
   "outputs": [],
   "source": [
    "today = date.today().isoformat()\n",
    "checkpoint_path = \"./models/gpt2\"\n",
    "model_name = \"gpt2\"\n",
    "\n",
    "# Hyperparameters\n",
    "EPOCHS = 20  # epoch\n",
    "LR = 0.1 # learning rate\n",
    "    \n",
    "criterion = torch.nn.CrossEntropyLoss()\n",
    "optimizer = torch.optim.Adam(model.parameters(), lr=LR)\n",
    "scheduler = torch.optim.lr_scheduler.StepLR(optimizer, 1.0, gamma=0.1)\n",
    "    \n",
    "def train_with_hist(model, checkpoint_path):\n",
    "    model = model.to(device)\n",
    "    \n",
    "    total_accu = None\n",
    "\n",
    "    loss_hist_train, loss_hist_valid, accuracy_hist_train, accuracy_hist_valid = [], [], [], []\n",
    "    for epoch in range(1, EPOCHS + 1):\n",
    "        epoch_start_time = time.time()\n",
    "        accu_train, loss_train = train(model, train_dataloader, epoch)\n",
    "        accu_val, loss_val = evaluate(model, valid_dataloader)\n",
    "        if total_accu is not None and total_accu > accu_val:\n",
    "            scheduler.step()\n",
    "            print(\"Learning rate took a step by the scheduler {:8.3f} > {:8.3f}\".format(total_accu, accu_val))\n",
    "        else:\n",
    "            total_accu = accu_val\n",
    "        print(\"-\" * 59)\n",
    "        print(\n",
    "            \"| end of epoch {:3d} | time: {:5.2f}s | \"\n",
    "            \"valid accuracy {:8.3f} \".format(\n",
    "                epoch, time.time() - epoch_start_time, accu_val\n",
    "            )\n",
    "        )\n",
    "        print(\"-\" * 59)\n",
    "\n",
    "        loss_hist_train.append(loss_train)\n",
    "        loss_hist_valid.append(loss_val)\n",
    "        accuracy_hist_train.append(accu_train)\n",
    "        accuracy_hist_valid.append(accu_val)\n",
    "        \n",
    "    torch.save(model, f'{checkpoint_path}/{today}_{model_name}.pt')\n",
    "    return loss_hist_train, loss_hist_valid, accuracy_hist_train, accuracy_hist_valid"
   ]
  },
  {
   "cell_type": "code",
   "execution_count": 164,
   "id": "00c4e1f4-9821-42a5-929f-e297c8cd9430",
   "metadata": {},
   "outputs": [],
   "source": [
    "import gc\n",
    "\n",
    "gc.collect()\n",
    "torch.cuda.empty_cache()"
   ]
  },
  {
   "cell_type": "code",
   "execution_count": 165,
   "id": "97e7023b-7888-4afe-906a-76ac56aacab8",
   "metadata": {
    "tags": []
   },
   "outputs": [
    {
     "name": "stdout",
     "output_type": "stream",
     "text": [
      "| epoch   1 |     5/   15 batches | accuracy    0.531 | 2024-05-31T22:12:25.835534\n",
      "| epoch   1 |    10/   15 batches | accuracy    0.615 | 2024-05-31T22:12:26.184348\n",
      "-----------------------------------------------------------\n",
      "| end of epoch   1 | time:  1.83s | valid accuracy    0.599 \n",
      "-----------------------------------------------------------\n",
      "| epoch   2 |     5/   15 batches | accuracy    0.526 | 2024-05-31T22:12:27.597008\n",
      "| epoch   2 |    10/   15 batches | accuracy    0.581 | 2024-05-31T22:12:27.980788\n",
      "Learning rate took a step by the scheduler    0.599 >    0.580\n",
      "-----------------------------------------------------------\n",
      "| end of epoch   2 | time:  1.78s | valid accuracy    0.580 \n",
      "-----------------------------------------------------------\n",
      "| epoch   3 |     5/   15 batches | accuracy    0.615 | 2024-05-31T22:12:29.407744\n",
      "| epoch   3 |    10/   15 batches | accuracy    0.665 | 2024-05-31T22:12:29.771968\n",
      "-----------------------------------------------------------\n",
      "| end of epoch   3 | time:  1.81s | valid accuracy    0.790 \n",
      "-----------------------------------------------------------\n",
      "| epoch   4 |     5/   15 batches | accuracy    0.760 | 2024-05-31T22:12:31.095979\n",
      "| epoch   4 |    10/   15 batches | accuracy    0.812 | 2024-05-31T22:12:31.508935\n",
      "-----------------------------------------------------------\n",
      "| end of epoch   4 | time:  1.81s | valid accuracy    0.934 \n",
      "-----------------------------------------------------------\n",
      "| epoch   5 |     5/   15 batches | accuracy    0.945 | 2024-05-31T22:12:32.993490\n",
      "| epoch   5 |    10/   15 batches | accuracy    0.916 | 2024-05-31T22:12:33.371714\n",
      "-----------------------------------------------------------\n",
      "| end of epoch   5 | time:  1.81s | valid accuracy    0.940 \n",
      "-----------------------------------------------------------\n",
      "| epoch   6 |     5/   15 batches | accuracy    0.909 | 2024-05-31T22:12:34.796852\n",
      "| epoch   6 |    10/   15 batches | accuracy    0.889 | 2024-05-31T22:12:35.169979\n",
      "-----------------------------------------------------------\n",
      "| end of epoch   6 | time:  1.78s | valid accuracy    0.947 \n",
      "-----------------------------------------------------------\n",
      "| epoch   7 |     5/   15 batches | accuracy    0.888 | 2024-05-31T22:12:36.578628\n",
      "| epoch   7 |    10/   15 batches | accuracy    0.869 | 2024-05-31T22:12:36.878399\n",
      "Learning rate took a step by the scheduler    0.947 >    0.934\n",
      "-----------------------------------------------------------\n",
      "| end of epoch   7 | time:  1.74s | valid accuracy    0.934 \n",
      "-----------------------------------------------------------\n",
      "| epoch   8 |     5/   15 batches | accuracy    0.924 | 2024-05-31T22:12:38.360560\n",
      "| epoch   8 |    10/   15 batches | accuracy    0.920 | 2024-05-31T22:12:38.769372\n",
      "Learning rate took a step by the scheduler    0.947 >    0.915\n",
      "-----------------------------------------------------------\n",
      "| end of epoch   8 | time:  1.88s | valid accuracy    0.915 \n",
      "-----------------------------------------------------------\n",
      "| epoch   9 |     5/   15 batches | accuracy    0.917 | 2024-05-31T22:12:40.261629\n",
      "| epoch   9 |    10/   15 batches | accuracy    0.915 | 2024-05-31T22:12:40.635833\n",
      "Learning rate took a step by the scheduler    0.947 >    0.934\n",
      "-----------------------------------------------------------\n",
      "| end of epoch   9 | time:  1.84s | valid accuracy    0.934 \n",
      "-----------------------------------------------------------\n",
      "| epoch  10 |     5/   15 batches | accuracy    0.930 | 2024-05-31T22:12:42.105484\n",
      "| epoch  10 |    10/   15 batches | accuracy    0.933 | 2024-05-31T22:12:42.410226\n",
      "Learning rate took a step by the scheduler    0.947 >    0.934\n",
      "-----------------------------------------------------------\n",
      "| end of epoch  10 | time:  1.78s | valid accuracy    0.934 \n",
      "-----------------------------------------------------------\n",
      "| epoch  11 |     5/   15 batches | accuracy    0.930 | 2024-05-31T22:12:43.834356\n",
      "| epoch  11 |    10/   15 batches | accuracy    0.919 | 2024-05-31T22:12:44.139187\n",
      "Learning rate took a step by the scheduler    0.947 >    0.934\n",
      "-----------------------------------------------------------\n",
      "| end of epoch  11 | time:  1.77s | valid accuracy    0.934 \n",
      "-----------------------------------------------------------\n",
      "| epoch  12 |     5/   15 batches | accuracy    0.911 | 2024-05-31T22:12:45.554976\n",
      "| epoch  12 |    10/   15 batches | accuracy    0.918 | 2024-05-31T22:12:45.965772\n",
      "Learning rate took a step by the scheduler    0.947 >    0.934\n",
      "-----------------------------------------------------------\n",
      "| end of epoch  12 | time:  1.76s | valid accuracy    0.934 \n",
      "-----------------------------------------------------------\n",
      "| epoch  13 |     5/   15 batches | accuracy    0.932 | 2024-05-31T22:12:47.364045\n",
      "| epoch  13 |    10/   15 batches | accuracy    0.926 | 2024-05-31T22:12:47.813006\n",
      "Learning rate took a step by the scheduler    0.947 >    0.934\n",
      "-----------------------------------------------------------\n",
      "| end of epoch  13 | time:  1.80s | valid accuracy    0.934 \n",
      "-----------------------------------------------------------\n",
      "| epoch  14 |     5/   15 batches | accuracy    0.904 | 2024-05-31T22:12:49.170654\n",
      "| epoch  14 |    10/   15 batches | accuracy    0.912 | 2024-05-31T22:12:49.560605\n",
      "Learning rate took a step by the scheduler    0.947 >    0.934\n",
      "-----------------------------------------------------------\n",
      "| end of epoch  14 | time:  1.87s | valid accuracy    0.934 \n",
      "-----------------------------------------------------------\n",
      "| epoch  15 |     5/   15 batches | accuracy    0.906 | 2024-05-31T22:12:51.102958\n",
      "| epoch  15 |    10/   15 batches | accuracy    0.916 | 2024-05-31T22:12:51.472232\n",
      "Learning rate took a step by the scheduler    0.947 >    0.934\n",
      "-----------------------------------------------------------\n",
      "| end of epoch  15 | time:  1.84s | valid accuracy    0.934 \n",
      "-----------------------------------------------------------\n",
      "| epoch  16 |     5/   15 batches | accuracy    0.935 | 2024-05-31T22:12:52.885069\n",
      "| epoch  16 |    10/   15 batches | accuracy    0.936 | 2024-05-31T22:12:53.332674\n",
      "Learning rate took a step by the scheduler    0.947 >    0.934\n",
      "-----------------------------------------------------------\n",
      "| end of epoch  16 | time:  1.82s | valid accuracy    0.934 \n",
      "-----------------------------------------------------------\n",
      "| epoch  17 |     5/   15 batches | accuracy    0.924 | 2024-05-31T22:12:54.621441\n",
      "| epoch  17 |    10/   15 batches | accuracy    0.919 | 2024-05-31T22:12:55.018650\n",
      "Learning rate took a step by the scheduler    0.947 >    0.934\n",
      "-----------------------------------------------------------\n",
      "| end of epoch  17 | time:  1.75s | valid accuracy    0.934 \n",
      "-----------------------------------------------------------\n",
      "| epoch  18 |     5/   15 batches | accuracy    0.938 | 2024-05-31T22:12:56.448456\n",
      "| epoch  18 |    10/   15 batches | accuracy    0.925 | 2024-05-31T22:12:56.800713\n",
      "Learning rate took a step by the scheduler    0.947 >    0.934\n",
      "-----------------------------------------------------------\n",
      "| end of epoch  18 | time:  1.85s | valid accuracy    0.934 \n",
      "-----------------------------------------------------------\n",
      "| epoch  19 |     5/   15 batches | accuracy    0.919 | 2024-05-31T22:12:58.255468\n",
      "| epoch  19 |    10/   15 batches | accuracy    0.920 | 2024-05-31T22:12:58.650524\n",
      "Learning rate took a step by the scheduler    0.947 >    0.934\n",
      "-----------------------------------------------------------\n",
      "| end of epoch  19 | time:  1.81s | valid accuracy    0.934 \n",
      "-----------------------------------------------------------\n",
      "| epoch  20 |     5/   15 batches | accuracy    0.919 | 2024-05-31T22:13:00.109273\n",
      "| epoch  20 |    10/   15 batches | accuracy    0.928 | 2024-05-31T22:13:00.508758\n",
      "Learning rate took a step by the scheduler    0.947 >    0.934\n",
      "-----------------------------------------------------------\n",
      "| end of epoch  20 | time:  1.85s | valid accuracy    0.934 \n",
      "-----------------------------------------------------------\n"
     ]
    }
   ],
   "source": [
    "hist = train_with_hist(model, checkpoint_path)"
   ]
  },
  {
   "cell_type": "code",
   "execution_count": 166,
   "id": "0d3a2a32-9601-4458-82d3-b169d7e74ad6",
   "metadata": {},
   "outputs": [],
   "source": [
    "import numpy as np\n",
    "import matplotlib.pyplot as plt\n",
    "def plot_learning_curves(hist):\n",
    "    x_arr = np.arange(len(hist[0])) + 1\n",
    "    fig = plt.figure(figsize=(12, 4))\n",
    "    ax = fig.add_subplot(1, 2, 1)\n",
    "    ax.plot(x_arr, hist[0], '-o', label='Train loss')\n",
    "    ax.plot(x_arr, hist[1], '--<', label='Validation loss')\n",
    "    ax.legend(fontsize=15)\n",
    "    ax = fig.add_subplot(1, 2, 2)\n",
    "    ax.plot(x_arr, hist[2], '-o', label='Train acc.')\n",
    "    ax.plot(x_arr, hist[3], '--<', label='Validation acc.')\n",
    "    ax.legend(fontsize=15)\n",
    "    ax.set_xlabel('Epoch', size=15)\n",
    "    ax.set_ylabel('Accuracy', size=15)\n",
    "    plt.show()"
   ]
  },
  {
   "cell_type": "code",
   "execution_count": 167,
   "id": "ad6a0c1b-3a25-4cff-96c6-3266913e208e",
   "metadata": {},
   "outputs": [
    {
     "data": {
      "image/png": "[encoded data removed]",
      "text/plain": [
       "<Figure size 1200x400 with 2 Axes>"
      ]
     },
     "metadata": {},
     "output_type": "display_data"
    }
   ],
   "source": [
    "plot_learning_curves(hist)"
   ]
  },
  {
   "cell_type": "markdown",
   "id": "ae3a230c-2886-4676-9a87-6bac8b503bb4",
   "metadata": {},
   "source": [
    "### Evaluate the model with test dataset"
   ]
  },
  {
   "cell_type": "markdown",
   "id": "f29c316c-7bce-4176-b1fa-00dd769a6a1a",
   "metadata": {},
   "source": [
    "Checking the results of the test dataset…\n",
    "\n"
   ]
  },
  {
   "cell_type": "code",
   "execution_count": 168,
   "id": "ebc0b680-b1de-4aee-bad4-baf7f50b9f0e",
   "metadata": {
    "collapsed": false,
    "jupyter": {
     "outputs_hidden": false
    }
   },
   "outputs": [
    {
     "name": "stdout",
     "output_type": "stream",
     "text": [
      "Checking the results of test dataset.\n",
      "test accuracy    0.931\n"
     ]
    }
   ],
   "source": [
    "print(\"Checking the results of test dataset.\")\n",
    "accu_test, _ = evaluate(model, test_dataloader)\n",
    "print(\"test accuracy {:8.3f}\".format(accu_test))"
   ]
  },
  {
   "cell_type": "code",
   "execution_count": 171,
   "id": "ef9b09f4-0640-4e59-aefc-9d2d136d9f3f",
   "metadata": {},
   "outputs": [],
   "source": [
    "# create confusion matrix\n",
    "from sklearn.metrics import classification_report, confusion_matrix\n",
    "import seaborn as sns\n",
    "\n",
    "def plot_confusion_matrix(model, dataloader):\n",
    "    model.eval()\n",
    "    y_test = np.asarray([])\n",
    "    y_predict = np.asarray([])\n",
    "\n",
    "    with torch.no_grad():\n",
    "        for idx, (data, label) in enumerate(dataloader):\n",
    "            outputs = model(input_ids=data.input_ids, attention_mask=data.attention_mask)\n",
    "            predicted_label = outputs\n",
    "                  \n",
    "            y_test = np.concatenate((y_test, np.asarray(label.to(device='cpu', dtype=torch.long))), axis=None)\n",
    "            y_predict = np.concatenate((y_predict, np.asarray((predicted_label.argmax(1).to(device='cpu', dtype=torch.long)))), axis=None)\n",
    "\n",
    "    cm = confusion_matrix(y_test, y_predict)\n",
    "    sns.heatmap(cm, annot=True, fmt = \"d\")\n",
    "    print(classification_report(y_test, y_predict))"
   ]
  },
  {
   "cell_type": "code",
   "execution_count": 172,
   "id": "2efeb419-1df7-4e6c-8814-ddf3294b9b90",
   "metadata": {},
   "outputs": [
    {
     "name": "stdout",
     "output_type": "stream",
     "text": [
      "              precision    recall  f1-score   support\n",
      "\n",
      "         0.0       0.97      0.91      0.94       198\n",
      "         1.0       0.87      0.96      0.91       122\n",
      "\n",
      "    accuracy                           0.93       320\n",
      "   macro avg       0.92      0.94      0.93       320\n",
      "weighted avg       0.93      0.93      0.93       320\n",
      "\n"
     ]
    },
    {
     "data": {
      "image/png": "[encoded data removed]",
      "text/plain": [
       "<Figure size 640x480 with 2 Axes>"
      ]
     },
     "metadata": {},
     "output_type": "display_data"
    }
   ],
   "source": [
    "plot_confusion_matrix(model, test_dataloader)"
   ]
  },
  {
   "cell_type": "code",
   "execution_count": 175,
   "id": "a457def5-9ac2-48c9-a2ef-69ead17b1834",
   "metadata": {},
   "outputs": [],
   "source": [
    "def predict(text):\n",
    "    with torch.no_grad():\n",
    "        encoded_text = tokenizer(text)\n",
    "        encoded_text.input_ids = torch.tensor(encoded_text.input_ids).to(device).unsqueeze(0)\n",
    "        encoded_text.attention_mask = torch.tensor(encoded_text.attention_mask).to(device).unsqueeze(0)\n",
    "\n",
    "        outputs = model(input_ids=encoded_text.input_ids, attention_mask=encoded_text.attention_mask)\n",
    "        predicted_label = outputs\n",
    "        return predicted_label.argmax(1).item()"
   ]
  },
  {
   "cell_type": "code",
   "execution_count": 176,
   "id": "40c741cb-e91b-406f-a1f7-3c0ff292ab24",
   "metadata": {},
   "outputs": [
    {
     "name": "stdout",
     "output_type": "stream",
     "text": [
      "This is a 1\n"
     ]
    }
   ],
   "source": [
    "ex_text_str = 'The ePump Software shall define Fault ID 1 as follows:'\n",
    "\n",
    "print(\"This is a %s\" % predict(ex_text_str))"
   ]
  },
  {
   "cell_type": "code",
   "execution_count": 177,
   "id": "61cc330f-c045-4453-a430-d19c5cac6bc1",
   "metadata": {},
   "outputs": [
    {
     "data": {
      "text/plain": [
       "1"
      ]
     },
     "execution_count": 177,
     "metadata": {},
     "output_type": "execute_result"
    }
   ],
   "source": [
    "pred_text = \"The IO Service shall select the XLR-PW DEV_INFO_DATA file if HPP_XLR_WIRING is grounded (logical 1) and bits AC_TYPE_BIT1 - AC_TYPE_BIT6 do not indicate a CFM engine configuration. NOTE: HPP_XLR_WIRING and bits AC_TYPE_BIT[1-6] are discrete inputs which are received on constant pins between hardware configurations. See 282100-ICD-x for more details.\"\n",
    "predict(pred_text)"
   ]
  },
  {
   "cell_type": "code",
   "execution_count": 178,
   "id": "587df1de-6144-420e-a789-7771209aeca0",
   "metadata": {},
   "outputs": [
    {
     "data": {
      "text/plain": [
       "0"
      ]
     },
     "execution_count": 178,
     "metadata": {},
     "output_type": "execute_result"
    }
   ],
   "source": [
    "pred_text = \"I shall like waffles\"\n",
    "predict(pred_text)"
   ]
  },
  {
   "cell_type": "code",
   "execution_count": 179,
   "id": "e3f924b4",
   "metadata": {},
   "outputs": [
    {
     "data": {
      "text/plain": [
       "0"
      ]
     },
     "execution_count": 179,
     "metadata": {},
     "output_type": "execute_result"
    }
   ],
   "source": [
    "pred_text = \"Bumblebe is red\"\n",
    "predict(pred_text)"
   ]
  },
  {
   "cell_type": "code",
   "execution_count": 180,
   "id": "0c0e6726",
   "metadata": {},
   "outputs": [
    {
     "data": {
      "text/plain": [
       "0"
      ]
     },
     "execution_count": 180,
     "metadata": {},
     "output_type": "execute_result"
    }
   ],
   "source": [
    "pred_text = \"Bumblebee is red\"\n",
    "predict(pred_text)"
   ]
  },
  {
   "cell_type": "code",
   "execution_count": null,
   "id": "a8f5f1d9-eeef-4d53-b3a9-abfac4069485",
   "metadata": {},
   "outputs": [],
   "source": []
  },
  {
   "cell_type": "markdown",
   "id": "6e8f4506",
   "metadata": {},
   "source": [
    "## Eval optimized model with test dataset"
   ]
  },
  {
   "cell_type": "code",
   "execution_count": 43,
   "id": "54383a43",
   "metadata": {},
   "outputs": [],
   "source": [
    "model = torch.load(\"./models/gpt2/2024-04-09_gpt2_train_search_75674ade_1_batch_size_model.pt\",\n",
    "                  # map_location=device\n",
    "                  )"
   ]
  },
  {
   "cell_type": "code",
   "execution_count": 182,
   "id": "4a97805f",
   "metadata": {},
   "outputs": [
    {
     "data": {
      "text/plain": [
       "device(type='cuda', index=0)"
      ]
     },
     "execution_count": 182,
     "metadata": {},
     "output_type": "execute_result"
    }
   ],
   "source": [
    "model.model1.device"
   ]
  },
  {
   "cell_type": "code",
   "execution_count": 183,
   "id": "d00d52d8",
   "metadata": {},
   "outputs": [
    {
     "data": {
      "text/html": [
       "<div>\n",
       "<style scoped>\n",
       "    .dataframe tbody tr th:only-of-type {\n",
       "        vertical-align: middle;\n",
       "    }\n",
       "\n",
       "    .dataframe tbody tr th {\n",
       "        vertical-align: top;\n",
       "    }\n",
       "\n",
       "    .dataframe thead th {\n",
       "        text-align: right;\n",
       "    }\n",
       "</style>\n",
       "<table border=\"1\" class=\"dataframe\">\n",
       "  <thead>\n",
       "    <tr style=\"text-align: right;\">\n",
       "      <th></th>\n",
       "      <th>E1</th>\n",
       "      <th>Text</th>\n",
       "    </tr>\n",
       "  </thead>\n",
       "  <tbody>\n",
       "    <tr>\n",
       "      <th>0</th>\n",
       "      <td>0</td>\n",
       "      <td>The BITE Service shall record all Shop Data.</td>\n",
       "    </tr>\n",
       "    <tr>\n",
       "      <th>1</th>\n",
       "      <td>0</td>\n",
       "      <td>If the CFDIU data is not available, the System...</td>\n",
       "    </tr>\n",
       "    <tr>\n",
       "      <th>2</th>\n",
       "      <td>0</td>\n",
       "      <td>The Connectivity Function shall monitor for an...</td>\n",
       "    </tr>\n",
       "    <tr>\n",
       "      <th>3</th>\n",
       "      <td>0</td>\n",
       "      <td>CF service shall send a data payload as UDP to...</td>\n",
       "    </tr>\n",
       "    <tr>\n",
       "      <th>4</th>\n",
       "      <td>0</td>\n",
       "      <td>The ESDM shall halt file transfers to the SD c...</td>\n",
       "    </tr>\n",
       "  </tbody>\n",
       "</table>\n",
       "</div>"
      ],
      "text/plain": [
       "   E1                                               Text\n",
       "0   0       The BITE Service shall record all Shop Data.\n",
       "1   0  If the CFDIU data is not available, the System...\n",
       "2   0  The Connectivity Function shall monitor for an...\n",
       "3   0  CF service shall send a data payload as UDP to...\n",
       "4   0  The ESDM shall halt file transfers to the SD c..."
      ]
     },
     "execution_count": 183,
     "metadata": {},
     "output_type": "execute_result"
    }
   ],
   "source": [
    "test_df = pd.read_excel('./DATASETS/Testing_Dataset.xlsx')\n",
    "test_df = test_df[['E1','Text']]\n",
    "#Convert E1 column values to integers\n",
    "test_df['E1'] = test_df['E1'].astype(int)\n",
    "test_df.head()"
   ]
  },
  {
   "cell_type": "code",
   "execution_count": 184,
   "id": "c8f3644a",
   "metadata": {},
   "outputs": [
    {
     "data": {
      "text/plain": [
       "GPT2TokenizerFast(name_or_path='openai-community/gpt2', vocab_size=50257, model_max_length=1024, is_fast=True, padding_side='right', truncation_side='right', special_tokens={'bos_token': '<|endoftext|>', 'eos_token': '<|endoftext|>', 'unk_token': '<|endoftext|>', 'pad_token': '<|endoftext|>'}, clean_up_tokenization_spaces=True),  added_tokens_decoder={\n",
       "\t50256: AddedToken(\"<|endoftext|>\", rstrip=False, lstrip=False, single_word=False, normalized=True, special=True),\n",
       "}"
      ]
     },
     "execution_count": 184,
     "metadata": {},
     "output_type": "execute_result"
    }
   ],
   "source": [
    "tokenizer"
   ]
  },
  {
   "cell_type": "code",
   "execution_count": 190,
   "id": "a343f995",
   "metadata": {},
   "outputs": [],
   "source": [
    "from torch.utils.data import DataLoader\n",
    "\n",
    "def collate_batch(batch):\n",
    "    # Get label and text\n",
    "    y, x = list(zip(*batch))\n",
    "\n",
    "    # Create list with indices from tokeniser\n",
    "    encoded_x = tokenizer(x, padding=True, truncation=True, return_tensors='pt')\n",
    "    encoded_x.input_ids = torch.tensor(encoded_x.input_ids).to(device)\n",
    "    encoded_x.attention_mask = torch.tensor(encoded_x.attention_mask).to(device)\n",
    "    \n",
    "    return encoded_x, torch.tensor(y, dtype=torch.long).to(device)"
   ]
  },
  {
   "cell_type": "code",
   "execution_count": 191,
   "id": "61847d77",
   "metadata": {},
   "outputs": [],
   "source": [
    "from torchtext.data.functional import to_map_style_dataset\n",
    "\n",
    "test_iter = iter(list(test_df.itertuples(index=False, name=None)))\n",
    "test_dataset = to_map_style_dataset(test_iter)\n",
    "    \n",
    "test_dataloader = DataLoader(test_dataset,\n",
    "                             batch_size=64,\n",
    "                             shuffle=False,\n",
    "                             collate_fn=collate_batch)"
   ]
  },
  {
   "cell_type": "code",
   "execution_count": 199,
   "id": "8cb43d1f",
   "metadata": {},
   "outputs": [],
   "source": [
    "# create confusion matrix\n",
    "from sklearn.metrics import classification_report, confusion_matrix\n",
    "import seaborn as sns\n",
    "\n",
    "def plot_confusion_matrix(model, dataloader):\n",
    "    model.eval()\n",
    "    y_test = np.asarray([])\n",
    "    y_predict = np.asarray([])\n",
    "\n",
    "    with torch.no_grad():\n",
    "        for idx, (data, label) in enumerate(dataloader):\n",
    "            outputs = model(input_ids=data.input_ids, attention_mask=data.attention_mask)\n",
    "            predicted_label = outputs\n",
    "                  \n",
    "            y_test = np.concatenate((y_test, np.asarray(label.to(device='cpu', dtype=torch.long))), axis=None)\n",
    "            y_predict = np.concatenate((y_predict, np.asarray((predicted_label.argmax(1).to(device='cpu', dtype=torch.long)))), axis=None)\n",
    "\n",
    "    cm = confusion_matrix(y_test, y_predict)\n",
    "    sns.heatmap(cm, annot=True, fmt = \"d\")\n",
    "    print(classification_report(y_test, y_predict))"
   ]
  },
  {
   "cell_type": "code",
   "execution_count": 200,
   "id": "ff9f2e70",
   "metadata": {},
   "outputs": [
    {
     "name": "stderr",
     "output_type": "stream",
     "text": [
      "/tmp/ipykernel_49968/67003502.py:9: UserWarning: To copy construct from a tensor, it is recommended to use sourceTensor.clone().detach() or sourceTensor.clone().detach().requires_grad_(True), rather than torch.tensor(sourceTensor).\n",
      "  encoded_x.input_ids = torch.tensor(encoded_x.input_ids).to(device)\n",
      "/tmp/ipykernel_49968/67003502.py:10: UserWarning: To copy construct from a tensor, it is recommended to use sourceTensor.clone().detach() or sourceTensor.clone().detach().requires_grad_(True), rather than torch.tensor(sourceTensor).\n",
      "  encoded_x.attention_mask = torch.tensor(encoded_x.attention_mask).to(device)\n"
     ]
    },
    {
     "name": "stdout",
     "output_type": "stream",
     "text": [
      "              precision    recall  f1-score   support\n",
      "\n",
      "         0.0       0.26      0.12      0.17       255\n",
      "         1.0       0.43      0.65      0.51       255\n",
      "\n",
      "    accuracy                           0.39       510\n",
      "   macro avg       0.34      0.39      0.34       510\n",
      "weighted avg       0.34      0.39      0.34       510\n",
      "\n"
     ]
    },
    {
     "data": {
      "image/png": "[encoded data removed]",
      "text/plain": [
       "<Figure size 640x480 with 2 Axes>"
      ]
     },
     "metadata": {},
     "output_type": "display_data"
    }
   ],
   "source": [
    "plot_confusion_matrix(model, test_dataloader)"
   ]
  },
  {
   "cell_type": "markdown",
   "id": "9d0b0df7",
   "metadata": {},
   "source": [
    "### ROC Curves"
   ]
  },
  {
   "cell_type": "code",
   "execution_count": 196,
   "id": "2b3eb8c4",
   "metadata": {},
   "outputs": [],
   "source": [
    "from sklearn.metrics import roc_curve, auc"
   ]
  },
  {
   "cell_type": "code",
   "execution_count": null,
   "id": "2209de67",
   "metadata": {},
   "outputs": [],
   "source": []
  },
  {
   "cell_type": "code",
   "execution_count": 197,
   "id": "9b34aa8d",
   "metadata": {},
   "outputs": [
    {
     "name": "stderr",
     "output_type": "stream",
     "text": [
      "/tmp/ipykernel_49968/67003502.py:9: UserWarning: To copy construct from a tensor, it is recommended to use sourceTensor.clone().detach() or sourceTensor.clone().detach().requires_grad_(True), rather than torch.tensor(sourceTensor).\n",
      "  encoded_x.input_ids = torch.tensor(encoded_x.input_ids).to(device)\n",
      "/tmp/ipykernel_49968/67003502.py:10: UserWarning: To copy construct from a tensor, it is recommended to use sourceTensor.clone().detach() or sourceTensor.clone().detach().requires_grad_(True), rather than torch.tensor(sourceTensor).\n",
      "  encoded_x.attention_mask = torch.tensor(encoded_x.attention_mask).to(device)\n"
     ]
    }
   ],
   "source": [
    "# Calc prediction to evaluate against ground truth\n",
    "model.eval()\n",
    "y_test = np.asarray([])\n",
    "y_predict = np.asarray([])\n",
    "\n",
    "with torch.no_grad():\n",
    "    for idx, (data, label) in enumerate(test_dataloader):\n",
    "        outputs = model(input_ids=data.input_ids, attention_mask=data.attention_mask)\n",
    "        predicted_label = outputs\n",
    "\n",
    "        y_test = np.concatenate((y_test, np.asarray(label.to(device='cpu', dtype=torch.long))), axis=None)\n",
    "        y_predict = np.concatenate((y_predict, np.asarray((predicted_label.argmax(1).to(device='cpu', dtype=torch.long)))), axis=None)"
   ]
  },
  {
   "cell_type": "code",
   "execution_count": 198,
   "id": "38163789",
   "metadata": {},
   "outputs": [
    {
     "data": {
      "image/png": "[encoded data removed]",
      "text/plain": [
       "<Figure size 640x480 with 1 Axes>"
      ]
     },
     "metadata": {},
     "output_type": "display_data"
    }
   ],
   "source": [
    "fpr, tpr, thresholds = roc_curve(y_test, y_predict) \n",
    "roc_auc = auc(fpr, tpr)\n",
    "# Plot the ROC curve\n",
    "plt.figure()  \n",
    "plt.plot(fpr, tpr, label='ROC curve (area = %0.2f)' % roc_auc)\n",
    "plt.plot([0, 1], [0, 1], 'k--', label='No Skill')\n",
    "plt.xlim([0.0, 1.0])\n",
    "plt.ylim([0.0, 1.05])\n",
    "plt.xlabel('False Positive Rate')\n",
    "plt.ylabel('True Positive Rate')\n",
    "plt.title('ROC Curve for Classification')\n",
    "plt.legend()\n",
    "plt.show()"
   ]
  },
  {
   "cell_type": "markdown",
   "id": "ab670e5c-f016-40aa-9103-d975ac9c6b8d",
   "metadata": {},
   "source": [
    "# Ensemble PyTorch"
   ]
  },
  {
   "cell_type": "code",
   "execution_count": null,
   "id": "d145c8bd-c993-494e-934e-ae13c1c97841",
   "metadata": {},
   "outputs": [],
   "source": [
    "num_models = 10\n"
   ]
  }
 ],
 "metadata": {
  "kernelspec": {
   "display_name": "Genety (conda)",
   "language": "python",
   "name": "genety-conda"
  },
  "language_info": {
   "codemirror_mode": {
    "name": "ipython",
    "version": 3
   },
   "file_extension": ".py",
   "mimetype": "text/x-python",
   "name": "python",
   "nbconvert_exporter": "python",
   "pygments_lexer": "ipython3",
   "version": "3.11.9"
  }
 },
 "nbformat": 4,
 "nbformat_minor": 5
}
